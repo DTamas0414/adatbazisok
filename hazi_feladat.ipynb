{
    "metadata": {
        "kernelspec": {
            "name": "SQL",
            "display_name": "SQL",
            "language": "sql"
        },
        "language_info": {
            "name": "sql",
            "version": ""
        }
    },
    "nbformat_minor": 2,
    "nbformat": 4,
    "cells": [
        {
            "cell_type": "code",
            "source": [
                "SELECT COUNT(SORSZAM) AS 'Sorok száma'\n",
                "FROM Rendeles_tetel"
            ],
            "metadata": {
                "azdata_cell_guid": "b0183700-6a38-40fe-b7f5-71fb631ae246",
                "language": "sql",
                "tags": []
            },
            "outputs": [
                {
                    "output_type": "display_data",
                    "data": {
                        "text/html": "(1 row affected)"
                    },
                    "metadata": {}
                },
                {
                    "output_type": "display_data",
                    "data": {
                        "text/html": "Total execution time: 00:00:00.028"
                    },
                    "metadata": {}
                },
                {
                    "output_type": "execute_result",
                    "metadata": {},
                    "execution_count": 13,
                    "data": {
                        "application/vnd.dataresource+json": {
                            "schema": {
                                "fields": [
                                    {
                                        "name": "Sorok száma"
                                    }
                                ]
                            },
                            "data": [
                                {
                                    "Sorok száma": "163179"
                                }
                            ]
                        },
                        "text/html": [
                            "<table>",
                            "<tr><th>Sorok száma</th></tr>",
                            "<tr><td>163179</td></tr>",
                            "</table>"
                        ]
                    }
                }
            ],
            "execution_count": 13
        },
        {
            "cell_type": "code",
            "source": [
                "SELECT NEM AS \"Nem\", MIN(SZULEV) AS \"Legidősebb születési éve\", AVG(SZULEV) AS \"Átlag szülteési év\", MAX(SZULEV) AS \"Legfiatalabb születési éve\"\n",
                "FROM Ugyfel\n",
                "GROUP BY NEM"
            ],
            "metadata": {
                "azdata_cell_guid": "01e9c599-68e3-4a6c-84b1-86b3c104d450",
                "language": "sql",
                "tags": [
                    "hide_input"
                ]
            },
            "outputs": [
                {
                    "output_type": "display_data",
                    "data": {
                        "text/html": "(2 rows affected)"
                    },
                    "metadata": {}
                },
                {
                    "output_type": "display_data",
                    "data": {
                        "text/html": "Total execution time: 00:00:00.014"
                    },
                    "metadata": {}
                },
                {
                    "output_type": "execute_result",
                    "metadata": {},
                    "execution_count": 35,
                    "data": {
                        "application/vnd.dataresource+json": {
                            "schema": {
                                "fields": [
                                    {
                                        "name": "Nem"
                                    },
                                    {
                                        "name": "Legidősebb születési éve"
                                    },
                                    {
                                        "name": "Átlag szülteési év"
                                    },
                                    {
                                        "name": "Legfiatalabb születési éve"
                                    }
                                ]
                            },
                            "data": [
                                {
                                    "Nem": "F",
                                    "Legidősebb születési éve": "1967",
                                    "Átlag szülteési év": "1982",
                                    "Legfiatalabb születési éve": "2000"
                                },
                                {
                                    "Nem": "N",
                                    "Legidősebb születési éve": "1967",
                                    "Átlag szülteési év": "1982",
                                    "Legfiatalabb születési éve": "1998"
                                }
                            ]
                        },
                        "text/html": [
                            "<table>",
                            "<tr><th>Nem</th><th>Legidősebb születési éve</th><th>Átlag szülteési év</th><th>Legfiatalabb születési éve</th></tr>",
                            "<tr><td>F</td><td>1967</td><td>1982</td><td>2000</td></tr>",
                            "<tr><td>N</td><td>1967</td><td>1982</td><td>1998</td></tr>",
                            "</table>"
                        ]
                    }
                }
            ],
            "execution_count": 35
        },
        {
            "cell_type": "code",
            "source": [
                "SELECT MIN(EGYSEGAR) AS 'Min egységár', AVG(EGYSEGAR) AS 'Átlag egységár', MAX(EGYSEGAR) AS 'Max egységár', MAX(EGYSEGAR)-MIN(EGYSEGAR) AS 'Eloszlás'\n",
                "FROM Rendeles_tetel\n",
                "WHERE EGYSEGAR IS NOT NULL AND EGYSEGAR > 0"
            ],
            "metadata": {
                "azdata_cell_guid": "2727c574-93b2-477a-83ff-431cba21bd1d",
                "language": "sql"
            },
            "outputs": [
                {
                    "output_type": "display_data",
                    "data": {
                        "text/html": "(1 row affected)"
                    },
                    "metadata": {}
                },
                {
                    "output_type": "display_data",
                    "data": {
                        "text/html": "Total execution time: 00:00:00.057"
                    },
                    "metadata": {}
                },
                {
                    "output_type": "execute_result",
                    "metadata": {},
                    "execution_count": 24,
                    "data": {
                        "application/vnd.dataresource+json": {
                            "schema": {
                                "fields": [
                                    {
                                        "name": "Min egységár"
                                    },
                                    {
                                        "name": "Átlag egységár"
                                    },
                                    {
                                        "name": "Max egységár"
                                    },
                                    {
                                        "name": "Eloszlás"
                                    }
                                ]
                            },
                            "data": [
                                {
                                    "Min egységár": "2",
                                    "Átlag egységár": "1874,5688759213758",
                                    "Max egységár": "46000",
                                    "Eloszlás": "45998"
                                }
                            ]
                        },
                        "text/html": [
                            "<table>",
                            "<tr><th>Min egységár</th><th>Átlag egységár</th><th>Max egységár</th><th>Eloszlás</th></tr>",
                            "<tr><td>2</td><td>1874,5688759213758</td><td>46000</td><td>45998</td></tr>",
                            "</table>"
                        ]
                    }
                }
            ],
            "execution_count": 24
        },
        {
            "cell_type": "code",
            "source": [
                "SELECT AVG(MENNYISEG) AS 'Átlag mennyiség', MAX(MENNYISEG) AS 'Max mennyiség'\n",
                "FROM Rendeles_tetel\n",
                "WHERE MENNYISEG IS NOT NULL AND MENNYISEG > 0"
            ],
            "metadata": {
                "azdata_cell_guid": "3471bbd5-2662-40f6-824c-e50d769afb87",
                "language": "sql"
            },
            "outputs": [
                {
                    "output_type": "display_data",
                    "data": {
                        "text/html": "(1 row affected)"
                    },
                    "metadata": {}
                },
                {
                    "output_type": "display_data",
                    "data": {
                        "text/html": "Total execution time: 00:00:00.058"
                    },
                    "metadata": {}
                },
                {
                    "output_type": "execute_result",
                    "metadata": {},
                    "execution_count": 36,
                    "data": {
                        "application/vnd.dataresource+json": {
                            "schema": {
                                "fields": [
                                    {
                                        "name": "Átlag mennyiség"
                                    },
                                    {
                                        "name": "Max mennyiség"
                                    }
                                ]
                            },
                            "data": [
                                {
                                    "Átlag mennyiség": "39,2081456559974",
                                    "Max mennyiség": "90"
                                }
                            ]
                        },
                        "text/html": [
                            "<table>",
                            "<tr><th>Átlag mennyiség</th><th>Max mennyiség</th></tr>",
                            "<tr><td>39,2081456559974</td><td>90</td></tr>",
                            "</table>"
                        ]
                    }
                }
            ],
            "execution_count": 36
        }
    ]
}