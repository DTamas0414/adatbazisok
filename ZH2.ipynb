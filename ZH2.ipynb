{
    "metadata": {
        "kernelspec": {
            "name": "SQL",
            "display_name": "SQL",
            "language": "sql"
        },
        "language_info": {
            "name": "sql",
            "version": ""
        }
    },
    "nbformat_minor": 2,
    "nbformat": 4,
    "cells": [
        {
            "cell_type": "code",
            "source": [
                "SELECT SZOBA_FK AS \"Szobaszám\", COUNT(*) AS \"Foglalások száma\"\r\n",
                "FROM FOGLALAS\r\n",
                "WHERE FELNOTT_SZAM > GYERMEK_SZAM\r\n",
                "GROUP BY ROLLUP(SZOBA_FK);"
            ],
            "metadata": {
                "azdata_cell_guid": "f34e198f-62bf-4d52-8bf5-17998de570f2",
                "language": "sql"
            },
            "outputs": [
                {
                    "output_type": "display_data",
                    "data": {
                        "text/html": "(190 rows affected)"
                    },
                    "metadata": {}
                },
                {
                    "output_type": "display_data",
                    "data": {
                        "text/html": "Total execution time: 00:00:00.009"
                    },
                    "metadata": {}
                },
                {
                    "output_type": "execute_result",
                    "metadata": {},
                    "execution_count": 18,
                    "data": {
                        "application/vnd.dataresource+json": {
                            "schema": {
                                "fields": [
                                    {
                                        "name": "Szobaszám"
                                    },
                                    {
                                        "name": "Foglalások száma"
                                    }
                                ]
                            },
                            "data": [
                                {
                                    "Szobaszám": "1",
                                    "Foglalások száma": "7"
                                },
                                {
                                    "Szobaszám": "2",
                                    "Foglalások száma": "2"
                                },
                                {
                                    "Szobaszám": "3",
                                    "Foglalások száma": "3"
                                },
                                {
                                    "Szobaszám": "4",
                                    "Foglalások száma": "5"
                                },
                                {
                                    "Szobaszám": "5",
                                    "Foglalások száma": "2"
                                },
                                {
                                    "Szobaszám": "6",
                                    "Foglalások száma": "5"
                                },
                                {
                                    "Szobaszám": "7",
                                    "Foglalások száma": "6"
                                },
                                {
                                    "Szobaszám": "8",
                                    "Foglalások száma": "5"
                                },
                                {
                                    "Szobaszám": "9",
                                    "Foglalások száma": "4"
                                },
                                {
                                    "Szobaszám": "10",
                                    "Foglalások száma": "4"
                                },
                                {
                                    "Szobaszám": "11",
                                    "Foglalások száma": "4"
                                },
                                {
                                    "Szobaszám": "12",
                                    "Foglalások száma": "7"
                                },
                                {
                                    "Szobaszám": "13",
                                    "Foglalások száma": "4"
                                },
                                {
                                    "Szobaszám": "14",
                                    "Foglalások száma": "3"
                                },
                                {
                                    "Szobaszám": "15",
                                    "Foglalások száma": "4"
                                },
                                {
                                    "Szobaszám": "16",
                                    "Foglalások száma": "1"
                                },
                                {
                                    "Szobaszám": "17",
                                    "Foglalások száma": "2"
                                },
                                {
                                    "Szobaszám": "18",
                                    "Foglalások száma": "3"
                                },
                                {
                                    "Szobaszám": "19",
                                    "Foglalások száma": "4"
                                },
                                {
                                    "Szobaszám": "20",
                                    "Foglalások száma": "5"
                                },
                                {
                                    "Szobaszám": "21",
                                    "Foglalások száma": "1"
                                },
                                {
                                    "Szobaszám": "22",
                                    "Foglalások száma": "2"
                                },
                                {
                                    "Szobaszám": "23",
                                    "Foglalások száma": "3"
                                },
                                {
                                    "Szobaszám": "24",
                                    "Foglalások száma": "3"
                                },
                                {
                                    "Szobaszám": "25",
                                    "Foglalások száma": "1"
                                },
                                {
                                    "Szobaszám": "27",
                                    "Foglalások száma": "5"
                                },
                                {
                                    "Szobaszám": "28",
                                    "Foglalások száma": "5"
                                },
                                {
                                    "Szobaszám": "29",
                                    "Foglalások száma": "3"
                                },
                                {
                                    "Szobaszám": "30",
                                    "Foglalások száma": "2"
                                },
                                {
                                    "Szobaszám": "31",
                                    "Foglalások száma": "1"
                                },
                                {
                                    "Szobaszám": "32",
                                    "Foglalások száma": "1"
                                },
                                {
                                    "Szobaszám": "33",
                                    "Foglalások száma": "3"
                                },
                                {
                                    "Szobaszám": "34",
                                    "Foglalások száma": "3"
                                },
                                {
                                    "Szobaszám": "35",
                                    "Foglalások száma": "6"
                                },
                                {
                                    "Szobaszám": "36",
                                    "Foglalások száma": "4"
                                },
                                {
                                    "Szobaszám": "37",
                                    "Foglalások száma": "2"
                                },
                                {
                                    "Szobaszám": "38",
                                    "Foglalások száma": "5"
                                },
                                {
                                    "Szobaszám": "39",
                                    "Foglalások száma": "4"
                                },
                                {
                                    "Szobaszám": "40",
                                    "Foglalások száma": "3"
                                },
                                {
                                    "Szobaszám": "41",
                                    "Foglalások száma": "1"
                                },
                                {
                                    "Szobaszám": "42",
                                    "Foglalások száma": "5"
                                },
                                {
                                    "Szobaszám": "43",
                                    "Foglalások száma": "4"
                                },
                                {
                                    "Szobaszám": "44",
                                    "Foglalások száma": "6"
                                },
                                {
                                    "Szobaszám": "45",
                                    "Foglalások száma": "4"
                                },
                                {
                                    "Szobaszám": "46",
                                    "Foglalások száma": "3"
                                },
                                {
                                    "Szobaszám": "47",
                                    "Foglalások száma": "2"
                                },
                                {
                                    "Szobaszám": "48",
                                    "Foglalások száma": "6"
                                },
                                {
                                    "Szobaszám": "49",
                                    "Foglalások száma": "5"
                                },
                                {
                                    "Szobaszám": "50",
                                    "Foglalások száma": "3"
                                },
                                {
                                    "Szobaszám": "51",
                                    "Foglalások száma": "3"
                                },
                                {
                                    "Szobaszám": "52",
                                    "Foglalások száma": "5"
                                },
                                {
                                    "Szobaszám": "54",
                                    "Foglalások száma": "4"
                                },
                                {
                                    "Szobaszám": "55",
                                    "Foglalások száma": "3"
                                },
                                {
                                    "Szobaszám": "56",
                                    "Foglalások száma": "1"
                                },
                                {
                                    "Szobaszám": "57",
                                    "Foglalások száma": "3"
                                },
                                {
                                    "Szobaszám": "58",
                                    "Foglalások száma": "8"
                                },
                                {
                                    "Szobaszám": "59",
                                    "Foglalások száma": "4"
                                },
                                {
                                    "Szobaszám": "60",
                                    "Foglalások száma": "1"
                                },
                                {
                                    "Szobaszám": "61",
                                    "Foglalások száma": "4"
                                },
                                {
                                    "Szobaszám": "62",
                                    "Foglalások száma": "3"
                                },
                                {
                                    "Szobaszám": "63",
                                    "Foglalások száma": "3"
                                },
                                {
                                    "Szobaszám": "64",
                                    "Foglalások száma": "5"
                                },
                                {
                                    "Szobaszám": "66",
                                    "Foglalások száma": "3"
                                },
                                {
                                    "Szobaszám": "67",
                                    "Foglalások száma": "2"
                                },
                                {
                                    "Szobaszám": "69",
                                    "Foglalások száma": "2"
                                },
                                {
                                    "Szobaszám": "70",
                                    "Foglalások száma": "8"
                                },
                                {
                                    "Szobaszám": "71",
                                    "Foglalások száma": "2"
                                },
                                {
                                    "Szobaszám": "72",
                                    "Foglalások száma": "2"
                                },
                                {
                                    "Szobaszám": "73",
                                    "Foglalások száma": "4"
                                },
                                {
                                    "Szobaszám": "74",
                                    "Foglalások száma": "8"
                                },
                                {
                                    "Szobaszám": "75",
                                    "Foglalások száma": "2"
                                },
                                {
                                    "Szobaszám": "76",
                                    "Foglalások száma": "2"
                                },
                                {
                                    "Szobaszám": "77",
                                    "Foglalások száma": "3"
                                },
                                {
                                    "Szobaszám": "78",
                                    "Foglalások száma": "3"
                                },
                                {
                                    "Szobaszám": "79",
                                    "Foglalások száma": "4"
                                },
                                {
                                    "Szobaszám": "80",
                                    "Foglalások száma": "5"
                                },
                                {
                                    "Szobaszám": "81",
                                    "Foglalások száma": "3"
                                },
                                {
                                    "Szobaszám": "82",
                                    "Foglalások száma": "5"
                                },
                                {
                                    "Szobaszám": "83",
                                    "Foglalások száma": "5"
                                },
                                {
                                    "Szobaszám": "84",
                                    "Foglalások száma": "3"
                                },
                                {
                                    "Szobaszám": "85",
                                    "Foglalások száma": "2"
                                },
                                {
                                    "Szobaszám": "86",
                                    "Foglalások száma": "4"
                                },
                                {
                                    "Szobaszám": "87",
                                    "Foglalások száma": "5"
                                },
                                {
                                    "Szobaszám": "88",
                                    "Foglalások száma": "5"
                                },
                                {
                                    "Szobaszám": "89",
                                    "Foglalások száma": "8"
                                },
                                {
                                    "Szobaszám": "90",
                                    "Foglalások száma": "3"
                                },
                                {
                                    "Szobaszám": "91",
                                    "Foglalások száma": "2"
                                },
                                {
                                    "Szobaszám": "92",
                                    "Foglalások száma": "5"
                                },
                                {
                                    "Szobaszám": "93",
                                    "Foglalások száma": "3"
                                },
                                {
                                    "Szobaszám": "94",
                                    "Foglalások száma": "6"
                                },
                                {
                                    "Szobaszám": "95",
                                    "Foglalások száma": "3"
                                },
                                {
                                    "Szobaszám": "96",
                                    "Foglalások száma": "6"
                                },
                                {
                                    "Szobaszám": "97",
                                    "Foglalások száma": "5"
                                },
                                {
                                    "Szobaszám": "98",
                                    "Foglalások száma": "4"
                                },
                                {
                                    "Szobaszám": "99",
                                    "Foglalások száma": "4"
                                },
                                {
                                    "Szobaszám": "100",
                                    "Foglalások száma": "2"
                                },
                                {
                                    "Szobaszám": "101",
                                    "Foglalások száma": "1"
                                },
                                {
                                    "Szobaszám": "102",
                                    "Foglalások száma": "1"
                                },
                                {
                                    "Szobaszám": "103",
                                    "Foglalások száma": "1"
                                },
                                {
                                    "Szobaszám": "104",
                                    "Foglalások száma": "3"
                                },
                                {
                                    "Szobaszám": "106",
                                    "Foglalások száma": "4"
                                },
                                {
                                    "Szobaszám": "107",
                                    "Foglalások száma": "4"
                                },
                                {
                                    "Szobaszám": "108",
                                    "Foglalások száma": "1"
                                },
                                {
                                    "Szobaszám": "109",
                                    "Foglalások száma": "2"
                                },
                                {
                                    "Szobaszám": "110",
                                    "Foglalások száma": "5"
                                },
                                {
                                    "Szobaszám": "111",
                                    "Foglalások száma": "1"
                                },
                                {
                                    "Szobaszám": "112",
                                    "Foglalások száma": "4"
                                },
                                {
                                    "Szobaszám": "113",
                                    "Foglalások száma": "2"
                                },
                                {
                                    "Szobaszám": "114",
                                    "Foglalások száma": "1"
                                },
                                {
                                    "Szobaszám": "115",
                                    "Foglalások száma": "5"
                                },
                                {
                                    "Szobaszám": "117",
                                    "Foglalások száma": "4"
                                },
                                {
                                    "Szobaszám": "118",
                                    "Foglalások száma": "2"
                                },
                                {
                                    "Szobaszám": "119",
                                    "Foglalások száma": "4"
                                },
                                {
                                    "Szobaszám": "120",
                                    "Foglalások száma": "2"
                                },
                                {
                                    "Szobaszám": "121",
                                    "Foglalások száma": "5"
                                },
                                {
                                    "Szobaszám": "122",
                                    "Foglalások száma": "3"
                                },
                                {
                                    "Szobaszám": "123",
                                    "Foglalások száma": "5"
                                },
                                {
                                    "Szobaszám": "124",
                                    "Foglalások száma": "4"
                                },
                                {
                                    "Szobaszám": "126",
                                    "Foglalások száma": "4"
                                },
                                {
                                    "Szobaszám": "127",
                                    "Foglalások száma": "5"
                                },
                                {
                                    "Szobaszám": "129",
                                    "Foglalások száma": "3"
                                },
                                {
                                    "Szobaszám": "130",
                                    "Foglalások száma": "5"
                                },
                                {
                                    "Szobaszám": "131",
                                    "Foglalások száma": "4"
                                },
                                {
                                    "Szobaszám": "132",
                                    "Foglalások száma": "4"
                                },
                                {
                                    "Szobaszám": "133",
                                    "Foglalások száma": "4"
                                },
                                {
                                    "Szobaszám": "134",
                                    "Foglalások száma": "4"
                                },
                                {
                                    "Szobaszám": "135",
                                    "Foglalások száma": "3"
                                },
                                {
                                    "Szobaszám": "136",
                                    "Foglalások száma": "2"
                                },
                                {
                                    "Szobaszám": "137",
                                    "Foglalások száma": "2"
                                },
                                {
                                    "Szobaszám": "138",
                                    "Foglalások száma": "5"
                                },
                                {
                                    "Szobaszám": "139",
                                    "Foglalások száma": "6"
                                },
                                {
                                    "Szobaszám": "140",
                                    "Foglalások száma": "5"
                                },
                                {
                                    "Szobaszám": "141",
                                    "Foglalások száma": "4"
                                },
                                {
                                    "Szobaszám": "142",
                                    "Foglalások száma": "1"
                                },
                                {
                                    "Szobaszám": "143",
                                    "Foglalások száma": "5"
                                },
                                {
                                    "Szobaszám": "144",
                                    "Foglalások száma": "2"
                                },
                                {
                                    "Szobaszám": "145",
                                    "Foglalások száma": "2"
                                },
                                {
                                    "Szobaszám": "146",
                                    "Foglalások száma": "3"
                                },
                                {
                                    "Szobaszám": "147",
                                    "Foglalások száma": "1"
                                },
                                {
                                    "Szobaszám": "148",
                                    "Foglalások száma": "5"
                                },
                                {
                                    "Szobaszám": "149",
                                    "Foglalások száma": "5"
                                },
                                {
                                    "Szobaszám": "150",
                                    "Foglalások száma": "6"
                                },
                                {
                                    "Szobaszám": "151",
                                    "Foglalások száma": "2"
                                },
                                {
                                    "Szobaszám": "152",
                                    "Foglalások száma": "3"
                                },
                                {
                                    "Szobaszám": "153",
                                    "Foglalások száma": "4"
                                },
                                {
                                    "Szobaszám": "154",
                                    "Foglalások száma": "3"
                                },
                                {
                                    "Szobaszám": "155",
                                    "Foglalások száma": "3"
                                },
                                {
                                    "Szobaszám": "156",
                                    "Foglalások száma": "2"
                                },
                                {
                                    "Szobaszám": "157",
                                    "Foglalások száma": "2"
                                },
                                {
                                    "Szobaszám": "158",
                                    "Foglalások száma": "3"
                                },
                                {
                                    "Szobaszám": "160",
                                    "Foglalások száma": "2"
                                },
                                {
                                    "Szobaszám": "161",
                                    "Foglalások száma": "3"
                                },
                                {
                                    "Szobaszám": "162",
                                    "Foglalások száma": "2"
                                },
                                {
                                    "Szobaszám": "163",
                                    "Foglalások száma": "5"
                                },
                                {
                                    "Szobaszám": "164",
                                    "Foglalások száma": "4"
                                },
                                {
                                    "Szobaszám": "165",
                                    "Foglalások száma": "5"
                                },
                                {
                                    "Szobaszám": "166",
                                    "Foglalások száma": "3"
                                },
                                {
                                    "Szobaszám": "167",
                                    "Foglalások száma": "2"
                                },
                                {
                                    "Szobaszám": "168",
                                    "Foglalások száma": "1"
                                },
                                {
                                    "Szobaszám": "169",
                                    "Foglalások száma": "3"
                                },
                                {
                                    "Szobaszám": "170",
                                    "Foglalások száma": "3"
                                },
                                {
                                    "Szobaszám": "171",
                                    "Foglalások száma": "5"
                                },
                                {
                                    "Szobaszám": "172",
                                    "Foglalások száma": "6"
                                },
                                {
                                    "Szobaszám": "173",
                                    "Foglalások száma": "3"
                                },
                                {
                                    "Szobaszám": "174",
                                    "Foglalások száma": "4"
                                },
                                {
                                    "Szobaszám": "175",
                                    "Foglalások száma": "3"
                                },
                                {
                                    "Szobaszám": "176",
                                    "Foglalások száma": "2"
                                },
                                {
                                    "Szobaszám": "177",
                                    "Foglalások száma": "1"
                                },
                                {
                                    "Szobaszám": "178",
                                    "Foglalások száma": "1"
                                },
                                {
                                    "Szobaszám": "179",
                                    "Foglalások száma": "2"
                                },
                                {
                                    "Szobaszám": "180",
                                    "Foglalások száma": "1"
                                },
                                {
                                    "Szobaszám": "181",
                                    "Foglalások száma": "5"
                                },
                                {
                                    "Szobaszám": "182",
                                    "Foglalások száma": "11"
                                },
                                {
                                    "Szobaszám": "183",
                                    "Foglalások száma": "3"
                                },
                                {
                                    "Szobaszám": "184",
                                    "Foglalások száma": "4"
                                },
                                {
                                    "Szobaszám": "185",
                                    "Foglalások száma": "10"
                                },
                                {
                                    "Szobaszám": "186",
                                    "Foglalások száma": "1"
                                },
                                {
                                    "Szobaszám": "187",
                                    "Foglalások száma": "6"
                                },
                                {
                                    "Szobaszám": "188",
                                    "Foglalások száma": "2"
                                },
                                {
                                    "Szobaszám": "189",
                                    "Foglalások száma": "1"
                                },
                                {
                                    "Szobaszám": "190",
                                    "Foglalások száma": "5"
                                },
                                {
                                    "Szobaszám": "191",
                                    "Foglalások száma": "3"
                                },
                                {
                                    "Szobaszám": "192",
                                    "Foglalások száma": "1"
                                },
                                {
                                    "Szobaszám": "193",
                                    "Foglalások száma": "2"
                                },
                                {
                                    "Szobaszám": "194",
                                    "Foglalások száma": "1"
                                },
                                {
                                    "Szobaszám": "195",
                                    "Foglalások száma": "5"
                                },
                                {
                                    "Szobaszám": "196",
                                    "Foglalások száma": "2"
                                },
                                {
                                    "Szobaszám": "197",
                                    "Foglalások száma": "6"
                                },
                                {
                                    "Szobaszám": "198",
                                    "Foglalások száma": "7"
                                },
                                {
                                    "Szobaszám": "NULL",
                                    "Foglalások száma": "668"
                                }
                            ]
                        },
                        "text/html": [
                            "<table>",
                            "<tr><th>Szobaszám</th><th>Foglalások száma</th></tr>",
                            "<tr><td>1</td><td>7</td></tr>",
                            "<tr><td>2</td><td>2</td></tr>",
                            "<tr><td>3</td><td>3</td></tr>",
                            "<tr><td>4</td><td>5</td></tr>",
                            "<tr><td>5</td><td>2</td></tr>",
                            "<tr><td>6</td><td>5</td></tr>",
                            "<tr><td>7</td><td>6</td></tr>",
                            "<tr><td>8</td><td>5</td></tr>",
                            "<tr><td>9</td><td>4</td></tr>",
                            "<tr><td>10</td><td>4</td></tr>",
                            "<tr><td>11</td><td>4</td></tr>",
                            "<tr><td>12</td><td>7</td></tr>",
                            "<tr><td>13</td><td>4</td></tr>",
                            "<tr><td>14</td><td>3</td></tr>",
                            "<tr><td>15</td><td>4</td></tr>",
                            "<tr><td>16</td><td>1</td></tr>",
                            "<tr><td>17</td><td>2</td></tr>",
                            "<tr><td>18</td><td>3</td></tr>",
                            "<tr><td>19</td><td>4</td></tr>",
                            "<tr><td>20</td><td>5</td></tr>",
                            "<tr><td>21</td><td>1</td></tr>",
                            "<tr><td>22</td><td>2</td></tr>",
                            "<tr><td>23</td><td>3</td></tr>",
                            "<tr><td>24</td><td>3</td></tr>",
                            "<tr><td>25</td><td>1</td></tr>",
                            "<tr><td>27</td><td>5</td></tr>",
                            "<tr><td>28</td><td>5</td></tr>",
                            "<tr><td>29</td><td>3</td></tr>",
                            "<tr><td>30</td><td>2</td></tr>",
                            "<tr><td>31</td><td>1</td></tr>",
                            "<tr><td>32</td><td>1</td></tr>",
                            "<tr><td>33</td><td>3</td></tr>",
                            "<tr><td>34</td><td>3</td></tr>",
                            "<tr><td>35</td><td>6</td></tr>",
                            "<tr><td>36</td><td>4</td></tr>",
                            "<tr><td>37</td><td>2</td></tr>",
                            "<tr><td>38</td><td>5</td></tr>",
                            "<tr><td>39</td><td>4</td></tr>",
                            "<tr><td>40</td><td>3</td></tr>",
                            "<tr><td>41</td><td>1</td></tr>",
                            "<tr><td>42</td><td>5</td></tr>",
                            "<tr><td>43</td><td>4</td></tr>",
                            "<tr><td>44</td><td>6</td></tr>",
                            "<tr><td>45</td><td>4</td></tr>",
                            "<tr><td>46</td><td>3</td></tr>",
                            "<tr><td>47</td><td>2</td></tr>",
                            "<tr><td>48</td><td>6</td></tr>",
                            "<tr><td>49</td><td>5</td></tr>",
                            "<tr><td>50</td><td>3</td></tr>",
                            "<tr><td>51</td><td>3</td></tr>",
                            "<tr><td>52</td><td>5</td></tr>",
                            "<tr><td>54</td><td>4</td></tr>",
                            "<tr><td>55</td><td>3</td></tr>",
                            "<tr><td>56</td><td>1</td></tr>",
                            "<tr><td>57</td><td>3</td></tr>",
                            "<tr><td>58</td><td>8</td></tr>",
                            "<tr><td>59</td><td>4</td></tr>",
                            "<tr><td>60</td><td>1</td></tr>",
                            "<tr><td>61</td><td>4</td></tr>",
                            "<tr><td>62</td><td>3</td></tr>",
                            "<tr><td>63</td><td>3</td></tr>",
                            "<tr><td>64</td><td>5</td></tr>",
                            "<tr><td>66</td><td>3</td></tr>",
                            "<tr><td>67</td><td>2</td></tr>",
                            "<tr><td>69</td><td>2</td></tr>",
                            "<tr><td>70</td><td>8</td></tr>",
                            "<tr><td>71</td><td>2</td></tr>",
                            "<tr><td>72</td><td>2</td></tr>",
                            "<tr><td>73</td><td>4</td></tr>",
                            "<tr><td>74</td><td>8</td></tr>",
                            "<tr><td>75</td><td>2</td></tr>",
                            "<tr><td>76</td><td>2</td></tr>",
                            "<tr><td>77</td><td>3</td></tr>",
                            "<tr><td>78</td><td>3</td></tr>",
                            "<tr><td>79</td><td>4</td></tr>",
                            "<tr><td>80</td><td>5</td></tr>",
                            "<tr><td>81</td><td>3</td></tr>",
                            "<tr><td>82</td><td>5</td></tr>",
                            "<tr><td>83</td><td>5</td></tr>",
                            "<tr><td>84</td><td>3</td></tr>",
                            "<tr><td>85</td><td>2</td></tr>",
                            "<tr><td>86</td><td>4</td></tr>",
                            "<tr><td>87</td><td>5</td></tr>",
                            "<tr><td>88</td><td>5</td></tr>",
                            "<tr><td>89</td><td>8</td></tr>",
                            "<tr><td>90</td><td>3</td></tr>",
                            "<tr><td>91</td><td>2</td></tr>",
                            "<tr><td>92</td><td>5</td></tr>",
                            "<tr><td>93</td><td>3</td></tr>",
                            "<tr><td>94</td><td>6</td></tr>",
                            "<tr><td>95</td><td>3</td></tr>",
                            "<tr><td>96</td><td>6</td></tr>",
                            "<tr><td>97</td><td>5</td></tr>",
                            "<tr><td>98</td><td>4</td></tr>",
                            "<tr><td>99</td><td>4</td></tr>",
                            "<tr><td>100</td><td>2</td></tr>",
                            "<tr><td>101</td><td>1</td></tr>",
                            "<tr><td>102</td><td>1</td></tr>",
                            "<tr><td>103</td><td>1</td></tr>",
                            "<tr><td>104</td><td>3</td></tr>",
                            "<tr><td>106</td><td>4</td></tr>",
                            "<tr><td>107</td><td>4</td></tr>",
                            "<tr><td>108</td><td>1</td></tr>",
                            "<tr><td>109</td><td>2</td></tr>",
                            "<tr><td>110</td><td>5</td></tr>",
                            "<tr><td>111</td><td>1</td></tr>",
                            "<tr><td>112</td><td>4</td></tr>",
                            "<tr><td>113</td><td>2</td></tr>",
                            "<tr><td>114</td><td>1</td></tr>",
                            "<tr><td>115</td><td>5</td></tr>",
                            "<tr><td>117</td><td>4</td></tr>",
                            "<tr><td>118</td><td>2</td></tr>",
                            "<tr><td>119</td><td>4</td></tr>",
                            "<tr><td>120</td><td>2</td></tr>",
                            "<tr><td>121</td><td>5</td></tr>",
                            "<tr><td>122</td><td>3</td></tr>",
                            "<tr><td>123</td><td>5</td></tr>",
                            "<tr><td>124</td><td>4</td></tr>",
                            "<tr><td>126</td><td>4</td></tr>",
                            "<tr><td>127</td><td>5</td></tr>",
                            "<tr><td>129</td><td>3</td></tr>",
                            "<tr><td>130</td><td>5</td></tr>",
                            "<tr><td>131</td><td>4</td></tr>",
                            "<tr><td>132</td><td>4</td></tr>",
                            "<tr><td>133</td><td>4</td></tr>",
                            "<tr><td>134</td><td>4</td></tr>",
                            "<tr><td>135</td><td>3</td></tr>",
                            "<tr><td>136</td><td>2</td></tr>",
                            "<tr><td>137</td><td>2</td></tr>",
                            "<tr><td>138</td><td>5</td></tr>",
                            "<tr><td>139</td><td>6</td></tr>",
                            "<tr><td>140</td><td>5</td></tr>",
                            "<tr><td>141</td><td>4</td></tr>",
                            "<tr><td>142</td><td>1</td></tr>",
                            "<tr><td>143</td><td>5</td></tr>",
                            "<tr><td>144</td><td>2</td></tr>",
                            "<tr><td>145</td><td>2</td></tr>",
                            "<tr><td>146</td><td>3</td></tr>",
                            "<tr><td>147</td><td>1</td></tr>",
                            "<tr><td>148</td><td>5</td></tr>",
                            "<tr><td>149</td><td>5</td></tr>",
                            "<tr><td>150</td><td>6</td></tr>",
                            "<tr><td>151</td><td>2</td></tr>",
                            "<tr><td>152</td><td>3</td></tr>",
                            "<tr><td>153</td><td>4</td></tr>",
                            "<tr><td>154</td><td>3</td></tr>",
                            "<tr><td>155</td><td>3</td></tr>",
                            "<tr><td>156</td><td>2</td></tr>",
                            "<tr><td>157</td><td>2</td></tr>",
                            "<tr><td>158</td><td>3</td></tr>",
                            "<tr><td>160</td><td>2</td></tr>",
                            "<tr><td>161</td><td>3</td></tr>",
                            "<tr><td>162</td><td>2</td></tr>",
                            "<tr><td>163</td><td>5</td></tr>",
                            "<tr><td>164</td><td>4</td></tr>",
                            "<tr><td>165</td><td>5</td></tr>",
                            "<tr><td>166</td><td>3</td></tr>",
                            "<tr><td>167</td><td>2</td></tr>",
                            "<tr><td>168</td><td>1</td></tr>",
                            "<tr><td>169</td><td>3</td></tr>",
                            "<tr><td>170</td><td>3</td></tr>",
                            "<tr><td>171</td><td>5</td></tr>",
                            "<tr><td>172</td><td>6</td></tr>",
                            "<tr><td>173</td><td>3</td></tr>",
                            "<tr><td>174</td><td>4</td></tr>",
                            "<tr><td>175</td><td>3</td></tr>",
                            "<tr><td>176</td><td>2</td></tr>",
                            "<tr><td>177</td><td>1</td></tr>",
                            "<tr><td>178</td><td>1</td></tr>",
                            "<tr><td>179</td><td>2</td></tr>",
                            "<tr><td>180</td><td>1</td></tr>",
                            "<tr><td>181</td><td>5</td></tr>",
                            "<tr><td>182</td><td>11</td></tr>",
                            "<tr><td>183</td><td>3</td></tr>",
                            "<tr><td>184</td><td>4</td></tr>",
                            "<tr><td>185</td><td>10</td></tr>",
                            "<tr><td>186</td><td>1</td></tr>",
                            "<tr><td>187</td><td>6</td></tr>",
                            "<tr><td>188</td><td>2</td></tr>",
                            "<tr><td>189</td><td>1</td></tr>",
                            "<tr><td>190</td><td>5</td></tr>",
                            "<tr><td>191</td><td>3</td></tr>",
                            "<tr><td>192</td><td>1</td></tr>",
                            "<tr><td>193</td><td>2</td></tr>",
                            "<tr><td>194</td><td>1</td></tr>",
                            "<tr><td>195</td><td>5</td></tr>",
                            "<tr><td>196</td><td>2</td></tr>",
                            "<tr><td>197</td><td>6</td></tr>",
                            "<tr><td>198</td><td>7</td></tr>",
                            "<tr><td>NULL</td><td>668</td></tr>",
                            "</table>"
                        ]
                    }
                }
            ],
            "execution_count": 18
        },
        {
            "cell_type": "code",
            "source": [
                "SELECT CASE WHEN (foglalas.FELNOTT_SZAM + foglalas.GYERMEK_SZAM) < (SELECT AVG(FELNOTT_SZAM + GYERMEK_SZAM) FROM FOGLALAS) THEN 'Átlag alatti'\r\n",
                "END AS Kategoria,\r\n",
                "foglalas.FOGLALAS_PK,\r\n",
                "foglalas.SZOBA_FK,\r\n",
                "foglalas.UGYFEL_FK,\r\n",
                "foglalas.FELNOTT_SZAM,\r\n",
                "foglalas.GYERMEK_SZAM,\r\n",
                "foglalas.METTOL,\r\n",
                "foglalas.MEDDIG,\r\n",
                "vendeg.NEV AS \"Ügyfél neve\",\r\n",
                "AVG(foglalas.FELNOTT_SZAM + foglalas.GYERMEK_SZAM)\r\n",
                "OVER (PARTITION BY foglalas.UGYFEL_FK ORDER BY foglalas.FOGLALAS_PK ROWS BETWEEN 3 PRECEDING AND 1 PRECEDING) AS \"Előző 3 foglalás átlaga\"\r\n",
                "FROM FOGLALAS JOIN VENDEG ON foglalas.UGYFEL_FK = vendeg.USERNEV\r\n",
                "WHERE (foglalas.FELNOTT_SZAM + foglalas.GYERMEK_SZAM) < (SELECT AVG(FELNOTT_SZAM + GYERMEK_SZAM) FROM FOGLALAS);"
            ],
            "metadata": {
                "azdata_cell_guid": "e684d4c8-296b-4eaa-aa30-d184f954dea7",
                "language": "sql"
            },
            "outputs": [
                {
                    "output_type": "display_data",
                    "data": {
                        "text/html": "(147 rows affected)"
                    },
                    "metadata": {}
                },
                {
                    "output_type": "display_data",
                    "data": {
                        "text/html": "Total execution time: 00:00:00.013"
                    },
                    "metadata": {}
                },
                {
                    "output_type": "execute_result",
                    "metadata": {},
                    "execution_count": 19,
                    "data": {
                        "application/vnd.dataresource+json": {
                            "schema": {
                                "fields": [
                                    {
                                        "name": "Kategoria"
                                    },
                                    {
                                        "name": "FOGLALAS_PK"
                                    },
                                    {
                                        "name": "SZOBA_FK"
                                    },
                                    {
                                        "name": "UGYFEL_FK"
                                    },
                                    {
                                        "name": "FELNOTT_SZAM"
                                    },
                                    {
                                        "name": "GYERMEK_SZAM"
                                    },
                                    {
                                        "name": "METTOL"
                                    },
                                    {
                                        "name": "MEDDIG"
                                    },
                                    {
                                        "name": "Ügyfél neve"
                                    },
                                    {
                                        "name": "Előző 3 foglalás átlaga"
                                    }
                                ]
                            },
                            "data": [
                                {
                                    "Kategoria": "Átlag alatti",
                                    "FOGLALAS_PK": "803",
                                    "SZOBA_FK": "1",
                                    "UGYFEL_FK": "adam1",
                                    "FELNOTT_SZAM": "1",
                                    "GYERMEK_SZAM": "0",
                                    "METTOL": "2016-08-20",
                                    "MEDDIG": "2016-08-24",
                                    "Ügyfél neve": "Kiss Ádám",
                                    "Előző 3 foglalás átlaga": "NULL"
                                },
                                {
                                    "Kategoria": "Átlag alatti",
                                    "FOGLALAS_PK": "1504",
                                    "SZOBA_FK": "57",
                                    "UGYFEL_FK": "adam3",
                                    "FELNOTT_SZAM": "1",
                                    "GYERMEK_SZAM": "0",
                                    "METTOL": "2017-02-06",
                                    "MEDDIG": "2017-02-10",
                                    "Ügyfél neve": "Barkóci Ádám",
                                    "Előző 3 foglalás átlaga": "NULL"
                                },
                                {
                                    "Kategoria": "Átlag alatti",
                                    "FOGLALAS_PK": "857",
                                    "SZOBA_FK": "165",
                                    "UGYFEL_FK": "agnes",
                                    "FELNOTT_SZAM": "1",
                                    "GYERMEK_SZAM": "0",
                                    "METTOL": "2016-05-25",
                                    "MEDDIG": "2016-05-30",
                                    "Ügyfél neve": "Lengyel Ágnes",
                                    "Előző 3 foglalás átlaga": "NULL"
                                },
                                {
                                    "Kategoria": "Átlag alatti",
                                    "FOGLALAS_PK": "755",
                                    "SZOBA_FK": "20",
                                    "UGYFEL_FK": "agnes3",
                                    "FELNOTT_SZAM": "1",
                                    "GYERMEK_SZAM": "0",
                                    "METTOL": "2016-08-04",
                                    "MEDDIG": "2016-08-10",
                                    "Ügyfél neve": "Hartyánszky Ágnes",
                                    "Előző 3 foglalás átlaga": "NULL"
                                },
                                {
                                    "Kategoria": "Átlag alatti",
                                    "FOGLALAS_PK": "980",
                                    "SZOBA_FK": "143",
                                    "UGYFEL_FK": "AGNESH",
                                    "FELNOTT_SZAM": "1",
                                    "GYERMEK_SZAM": "0",
                                    "METTOL": "2016-06-23",
                                    "MEDDIG": "2016-06-26",
                                    "Ügyfél neve": "Horváth Ágnes",
                                    "Előző 3 foglalás átlaga": "NULL"
                                },
                                {
                                    "Kategoria": "Átlag alatti",
                                    "FOGLALAS_PK": "1225",
                                    "SZOBA_FK": "69",
                                    "UGYFEL_FK": "AGNESH",
                                    "FELNOTT_SZAM": "1",
                                    "GYERMEK_SZAM": "0",
                                    "METTOL": "2016-10-30",
                                    "MEDDIG": "2016-11-04",
                                    "Ügyfél neve": "Horváth Ágnes",
                                    "Előző 3 foglalás átlaga": "1"
                                },
                                {
                                    "Kategoria": "Átlag alatti",
                                    "FOGLALAS_PK": "705",
                                    "SZOBA_FK": "37",
                                    "UGYFEL_FK": "akos",
                                    "FELNOTT_SZAM": "1",
                                    "GYERMEK_SZAM": "0",
                                    "METTOL": "2016-07-22",
                                    "MEDDIG": "2016-07-26",
                                    "Ügyfél neve": "Bíró Ákos",
                                    "Előző 3 foglalás átlaga": "NULL"
                                },
                                {
                                    "Kategoria": "Átlag alatti",
                                    "FOGLALAS_PK": "1034",
                                    "SZOBA_FK": "127",
                                    "UGYFEL_FK": "akos",
                                    "FELNOTT_SZAM": "1",
                                    "GYERMEK_SZAM": "0",
                                    "METTOL": "2016-09-06",
                                    "MEDDIG": "2016-09-12",
                                    "Ügyfél neve": "Bíró Ákos",
                                    "Előző 3 foglalás átlaga": "1"
                                },
                                {
                                    "Kategoria": "Átlag alatti",
                                    "FOGLALAS_PK": "651",
                                    "SZOBA_FK": "4",
                                    "UGYFEL_FK": "aladar",
                                    "FELNOTT_SZAM": "1",
                                    "GYERMEK_SZAM": "0",
                                    "METTOL": "2016-05-17",
                                    "MEDDIG": "2016-05-24",
                                    "Ügyfél neve": "Dunai Aladár",
                                    "Előző 3 foglalás átlaga": "NULL"
                                },
                                {
                                    "Kategoria": "Átlag alatti",
                                    "FOGLALAS_PK": "1079",
                                    "SZOBA_FK": "86",
                                    "UGYFEL_FK": "aladar",
                                    "FELNOTT_SZAM": "1",
                                    "GYERMEK_SZAM": "0",
                                    "METTOL": "2016-09-24",
                                    "MEDDIG": "2016-09-28",
                                    "Ügyfél neve": "Dunai Aladár",
                                    "Előző 3 foglalás átlaga": "1"
                                },
                                {
                                    "Kategoria": "Átlag alatti",
                                    "FOGLALAS_PK": "1436",
                                    "SZOBA_FK": "35",
                                    "UGYFEL_FK": "alexandra",
                                    "FELNOTT_SZAM": "1",
                                    "GYERMEK_SZAM": "0",
                                    "METTOL": "2017-01-13",
                                    "MEDDIG": "2017-01-14",
                                    "Ügyfél neve": "Bagóczki Alexandra",
                                    "Előző 3 foglalás átlaga": "NULL"
                                },
                                {
                                    "Kategoria": "Átlag alatti",
                                    "FOGLALAS_PK": "955",
                                    "SZOBA_FK": "47",
                                    "UGYFEL_FK": "andi",
                                    "FELNOTT_SZAM": "1",
                                    "GYERMEK_SZAM": "0",
                                    "METTOL": "2016-06-13",
                                    "MEDDIG": "2016-06-14",
                                    "Ügyfél neve": "Maródi Andrea",
                                    "Előző 3 foglalás átlaga": "NULL"
                                },
                                {
                                    "Kategoria": "Átlag alatti",
                                    "FOGLALAS_PK": "884",
                                    "SZOBA_FK": "98",
                                    "UGYFEL_FK": "andras2",
                                    "FELNOTT_SZAM": "1",
                                    "GYERMEK_SZAM": "0",
                                    "METTOL": "2016-05-30",
                                    "MEDDIG": "2016-06-04",
                                    "Ügyfél neve": "Tóth András",
                                    "Előző 3 foglalás átlaga": "NULL"
                                },
                                {
                                    "Kategoria": "Átlag alatti",
                                    "FOGLALAS_PK": "697",
                                    "SZOBA_FK": "12",
                                    "UGYFEL_FK": "andras21",
                                    "FELNOTT_SZAM": "1",
                                    "GYERMEK_SZAM": "0",
                                    "METTOL": "2016-07-20",
                                    "MEDDIG": "2016-07-22",
                                    "Ügyfél neve": "Molnár András",
                                    "Előző 3 foglalás átlaga": "NULL"
                                },
                                {
                                    "Kategoria": "Átlag alatti",
                                    "FOGLALAS_PK": "880",
                                    "SZOBA_FK": "184",
                                    "UGYFEL_FK": "andras3",
                                    "FELNOTT_SZAM": "1",
                                    "GYERMEK_SZAM": "0",
                                    "METTOL": "2016-05-30",
                                    "MEDDIG": "2016-06-03",
                                    "Ügyfél neve": "Vígh András",
                                    "Előző 3 foglalás átlaga": "NULL"
                                },
                                {
                                    "Kategoria": "Átlag alatti",
                                    "FOGLALAS_PK": "949",
                                    "SZOBA_FK": "1",
                                    "UGYFEL_FK": "andras3",
                                    "FELNOTT_SZAM": "1",
                                    "GYERMEK_SZAM": "0",
                                    "METTOL": "2016-06-10",
                                    "MEDDIG": "2016-06-11",
                                    "Ügyfél neve": "Vígh András",
                                    "Előző 3 foglalás átlaga": "1"
                                },
                                {
                                    "Kategoria": "Átlag alatti",
                                    "FOGLALAS_PK": "799",
                                    "SZOBA_FK": "175",
                                    "UGYFEL_FK": "andras41",
                                    "FELNOTT_SZAM": "1",
                                    "GYERMEK_SZAM": "0",
                                    "METTOL": "2016-08-19",
                                    "MEDDIG": "2016-08-23",
                                    "Ügyfél neve": "Komjáti András",
                                    "Előző 3 foglalás átlaga": "NULL"
                                },
                                {
                                    "Kategoria": "Átlag alatti",
                                    "FOGLALAS_PK": "1074",
                                    "SZOBA_FK": "195",
                                    "UGYFEL_FK": "andras41",
                                    "FELNOTT_SZAM": "1",
                                    "GYERMEK_SZAM": "0",
                                    "METTOL": "2016-09-22",
                                    "MEDDIG": "2016-09-29",
                                    "Ügyfél neve": "Komjáti András",
                                    "Előző 3 foglalás átlaga": "1"
                                },
                                {
                                    "Kategoria": "Átlag alatti",
                                    "FOGLALAS_PK": "1308",
                                    "SZOBA_FK": "182",
                                    "UGYFEL_FK": "andras41",
                                    "FELNOTT_SZAM": "1",
                                    "GYERMEK_SZAM": "0",
                                    "METTOL": "2016-11-23",
                                    "MEDDIG": "2016-11-24",
                                    "Ügyfél neve": "Komjáti András",
                                    "Előző 3 foglalás átlaga": "1"
                                },
                                {
                                    "Kategoria": "Átlag alatti",
                                    "FOGLALAS_PK": "600",
                                    "SZOBA_FK": "190",
                                    "UGYFEL_FK": "ANDRASE",
                                    "FELNOTT_SZAM": "1",
                                    "GYERMEK_SZAM": "0",
                                    "METTOL": "2016-04-24",
                                    "MEDDIG": "2016-05-01",
                                    "Ügyfél neve": "Erdei András",
                                    "Előző 3 foglalás átlaga": "NULL"
                                },
                                {
                                    "Kategoria": "Átlag alatti",
                                    "FOGLALAS_PK": "860",
                                    "SZOBA_FK": "70",
                                    "UGYFEL_FK": "andrea4",
                                    "FELNOTT_SZAM": "1",
                                    "GYERMEK_SZAM": "0",
                                    "METTOL": "2016-05-27",
                                    "MEDDIG": "2016-05-29",
                                    "Ügyfél neve": "Neizer Andrea",
                                    "Előző 3 foglalás átlaga": "NULL"
                                },
                                {
                                    "Kategoria": "Átlag alatti",
                                    "FOGLALAS_PK": "567",
                                    "SZOBA_FK": "170",
                                    "UGYFEL_FK": "anett3",
                                    "FELNOTT_SZAM": "1",
                                    "GYERMEK_SZAM": "0",
                                    "METTOL": "2016-04-10",
                                    "MEDDIG": "2016-04-17",
                                    "Ügyfél neve": "Pivarcsi Anett",
                                    "Előző 3 foglalás átlaga": "NULL"
                                },
                                {
                                    "Kategoria": "Átlag alatti",
                                    "FOGLALAS_PK": "1159",
                                    "SZOBA_FK": "73",
                                    "UGYFEL_FK": "anett3",
                                    "FELNOTT_SZAM": "1",
                                    "GYERMEK_SZAM": "0",
                                    "METTOL": "2016-10-16",
                                    "MEDDIG": "2016-10-21",
                                    "Ügyfél neve": "Pivarcsi Anett",
                                    "Előző 3 foglalás átlaga": "1"
                                },
                                {
                                    "Kategoria": "Átlag alatti",
                                    "FOGLALAS_PK": "1001",
                                    "SZOBA_FK": "4",
                                    "UGYFEL_FK": "aniko4",
                                    "FELNOTT_SZAM": "1",
                                    "GYERMEK_SZAM": "0",
                                    "METTOL": "2016-07-02",
                                    "MEDDIG": "2016-07-09",
                                    "Ügyfél neve": "Böröcz Anikó",
                                    "Előző 3 foglalás átlaga": "NULL"
                                },
                                {
                                    "Kategoria": "Átlag alatti",
                                    "FOGLALAS_PK": "965",
                                    "SZOBA_FK": "5",
                                    "UGYFEL_FK": "ANIKOS",
                                    "FELNOTT_SZAM": "1",
                                    "GYERMEK_SZAM": "0",
                                    "METTOL": "2016-06-16",
                                    "MEDDIG": "2016-06-23",
                                    "Ügyfél neve": "Simon Anikó",
                                    "Előző 3 foglalás átlaga": "NULL"
                                },
                                {
                                    "Kategoria": "Átlag alatti",
                                    "FOGLALAS_PK": "684",
                                    "SZOBA_FK": "184",
                                    "UGYFEL_FK": "ANNAMARIAR",
                                    "FELNOTT_SZAM": "1",
                                    "GYERMEK_SZAM": "0",
                                    "METTOL": "2016-07-18",
                                    "MEDDIG": "2016-07-21",
                                    "Ügyfél neve": "Regős Annamária",
                                    "Előző 3 foglalás átlaga": "NULL"
                                },
                                {
                                    "Kategoria": "Átlag alatti",
                                    "FOGLALAS_PK": "1056",
                                    "SZOBA_FK": "47",
                                    "UGYFEL_FK": "ARPADH",
                                    "FELNOTT_SZAM": "1",
                                    "GYERMEK_SZAM": "0",
                                    "METTOL": "2016-09-16",
                                    "MEDDIG": "2016-09-23",
                                    "Ügyfél neve": "Horváth Árpád",
                                    "Előző 3 foglalás átlaga": "NULL"
                                },
                                {
                                    "Kategoria": "Átlag alatti",
                                    "FOGLALAS_PK": "1066",
                                    "SZOBA_FK": "49",
                                    "UGYFEL_FK": "ARPADH",
                                    "FELNOTT_SZAM": "1",
                                    "GYERMEK_SZAM": "0",
                                    "METTOL": "2016-09-18",
                                    "MEDDIG": "2016-09-25",
                                    "Ügyfél neve": "Horváth Árpád",
                                    "Előző 3 foglalás átlaga": "1"
                                },
                                {
                                    "Kategoria": "Átlag alatti",
                                    "FOGLALAS_PK": "1342",
                                    "SZOBA_FK": "170",
                                    "UGYFEL_FK": "ARPADH",
                                    "FELNOTT_SZAM": "1",
                                    "GYERMEK_SZAM": "0",
                                    "METTOL": "2016-12-04",
                                    "MEDDIG": "2016-12-10",
                                    "Ügyfél neve": "Horváth Árpád",
                                    "Előző 3 foglalás átlaga": "1"
                                },
                                {
                                    "Kategoria": "Átlag alatti",
                                    "FOGLALAS_PK": "1420",
                                    "SZOBA_FK": "198",
                                    "UGYFEL_FK": "ARPADM",
                                    "FELNOTT_SZAM": "1",
                                    "GYERMEK_SZAM": "0",
                                    "METTOL": "2017-01-05",
                                    "MEDDIG": "2017-01-10",
                                    "Ügyfél neve": "Móricz Árpád",
                                    "Előző 3 foglalás átlaga": "NULL"
                                },
                                {
                                    "Kategoria": "Átlag alatti",
                                    "FOGLALAS_PK": "1154",
                                    "SZOBA_FK": "115",
                                    "UGYFEL_FK": "attila",
                                    "FELNOTT_SZAM": "1",
                                    "GYERMEK_SZAM": "0",
                                    "METTOL": "2016-10-15",
                                    "MEDDIG": "2016-10-19",
                                    "Ügyfél neve": "Csóti Attila",
                                    "Előző 3 foglalás átlaga": "NULL"
                                },
                                {
                                    "Kategoria": "Átlag alatti",
                                    "FOGLALAS_PK": "657",
                                    "SZOBA_FK": "137",
                                    "UGYFEL_FK": "attila1",
                                    "FELNOTT_SZAM": "1",
                                    "GYERMEK_SZAM": "0",
                                    "METTOL": "2016-05-20",
                                    "MEDDIG": "2016-05-26",
                                    "Ügyfél neve": "Gulyás Attila",
                                    "Előző 3 foglalás átlaga": "NULL"
                                },
                                {
                                    "Kategoria": "Átlag alatti",
                                    "FOGLALAS_PK": "1578",
                                    "SZOBA_FK": "148",
                                    "UGYFEL_FK": "balazs2",
                                    "FELNOTT_SZAM": "1",
                                    "GYERMEK_SZAM": "0",
                                    "METTOL": "2017-02-27",
                                    "MEDDIG": "2017-03-06",
                                    "Ügyfél neve": "Szűcs Balázs",
                                    "Előző 3 foglalás átlaga": "NULL"
                                },
                                {
                                    "Kategoria": "Átlag alatti",
                                    "FOGLALAS_PK": "948",
                                    "SZOBA_FK": "19",
                                    "UGYFEL_FK": "balint1",
                                    "FELNOTT_SZAM": "1",
                                    "GYERMEK_SZAM": "0",
                                    "METTOL": "2016-06-10",
                                    "MEDDIG": "2016-06-12",
                                    "Ügyfél neve": "Molnár Bálint",
                                    "Előző 3 foglalás átlaga": "NULL"
                                },
                                {
                                    "Kategoria": "Átlag alatti",
                                    "FOGLALAS_PK": "1057",
                                    "SZOBA_FK": "86",
                                    "UGYFEL_FK": "balint1",
                                    "FELNOTT_SZAM": "1",
                                    "GYERMEK_SZAM": "0",
                                    "METTOL": "2016-09-16",
                                    "MEDDIG": "2016-09-21",
                                    "Ügyfél neve": "Molnár Bálint",
                                    "Előző 3 foglalás átlaga": "1"
                                },
                                {
                                    "Kategoria": "Átlag alatti",
                                    "FOGLALAS_PK": "702",
                                    "SZOBA_FK": "62",
                                    "UGYFEL_FK": "balint2",
                                    "FELNOTT_SZAM": "1",
                                    "GYERMEK_SZAM": "0",
                                    "METTOL": "2016-07-21",
                                    "MEDDIG": "2016-07-26",
                                    "Ügyfél neve": "Vukasinovity Bálint",
                                    "Előző 3 foglalás átlaga": "NULL"
                                },
                                {
                                    "Kategoria": "Átlag alatti",
                                    "FOGLALAS_PK": "1005",
                                    "SZOBA_FK": "22",
                                    "UGYFEL_FK": "beata4",
                                    "FELNOTT_SZAM": "1",
                                    "GYERMEK_SZAM": "0",
                                    "METTOL": "2016-07-03",
                                    "MEDDIG": "2016-07-06",
                                    "Ügyfél neve": "Bagi Beáta",
                                    "Előző 3 foglalás átlaga": "NULL"
                                },
                                {
                                    "Kategoria": "Átlag alatti",
                                    "FOGLALAS_PK": "1112",
                                    "SZOBA_FK": "155",
                                    "UGYFEL_FK": "beata4",
                                    "FELNOTT_SZAM": "1",
                                    "GYERMEK_SZAM": "0",
                                    "METTOL": "2016-10-01",
                                    "MEDDIG": "2016-10-05",
                                    "Ügyfél neve": "Bagi Beáta",
                                    "Előző 3 foglalás átlaga": "1"
                                },
                                {
                                    "Kategoria": "Átlag alatti",
                                    "FOGLALAS_PK": "586",
                                    "SZOBA_FK": "107",
                                    "UGYFEL_FK": "BEATRIXS",
                                    "FELNOTT_SZAM": "1",
                                    "GYERMEK_SZAM": "0",
                                    "METTOL": "2016-04-18",
                                    "MEDDIG": "2016-04-24",
                                    "Ügyfél neve": "Szekendi Beatrix",
                                    "Előző 3 foglalás átlaga": "NULL"
                                },
                                {
                                    "Kategoria": "Átlag alatti",
                                    "FOGLALAS_PK": "1350",
                                    "SZOBA_FK": "173",
                                    "UGYFEL_FK": "BELAF",
                                    "FELNOTT_SZAM": "1",
                                    "GYERMEK_SZAM": "0",
                                    "METTOL": "2016-12-06",
                                    "MEDDIG": "2016-12-09",
                                    "Ügyfél neve": "Farkas Béla",
                                    "Előző 3 foglalás átlaga": "NULL"
                                },
                                {
                                    "Kategoria": "Átlag alatti",
                                    "FOGLALAS_PK": "872",
                                    "SZOBA_FK": "28",
                                    "UGYFEL_FK": "bence",
                                    "FELNOTT_SZAM": "1",
                                    "GYERMEK_SZAM": "0",
                                    "METTOL": "2016-05-29",
                                    "MEDDIG": "2016-06-03",
                                    "Ügyfél neve": "Győrffy Bence",
                                    "Előző 3 foglalás átlaga": "NULL"
                                },
                                {
                                    "Kategoria": "Átlag alatti",
                                    "FOGLALAS_PK": "1568",
                                    "SZOBA_FK": "29",
                                    "UGYFEL_FK": "bernadett1",
                                    "FELNOTT_SZAM": "1",
                                    "GYERMEK_SZAM": "0",
                                    "METTOL": "2017-02-24",
                                    "MEDDIG": "2017-03-03",
                                    "Ügyfél neve": "Simon Bernadett",
                                    "Előző 3 foglalás átlaga": "NULL"
                                },
                                {
                                    "Kategoria": "Átlag alatti",
                                    "FOGLALAS_PK": "1367",
                                    "SZOBA_FK": "80",
                                    "UGYFEL_FK": "bernadett2",
                                    "FELNOTT_SZAM": "1",
                                    "GYERMEK_SZAM": "0",
                                    "METTOL": "2016-12-17",
                                    "MEDDIG": "2016-12-20",
                                    "Ügyfél neve": "Kovács Bernadett",
                                    "Előző 3 foglalás átlaga": "NULL"
                                },
                                {
                                    "Kategoria": "Átlag alatti",
                                    "FOGLALAS_PK": "974",
                                    "SZOBA_FK": "169",
                                    "UGYFEL_FK": "bertalan",
                                    "FELNOTT_SZAM": "1",
                                    "GYERMEK_SZAM": "0",
                                    "METTOL": "2016-06-20",
                                    "MEDDIG": "2016-06-21",
                                    "Ügyfél neve": "Csiger Bertalan",
                                    "Előző 3 foglalás átlaga": "NULL"
                                },
                                {
                                    "Kategoria": "Átlag alatti",
                                    "FOGLALAS_PK": "1469",
                                    "SZOBA_FK": "13",
                                    "UGYFEL_FK": "brigitta",
                                    "FELNOTT_SZAM": "1",
                                    "GYERMEK_SZAM": "0",
                                    "METTOL": "2017-01-23",
                                    "MEDDIG": "2017-01-25",
                                    "Ügyfél neve": "Székely Brigitta",
                                    "Előző 3 foglalás átlaga": "NULL"
                                },
                                {
                                    "Kategoria": "Átlag alatti",
                                    "FOGLALAS_PK": "1102",
                                    "SZOBA_FK": "108",
                                    "UGYFEL_FK": "dani",
                                    "FELNOTT_SZAM": "1",
                                    "GYERMEK_SZAM": "0",
                                    "METTOL": "2016-10-01",
                                    "MEDDIG": "2016-10-02",
                                    "Ügyfél neve": "Vörös Dániel",
                                    "Előző 3 foglalás átlaga": "NULL"
                                },
                                {
                                    "Kategoria": "Átlag alatti",
                                    "FOGLALAS_PK": "1466",
                                    "SZOBA_FK": "57",
                                    "UGYFEL_FK": "dani",
                                    "FELNOTT_SZAM": "1",
                                    "GYERMEK_SZAM": "0",
                                    "METTOL": "2017-01-22",
                                    "MEDDIG": "2017-01-29",
                                    "Ügyfél neve": "Vörös Dániel",
                                    "Előző 3 foglalás átlaga": "1"
                                },
                                {
                                    "Kategoria": "Átlag alatti",
                                    "FOGLALAS_PK": "1430",
                                    "SZOBA_FK": "12",
                                    "UGYFEL_FK": "daniel",
                                    "FELNOTT_SZAM": "1",
                                    "GYERMEK_SZAM": "0",
                                    "METTOL": "2017-01-09",
                                    "MEDDIG": "2017-01-11",
                                    "Ügyfél neve": "Rácz Dániel",
                                    "Előző 3 foglalás átlaga": "NULL"
                                },
                                {
                                    "Kategoria": "Átlag alatti",
                                    "FOGLALAS_PK": "757",
                                    "SZOBA_FK": "88",
                                    "UGYFEL_FK": "david",
                                    "FELNOTT_SZAM": "1",
                                    "GYERMEK_SZAM": "0",
                                    "METTOL": "2016-08-05",
                                    "MEDDIG": "2016-08-12",
                                    "Ügyfél neve": "Ambrus Dávid",
                                    "Előző 3 foglalás átlaga": "NULL"
                                },
                                {
                                    "Kategoria": "Átlag alatti",
                                    "FOGLALAS_PK": "1250",
                                    "SZOBA_FK": "107",
                                    "UGYFEL_FK": "emese",
                                    "FELNOTT_SZAM": "1",
                                    "GYERMEK_SZAM": "0",
                                    "METTOL": "2016-11-05",
                                    "MEDDIG": "2016-11-09",
                                    "Ügyfél neve": "Kuruc Emese",
                                    "Előző 3 foglalás átlaga": "NULL"
                                },
                                {
                                    "Kategoria": "Átlag alatti",
                                    "FOGLALAS_PK": "1017",
                                    "SZOBA_FK": "190",
                                    "UGYFEL_FK": "eszter2",
                                    "FELNOTT_SZAM": "1",
                                    "GYERMEK_SZAM": "0",
                                    "METTOL": "2016-07-08",
                                    "MEDDIG": "2016-07-09",
                                    "Ügyfél neve": "Balogh Eszter",
                                    "Előző 3 foglalás átlaga": "NULL"
                                },
                                {
                                    "Kategoria": "Átlag alatti",
                                    "FOGLALAS_PK": "1109",
                                    "SZOBA_FK": "110",
                                    "UGYFEL_FK": "eszter2",
                                    "FELNOTT_SZAM": "1",
                                    "GYERMEK_SZAM": "0",
                                    "METTOL": "2016-10-01",
                                    "MEDDIG": "2016-10-06",
                                    "Ügyfél neve": "Balogh Eszter",
                                    "Előző 3 foglalás átlaga": "1"
                                },
                                {
                                    "Kategoria": "Átlag alatti",
                                    "FOGLALAS_PK": "1171",
                                    "SZOBA_FK": "172",
                                    "UGYFEL_FK": "eszter2",
                                    "FELNOTT_SZAM": "1",
                                    "GYERMEK_SZAM": "0",
                                    "METTOL": "2016-10-20",
                                    "MEDDIG": "2016-10-25",
                                    "Ügyfél neve": "Balogh Eszter",
                                    "Előző 3 foglalás átlaga": "1"
                                },
                                {
                                    "Kategoria": "Átlag alatti",
                                    "FOGLALAS_PK": "1187",
                                    "SZOBA_FK": "46",
                                    "UGYFEL_FK": "eszter2",
                                    "FELNOTT_SZAM": "1",
                                    "GYERMEK_SZAM": "0",
                                    "METTOL": "2016-10-23",
                                    "MEDDIG": "2016-10-30",
                                    "Ügyfél neve": "Balogh Eszter",
                                    "Előző 3 foglalás átlaga": "1"
                                },
                                {
                                    "Kategoria": "Átlag alatti",
                                    "FOGLALAS_PK": "1336",
                                    "SZOBA_FK": "172",
                                    "UGYFEL_FK": "eszter2",
                                    "FELNOTT_SZAM": "1",
                                    "GYERMEK_SZAM": "0",
                                    "METTOL": "2016-12-02",
                                    "MEDDIG": "2016-12-07",
                                    "Ügyfél neve": "Balogh Eszter",
                                    "Előző 3 foglalás átlaga": "1"
                                },
                                {
                                    "Kategoria": "Átlag alatti",
                                    "FOGLALAS_PK": "1480",
                                    "SZOBA_FK": "35",
                                    "UGYFEL_FK": "eszter2",
                                    "FELNOTT_SZAM": "1",
                                    "GYERMEK_SZAM": "0",
                                    "METTOL": "2016-12-29",
                                    "MEDDIG": "2017-02-04",
                                    "Ügyfél neve": "Balogh Eszter",
                                    "Előző 3 foglalás átlaga": "1"
                                },
                                {
                                    "Kategoria": "Átlag alatti",
                                    "FOGLALAS_PK": "845",
                                    "SZOBA_FK": "63",
                                    "UGYFEL_FK": "eva2",
                                    "FELNOTT_SZAM": "1",
                                    "GYERMEK_SZAM": "0",
                                    "METTOL": "2016-09-02",
                                    "MEDDIG": "2016-09-03",
                                    "Ügyfél neve": "Perlinger Éva",
                                    "Előző 3 foglalás átlaga": "NULL"
                                },
                                {
                                    "Kategoria": "Átlag alatti",
                                    "FOGLALAS_PK": "1366",
                                    "SZOBA_FK": "81",
                                    "UGYFEL_FK": "fruzsina4",
                                    "FELNOTT_SZAM": "1",
                                    "GYERMEK_SZAM": "0",
                                    "METTOL": "2016-12-16",
                                    "MEDDIG": "2016-12-21",
                                    "Ügyfél neve": "Frank Fruzsina",
                                    "Előző 3 foglalás átlaga": "NULL"
                                },
                                {
                                    "Kategoria": "Átlag alatti",
                                    "FOGLALAS_PK": "1026",
                                    "SZOBA_FK": "119",
                                    "UGYFEL_FK": "gabor1",
                                    "FELNOTT_SZAM": "1",
                                    "GYERMEK_SZAM": "0",
                                    "METTOL": "2016-07-12",
                                    "MEDDIG": "2016-07-15",
                                    "Ügyfél neve": "Köves Gábor",
                                    "Előző 3 foglalás átlaga": "NULL"
                                },
                                {
                                    "Kategoria": "Átlag alatti",
                                    "FOGLALAS_PK": "1169",
                                    "SZOBA_FK": "93",
                                    "UGYFEL_FK": "gabor1",
                                    "FELNOTT_SZAM": "1",
                                    "GYERMEK_SZAM": "0",
                                    "METTOL": "2016-10-20",
                                    "MEDDIG": "2016-10-24",
                                    "Ügyfél neve": "Köves Gábor",
                                    "Előző 3 foglalás átlaga": "1"
                                },
                                {
                                    "Kategoria": "Átlag alatti",
                                    "FOGLALAS_PK": "878",
                                    "SZOBA_FK": "83",
                                    "UGYFEL_FK": "gabor4",
                                    "FELNOTT_SZAM": "1",
                                    "GYERMEK_SZAM": "0",
                                    "METTOL": "2016-05-30",
                                    "MEDDIG": "2016-06-05",
                                    "Ügyfél neve": "Telek Gábor",
                                    "Előző 3 foglalás átlaga": "NULL"
                                },
                                {
                                    "Kategoria": "Átlag alatti",
                                    "FOGLALAS_PK": "945",
                                    "SZOBA_FK": "23",
                                    "UGYFEL_FK": "GYONGYIK",
                                    "FELNOTT_SZAM": "1",
                                    "GYERMEK_SZAM": "0",
                                    "METTOL": "2016-06-10",
                                    "MEDDIG": "2016-06-17",
                                    "Ügyfél neve": "Kornseé Gyöngyi",
                                    "Előző 3 foglalás átlaga": "NULL"
                                },
                                {
                                    "Kategoria": "Átlag alatti",
                                    "FOGLALAS_PK": "1213",
                                    "SZOBA_FK": "91",
                                    "UGYFEL_FK": "GYORGYO",
                                    "FELNOTT_SZAM": "1",
                                    "GYERMEK_SZAM": "0",
                                    "METTOL": "2016-10-28",
                                    "MEDDIG": "2016-10-31",
                                    "Ügyfél neve": "Oroszi György",
                                    "Előző 3 foglalás átlaga": "NULL"
                                },
                                {
                                    "Kategoria": "Átlag alatti",
                                    "FOGLALAS_PK": "818",
                                    "SZOBA_FK": "8",
                                    "UGYFEL_FK": "henrik3",
                                    "FELNOTT_SZAM": "1",
                                    "GYERMEK_SZAM": "0",
                                    "METTOL": "2016-08-24",
                                    "MEDDIG": "2016-08-28",
                                    "Ügyfél neve": "Nádudvari Henrik",
                                    "Előző 3 foglalás átlaga": "NULL"
                                },
                                {
                                    "Kategoria": "Átlag alatti",
                                    "FOGLALAS_PK": "689",
                                    "SZOBA_FK": "102",
                                    "UGYFEL_FK": "istvan1",
                                    "FELNOTT_SZAM": "1",
                                    "GYERMEK_SZAM": "0",
                                    "METTOL": "2016-07-19",
                                    "MEDDIG": "2016-07-24",
                                    "Ügyfél neve": "Vizi István",
                                    "Előző 3 foglalás átlaga": "NULL"
                                },
                                {
                                    "Kategoria": "Átlag alatti",
                                    "FOGLALAS_PK": "904",
                                    "SZOBA_FK": "34",
                                    "UGYFEL_FK": "janos3",
                                    "FELNOTT_SZAM": "1",
                                    "GYERMEK_SZAM": "0",
                                    "METTOL": "2016-06-04",
                                    "MEDDIG": "2016-06-06",
                                    "Ügyfél neve": "Harangozó János",
                                    "Előző 3 foglalás átlaga": "NULL"
                                },
                                {
                                    "Kategoria": "Átlag alatti",
                                    "FOGLALAS_PK": "1177",
                                    "SZOBA_FK": "150",
                                    "UGYFEL_FK": "janos3",
                                    "FELNOTT_SZAM": "1",
                                    "GYERMEK_SZAM": "0",
                                    "METTOL": "2016-10-22",
                                    "MEDDIG": "2016-10-23",
                                    "Ügyfél neve": "Harangozó János",
                                    "Előző 3 foglalás átlaga": "1"
                                },
                                {
                                    "Kategoria": "Átlag alatti",
                                    "FOGLALAS_PK": "631",
                                    "SZOBA_FK": "98",
                                    "UGYFEL_FK": "JANOSG",
                                    "FELNOTT_SZAM": "1",
                                    "GYERMEK_SZAM": "0",
                                    "METTOL": "2016-05-09",
                                    "MEDDIG": "2016-05-15",
                                    "Ügyfél neve": "Giliga János",
                                    "Előző 3 foglalás átlaga": "NULL"
                                },
                                {
                                    "Kategoria": "Átlag alatti",
                                    "FOGLALAS_PK": "852",
                                    "SZOBA_FK": "24",
                                    "UGYFEL_FK": "JOZSEFG",
                                    "FELNOTT_SZAM": "1",
                                    "GYERMEK_SZAM": "0",
                                    "METTOL": "2016-05-23",
                                    "MEDDIG": "2016-05-25",
                                    "Ügyfél neve": "Gyuris József",
                                    "Előző 3 foglalás átlaga": "NULL"
                                },
                                {
                                    "Kategoria": "Átlag alatti",
                                    "FOGLALAS_PK": "1461",
                                    "SZOBA_FK": "77",
                                    "UGYFEL_FK": "JOZSEFG",
                                    "FELNOTT_SZAM": "1",
                                    "GYERMEK_SZAM": "0",
                                    "METTOL": "2017-01-22",
                                    "MEDDIG": "2017-01-26",
                                    "Ügyfél neve": "Gyuris József",
                                    "Előző 3 foglalás átlaga": "1"
                                },
                                {
                                    "Kategoria": "Átlag alatti",
                                    "FOGLALAS_PK": "1379",
                                    "SZOBA_FK": "83",
                                    "UGYFEL_FK": "JUDITH",
                                    "FELNOTT_SZAM": "1",
                                    "GYERMEK_SZAM": "0",
                                    "METTOL": "2016-12-19",
                                    "MEDDIG": "2016-12-26",
                                    "Ügyfél neve": "Hídasi Judit",
                                    "Előző 3 foglalás átlaga": "NULL"
                                },
                                {
                                    "Kategoria": "Átlag alatti",
                                    "FOGLALAS_PK": "638",
                                    "SZOBA_FK": "67",
                                    "UGYFEL_FK": "julia",
                                    "FELNOTT_SZAM": "1",
                                    "GYERMEK_SZAM": "0",
                                    "METTOL": "2016-05-12",
                                    "MEDDIG": "2016-05-17",
                                    "Ügyfél neve": "Tóth Júlia",
                                    "Előző 3 foglalás átlaga": "NULL"
                                },
                                {
                                    "Kategoria": "Átlag alatti",
                                    "FOGLALAS_PK": "1258",
                                    "SZOBA_FK": "52",
                                    "UGYFEL_FK": "julia4",
                                    "FELNOTT_SZAM": "1",
                                    "GYERMEK_SZAM": "0",
                                    "METTOL": "2016-11-07",
                                    "MEDDIG": "2016-11-12",
                                    "Ügyfél neve": "Nagy Júlia",
                                    "Előző 3 foglalás átlaga": "NULL"
                                },
                                {
                                    "Kategoria": "Átlag alatti",
                                    "FOGLALAS_PK": "601",
                                    "SZOBA_FK": "39",
                                    "UGYFEL_FK": "kata",
                                    "FELNOTT_SZAM": "1",
                                    "GYERMEK_SZAM": "0",
                                    "METTOL": "2016-04-25",
                                    "MEDDIG": "2016-05-01",
                                    "Ügyfél neve": "Gondos Katalin",
                                    "Előző 3 foglalás átlaga": "NULL"
                                },
                                {
                                    "Kategoria": "Átlag alatti",
                                    "FOGLALAS_PK": "1006",
                                    "SZOBA_FK": "70",
                                    "UGYFEL_FK": "kata",
                                    "FELNOTT_SZAM": "1",
                                    "GYERMEK_SZAM": "0",
                                    "METTOL": "2016-07-03",
                                    "MEDDIG": "2016-07-06",
                                    "Ügyfél neve": "Gondos Katalin",
                                    "Előző 3 foglalás átlaga": "1"
                                },
                                {
                                    "Kategoria": "Átlag alatti",
                                    "FOGLALAS_PK": "661",
                                    "SZOBA_FK": "136",
                                    "UGYFEL_FK": "katalin",
                                    "FELNOTT_SZAM": "1",
                                    "GYERMEK_SZAM": "0",
                                    "METTOL": "2016-05-21",
                                    "MEDDIG": "2016-05-26",
                                    "Ügyfél neve": "Horváth Katalin",
                                    "Előző 3 foglalás átlaga": "NULL"
                                },
                                {
                                    "Kategoria": "Átlag alatti",
                                    "FOGLALAS_PK": "733",
                                    "SZOBA_FK": "140",
                                    "UGYFEL_FK": "katalin",
                                    "FELNOTT_SZAM": "1",
                                    "GYERMEK_SZAM": "0",
                                    "METTOL": "2016-07-28",
                                    "MEDDIG": "2016-07-29",
                                    "Ügyfél neve": "Horváth Katalin",
                                    "Előző 3 foglalás átlaga": "1"
                                },
                                {
                                    "Kategoria": "Átlag alatti",
                                    "FOGLALAS_PK": "1015",
                                    "SZOBA_FK": "174",
                                    "UGYFEL_FK": "katalin",
                                    "FELNOTT_SZAM": "1",
                                    "GYERMEK_SZAM": "0",
                                    "METTOL": "2016-07-06",
                                    "MEDDIG": "2016-07-11",
                                    "Ügyfél neve": "Horváth Katalin",
                                    "Előző 3 foglalás átlaga": "1"
                                },
                                {
                                    "Kategoria": "Átlag alatti",
                                    "FOGLALAS_PK": "1372",
                                    "SZOBA_FK": "106",
                                    "UGYFEL_FK": "katalin",
                                    "FELNOTT_SZAM": "1",
                                    "GYERMEK_SZAM": "0",
                                    "METTOL": "2016-12-17",
                                    "MEDDIG": "2016-12-24",
                                    "Ügyfél neve": "Horváth Katalin",
                                    "Előző 3 foglalás átlaga": "1"
                                },
                                {
                                    "Kategoria": "Átlag alatti",
                                    "FOGLALAS_PK": "997",
                                    "SZOBA_FK": "82",
                                    "UGYFEL_FK": "katalin4",
                                    "FELNOTT_SZAM": "1",
                                    "GYERMEK_SZAM": "0",
                                    "METTOL": "2016-07-01",
                                    "MEDDIG": "2016-07-07",
                                    "Ügyfél neve": "Kertész Katalin",
                                    "Előző 3 foglalás átlaga": "NULL"
                                },
                                {
                                    "Kategoria": "Átlag alatti",
                                    "FOGLALAS_PK": "954",
                                    "SZOBA_FK": "84",
                                    "UGYFEL_FK": "katka",
                                    "FELNOTT_SZAM": "1",
                                    "GYERMEK_SZAM": "0",
                                    "METTOL": "2016-06-13",
                                    "MEDDIG": "2016-06-18",
                                    "Ügyfél neve": "Kovács Katalin",
                                    "Előző 3 foglalás átlaga": "NULL"
                                },
                                {
                                    "Kategoria": "Átlag alatti",
                                    "FOGLALAS_PK": "787",
                                    "SZOBA_FK": "50",
                                    "UGYFEL_FK": "krisztian4",
                                    "FELNOTT_SZAM": "1",
                                    "GYERMEK_SZAM": "0",
                                    "METTOL": "2016-08-16",
                                    "MEDDIG": "2016-08-19",
                                    "Ügyfél neve": "Czérna Krisztián",
                                    "Előző 3 foglalás átlaga": "NULL"
                                },
                                {
                                    "Kategoria": "Átlag alatti",
                                    "FOGLALAS_PK": "834",
                                    "SZOBA_FK": "149",
                                    "UGYFEL_FK": "krisztian4",
                                    "FELNOTT_SZAM": "1",
                                    "GYERMEK_SZAM": "0",
                                    "METTOL": "2016-08-29",
                                    "MEDDIG": "2016-09-03",
                                    "Ügyfél neve": "Czérna Krisztián",
                                    "Előző 3 foglalás átlaga": "1"
                                },
                                {
                                    "Kategoria": "Átlag alatti",
                                    "FOGLALAS_PK": "1422",
                                    "SZOBA_FK": "182",
                                    "UGYFEL_FK": "krisztian4",
                                    "FELNOTT_SZAM": "1",
                                    "GYERMEK_SZAM": "0",
                                    "METTOL": "2017-01-06",
                                    "MEDDIG": "2017-01-09",
                                    "Ügyfél neve": "Czérna Krisztián",
                                    "Előző 3 foglalás átlaga": "1"
                                },
                                {
                                    "Kategoria": "Átlag alatti",
                                    "FOGLALAS_PK": "1443",
                                    "SZOBA_FK": "81",
                                    "UGYFEL_FK": "KRISZTIANM",
                                    "FELNOTT_SZAM": "1",
                                    "GYERMEK_SZAM": "0",
                                    "METTOL": "2017-01-16",
                                    "MEDDIG": "2017-01-23",
                                    "Ügyfél neve": "Mogyródi Krisztián",
                                    "Előző 3 foglalás átlaga": "NULL"
                                },
                                {
                                    "Kategoria": "Átlag alatti",
                                    "FOGLALAS_PK": "1048",
                                    "SZOBA_FK": "95",
                                    "UGYFEL_FK": "krisztina",
                                    "FELNOTT_SZAM": "1",
                                    "GYERMEK_SZAM": "0",
                                    "METTOL": "2016-09-13",
                                    "MEDDIG": "2016-09-16",
                                    "Ügyfél neve": "Szedlár Krisztina",
                                    "Előző 3 foglalás átlaga": "NULL"
                                },
                                {
                                    "Kategoria": "Átlag alatti",
                                    "FOGLALAS_PK": "1306",
                                    "SZOBA_FK": "133",
                                    "UGYFEL_FK": "krisztina",
                                    "FELNOTT_SZAM": "1",
                                    "GYERMEK_SZAM": "0",
                                    "METTOL": "2016-11-22",
                                    "MEDDIG": "2016-11-25",
                                    "Ügyfél neve": "Szedlár Krisztina",
                                    "Előző 3 foglalás átlaga": "1"
                                },
                                {
                                    "Kategoria": "Átlag alatti",
                                    "FOGLALAS_PK": "648",
                                    "SZOBA_FK": "157",
                                    "UGYFEL_FK": "krisztina1",
                                    "FELNOTT_SZAM": "1",
                                    "GYERMEK_SZAM": "0",
                                    "METTOL": "2016-05-16",
                                    "MEDDIG": "2016-05-20",
                                    "Ügyfél neve": "Bori Krisztina",
                                    "Előző 3 foglalás átlaga": "NULL"
                                },
                                {
                                    "Kategoria": "Átlag alatti",
                                    "FOGLALAS_PK": "854",
                                    "SZOBA_FK": "167",
                                    "UGYFEL_FK": "KRISZTINAG",
                                    "FELNOTT_SZAM": "1",
                                    "GYERMEK_SZAM": "0",
                                    "METTOL": "2016-05-24",
                                    "MEDDIG": "2016-05-31",
                                    "Ügyfél neve": "Gyárfás Krisztina",
                                    "Előző 3 foglalás átlaga": "NULL"
                                },
                                {
                                    "Kategoria": "Átlag alatti",
                                    "FOGLALAS_PK": "935",
                                    "SZOBA_FK": "56",
                                    "UGYFEL_FK": "KRISZTINAG",
                                    "FELNOTT_SZAM": "1",
                                    "GYERMEK_SZAM": "0",
                                    "METTOL": "2016-06-08",
                                    "MEDDIG": "2016-06-12",
                                    "Ügyfél neve": "Gyárfás Krisztina",
                                    "Előző 3 foglalás átlaga": "1"
                                },
                                {
                                    "Kategoria": "Átlag alatti",
                                    "FOGLALAS_PK": "1523",
                                    "SZOBA_FK": "11",
                                    "UGYFEL_FK": "lajos",
                                    "FELNOTT_SZAM": "1",
                                    "GYERMEK_SZAM": "0",
                                    "METTOL": "2017-02-12",
                                    "MEDDIG": "2017-02-13",
                                    "Ügyfél neve": "Kiss Lajos",
                                    "Előző 3 foglalás átlaga": "NULL"
                                },
                                {
                                    "Kategoria": "Átlag alatti",
                                    "FOGLALAS_PK": "923",
                                    "SZOBA_FK": "123",
                                    "UGYFEL_FK": "LASZLOA",
                                    "FELNOTT_SZAM": "1",
                                    "GYERMEK_SZAM": "0",
                                    "METTOL": "2016-06-07",
                                    "MEDDIG": "2016-06-11",
                                    "Ügyfél neve": "Antal László",
                                    "Előző 3 foglalás átlaga": "NULL"
                                },
                                {
                                    "Kategoria": "Átlag alatti",
                                    "FOGLALAS_PK": "892",
                                    "SZOBA_FK": "165",
                                    "UGYFEL_FK": "LASZLON",
                                    "FELNOTT_SZAM": "1",
                                    "GYERMEK_SZAM": "0",
                                    "METTOL": "2016-06-03",
                                    "MEDDIG": "2016-06-06",
                                    "Ügyfél neve": "Nagy László",
                                    "Előző 3 foglalás átlaga": "NULL"
                                },
                                {
                                    "Kategoria": "Átlag alatti",
                                    "FOGLALAS_PK": "1136",
                                    "SZOBA_FK": "30",
                                    "UGYFEL_FK": "LASZLON",
                                    "FELNOTT_SZAM": "1",
                                    "GYERMEK_SZAM": "0",
                                    "METTOL": "2016-10-09",
                                    "MEDDIG": "2016-10-14",
                                    "Ügyfél neve": "Nagy László",
                                    "Előző 3 foglalás átlaga": "1"
                                },
                                {
                                    "Kategoria": "Átlag alatti",
                                    "FOGLALAS_PK": "1329",
                                    "SZOBA_FK": "171",
                                    "UGYFEL_FK": "LASZLON",
                                    "FELNOTT_SZAM": "1",
                                    "GYERMEK_SZAM": "0",
                                    "METTOL": "2016-11-29",
                                    "MEDDIG": "2016-12-04",
                                    "Ügyfél neve": "Nagy László",
                                    "Előző 3 foglalás átlaga": "1"
                                },
                                {
                                    "Kategoria": "Átlag alatti",
                                    "FOGLALAS_PK": "652",
                                    "SZOBA_FK": "149",
                                    "UGYFEL_FK": "maria1",
                                    "FELNOTT_SZAM": "1",
                                    "GYERMEK_SZAM": "0",
                                    "METTOL": "2016-05-18",
                                    "MEDDIG": "2016-05-19",
                                    "Ügyfél neve": "Baráth Mária",
                                    "Előző 3 foglalás átlaga": "NULL"
                                },
                                {
                                    "Kategoria": "Átlag alatti",
                                    "FOGLALAS_PK": "846",
                                    "SZOBA_FK": "45",
                                    "UGYFEL_FK": "maria1",
                                    "FELNOTT_SZAM": "1",
                                    "GYERMEK_SZAM": "0",
                                    "METTOL": "2016-09-02",
                                    "MEDDIG": "2016-09-05",
                                    "Ügyfél neve": "Baráth Mária",
                                    "Előző 3 foglalás átlaga": "1"
                                },
                                {
                                    "Kategoria": "Átlag alatti",
                                    "FOGLALAS_PK": "981",
                                    "SZOBA_FK": "171",
                                    "UGYFEL_FK": "maria1",
                                    "FELNOTT_SZAM": "1",
                                    "GYERMEK_SZAM": "0",
                                    "METTOL": "2016-06-23",
                                    "MEDDIG": "2016-06-27",
                                    "Ügyfél neve": "Baráth Mária",
                                    "Előző 3 foglalás átlaga": "1"
                                },
                                {
                                    "Kategoria": "Átlag alatti",
                                    "FOGLALAS_PK": "1172",
                                    "SZOBA_FK": "197",
                                    "UGYFEL_FK": "mark",
                                    "FELNOTT_SZAM": "1",
                                    "GYERMEK_SZAM": "0",
                                    "METTOL": "2016-10-20",
                                    "MEDDIG": "2016-10-27",
                                    "Ügyfél neve": "Kispál Márk",
                                    "Előző 3 foglalás átlaga": "NULL"
                                },
                                {
                                    "Kategoria": "Átlag alatti",
                                    "FOGLALAS_PK": "620",
                                    "SZOBA_FK": "1",
                                    "UGYFEL_FK": "marton",
                                    "FELNOTT_SZAM": "1",
                                    "GYERMEK_SZAM": "0",
                                    "METTOL": "2016-05-05",
                                    "MEDDIG": "2016-05-10",
                                    "Ügyfél neve": "Kalacsi Márton",
                                    "Előző 3 foglalás átlaga": "NULL"
                                },
                                {
                                    "Kategoria": "Átlag alatti",
                                    "FOGLALAS_PK": "891",
                                    "SZOBA_FK": "63",
                                    "UGYFEL_FK": "MATYASS",
                                    "FELNOTT_SZAM": "1",
                                    "GYERMEK_SZAM": "0",
                                    "METTOL": "2016-06-02",
                                    "MEDDIG": "2016-06-08",
                                    "Ügyfél neve": "Szilágyi Mátyás",
                                    "Előző 3 foglalás átlaga": "NULL"
                                },
                                {
                                    "Kategoria": "Átlag alatti",
                                    "FOGLALAS_PK": "1190",
                                    "SZOBA_FK": "161",
                                    "UGYFEL_FK": "MATYASS",
                                    "FELNOTT_SZAM": "1",
                                    "GYERMEK_SZAM": "0",
                                    "METTOL": "2016-10-24",
                                    "MEDDIG": "2016-10-31",
                                    "Ügyfél neve": "Szilágyi Mátyás",
                                    "Előző 3 foglalás átlaga": "1"
                                },
                                {
                                    "Kategoria": "Átlag alatti",
                                    "FOGLALAS_PK": "839",
                                    "SZOBA_FK": "172",
                                    "UGYFEL_FK": "MIHALYJ",
                                    "FELNOTT_SZAM": "1",
                                    "GYERMEK_SZAM": "0",
                                    "METTOL": "2016-08-29",
                                    "MEDDIG": "2016-09-03",
                                    "Ügyfél neve": "Juhász Mihály",
                                    "Előző 3 foglalás átlaga": "NULL"
                                },
                                {
                                    "Kategoria": "Átlag alatti",
                                    "FOGLALAS_PK": "990",
                                    "SZOBA_FK": "6",
                                    "UGYFEL_FK": "MIHALYJ",
                                    "FELNOTT_SZAM": "1",
                                    "GYERMEK_SZAM": "0",
                                    "METTOL": "2016-06-27",
                                    "MEDDIG": "2016-07-01",
                                    "Ügyfél neve": "Juhász Mihály",
                                    "Előző 3 foglalás átlaga": "1"
                                },
                                {
                                    "Kategoria": "Átlag alatti",
                                    "FOGLALAS_PK": "1134",
                                    "SZOBA_FK": "126",
                                    "UGYFEL_FK": "miklos2",
                                    "FELNOTT_SZAM": "1",
                                    "GYERMEK_SZAM": "0",
                                    "METTOL": "2016-10-08",
                                    "MEDDIG": "2016-10-09",
                                    "Ügyfél neve": "Gondos Miklós",
                                    "Előző 3 foglalás átlaga": "NULL"
                                },
                                {
                                    "Kategoria": "Átlag alatti",
                                    "FOGLALAS_PK": "708",
                                    "SZOBA_FK": "106",
                                    "UGYFEL_FK": "MONIKAM",
                                    "FELNOTT_SZAM": "1",
                                    "GYERMEK_SZAM": "0",
                                    "METTOL": "2016-07-23",
                                    "MEDDIG": "2016-07-30",
                                    "Ügyfél neve": "Mohos Mónika",
                                    "Előző 3 foglalás átlaga": "NULL"
                                },
                                {
                                    "Kategoria": "Átlag alatti",
                                    "FOGLALAS_PK": "1450",
                                    "SZOBA_FK": "139",
                                    "UGYFEL_FK": "MONIKAM",
                                    "FELNOTT_SZAM": "1",
                                    "GYERMEK_SZAM": "0",
                                    "METTOL": "2017-01-17",
                                    "MEDDIG": "2017-01-24",
                                    "Ügyfél neve": "Mohos Mónika",
                                    "Előző 3 foglalás átlaga": "1"
                                },
                                {
                                    "Kategoria": "Átlag alatti",
                                    "FOGLALAS_PK": "897",
                                    "SZOBA_FK": "165",
                                    "UGYFEL_FK": "nikolett3",
                                    "FELNOTT_SZAM": "1",
                                    "GYERMEK_SZAM": "0",
                                    "METTOL": "2016-06-03",
                                    "MEDDIG": "2016-06-09",
                                    "Ügyfél neve": "Horváth Nikolett",
                                    "Előző 3 foglalás átlaga": "NULL"
                                },
                                {
                                    "Kategoria": "Átlag alatti",
                                    "FOGLALAS_PK": "976",
                                    "SZOBA_FK": "76",
                                    "UGYFEL_FK": "nikolett3",
                                    "FELNOTT_SZAM": "1",
                                    "GYERMEK_SZAM": "0",
                                    "METTOL": "2016-06-22",
                                    "MEDDIG": "2016-06-24",
                                    "Ügyfél neve": "Horváth Nikolett",
                                    "Előző 3 foglalás átlaga": "1"
                                },
                                {
                                    "Kategoria": "Átlag alatti",
                                    "FOGLALAS_PK": "1018",
                                    "SZOBA_FK": "40",
                                    "UGYFEL_FK": "norbert",
                                    "FELNOTT_SZAM": "1",
                                    "GYERMEK_SZAM": "0",
                                    "METTOL": "2016-07-08",
                                    "MEDDIG": "2016-07-13",
                                    "Ügyfél neve": "Szűcs Norbert",
                                    "Előző 3 foglalás átlaga": "NULL"
                                },
                                {
                                    "Kategoria": "Átlag alatti",
                                    "FOGLALAS_PK": "1576",
                                    "SZOBA_FK": "189",
                                    "UGYFEL_FK": "norbert",
                                    "FELNOTT_SZAM": "1",
                                    "GYERMEK_SZAM": "0",
                                    "METTOL": "2017-02-26",
                                    "MEDDIG": "2017-03-01",
                                    "Ügyfél neve": "Szűcs Norbert",
                                    "Előző 3 foglalás átlaga": "1"
                                },
                                {
                                    "Kategoria": "Átlag alatti",
                                    "FOGLALAS_PK": "587",
                                    "SZOBA_FK": "123",
                                    "UGYFEL_FK": "norbert2",
                                    "FELNOTT_SZAM": "1",
                                    "GYERMEK_SZAM": "0",
                                    "METTOL": "2016-04-19",
                                    "MEDDIG": "2016-04-26",
                                    "Ügyfél neve": "Hegedűs Norbert",
                                    "Előző 3 foglalás átlaga": "NULL"
                                },
                                {
                                    "Kategoria": "Átlag alatti",
                                    "FOGLALAS_PK": "782",
                                    "SZOBA_FK": "163",
                                    "UGYFEL_FK": "norbert2",
                                    "FELNOTT_SZAM": "1",
                                    "GYERMEK_SZAM": "0",
                                    "METTOL": "2016-08-16",
                                    "MEDDIG": "2016-08-19",
                                    "Ügyfél neve": "Hegedűs Norbert",
                                    "Előző 3 foglalás átlaga": "1"
                                },
                                {
                                    "Kategoria": "Átlag alatti",
                                    "FOGLALAS_PK": "1541",
                                    "SZOBA_FK": "155",
                                    "UGYFEL_FK": "norbert4",
                                    "FELNOTT_SZAM": "1",
                                    "GYERMEK_SZAM": "0",
                                    "METTOL": "2017-02-16",
                                    "MEDDIG": "2017-02-17",
                                    "Ügyfél neve": "Mile Norbert",
                                    "Előző 3 foglalás átlaga": "NULL"
                                },
                                {
                                    "Kategoria": "Átlag alatti",
                                    "FOGLALAS_PK": "1252",
                                    "SZOBA_FK": "7",
                                    "UGYFEL_FK": "norbert5",
                                    "FELNOTT_SZAM": "1",
                                    "GYERMEK_SZAM": "0",
                                    "METTOL": "2016-11-05",
                                    "MEDDIG": "2016-11-07",
                                    "Ügyfél neve": "Béres Norbert",
                                    "Előző 3 foglalás átlaga": "NULL"
                                },
                                {
                                    "Kategoria": "Átlag alatti",
                                    "FOGLALAS_PK": "1396",
                                    "SZOBA_FK": "72",
                                    "UGYFEL_FK": "peter3",
                                    "FELNOTT_SZAM": "1",
                                    "GYERMEK_SZAM": "0",
                                    "METTOL": "2016-12-25",
                                    "MEDDIG": "2016-12-28",
                                    "Ügyfél neve": "Szalai Péter",
                                    "Előző 3 foglalás átlaga": "NULL"
                                },
                                {
                                    "Kategoria": "Átlag alatti",
                                    "FOGLALAS_PK": "1434",
                                    "SZOBA_FK": "3",
                                    "UGYFEL_FK": "peter3",
                                    "FELNOTT_SZAM": "1",
                                    "GYERMEK_SZAM": "0",
                                    "METTOL": "2017-01-12",
                                    "MEDDIG": "2017-01-17",
                                    "Ügyfél neve": "Szalai Péter",
                                    "Előző 3 foglalás átlaga": "1"
                                },
                                {
                                    "Kategoria": "Átlag alatti",
                                    "FOGLALAS_PK": "562",
                                    "SZOBA_FK": "7",
                                    "UGYFEL_FK": "PETERB",
                                    "FELNOTT_SZAM": "1",
                                    "GYERMEK_SZAM": "0",
                                    "METTOL": "2016-04-06",
                                    "MEDDIG": "2016-04-10",
                                    "Ügyfél neve": "Berendi Péter",
                                    "Előző 3 foglalás átlaga": "NULL"
                                },
                                {
                                    "Kategoria": "Átlag alatti",
                                    "FOGLALAS_PK": "781",
                                    "SZOBA_FK": "166",
                                    "UGYFEL_FK": "PETERB",
                                    "FELNOTT_SZAM": "1",
                                    "GYERMEK_SZAM": "0",
                                    "METTOL": "2016-08-16",
                                    "MEDDIG": "2016-08-23",
                                    "Ügyfél neve": "Berendi Péter",
                                    "Előző 3 foglalás átlaga": "1"
                                },
                                {
                                    "Kategoria": "Átlag alatti",
                                    "FOGLALAS_PK": "1224",
                                    "SZOBA_FK": "50",
                                    "UGYFEL_FK": "RENATAK",
                                    "FELNOTT_SZAM": "1",
                                    "GYERMEK_SZAM": "0",
                                    "METTOL": "2016-10-30",
                                    "MEDDIG": "2016-10-31",
                                    "Ügyfél neve": "Kardos Renáta",
                                    "Előző 3 foglalás átlaga": "NULL"
                                },
                                {
                                    "Kategoria": "Átlag alatti",
                                    "FOGLALAS_PK": "1312",
                                    "SZOBA_FK": "94",
                                    "UGYFEL_FK": "RENATAK",
                                    "FELNOTT_SZAM": "1",
                                    "GYERMEK_SZAM": "0",
                                    "METTOL": "2016-11-23",
                                    "MEDDIG": "2016-11-26",
                                    "Ügyfél neve": "Kardos Renáta",
                                    "Előző 3 foglalás átlaga": "1"
                                },
                                {
                                    "Kategoria": "Átlag alatti",
                                    "FOGLALAS_PK": "1543",
                                    "SZOBA_FK": "95",
                                    "UGYFEL_FK": "RENATAK",
                                    "FELNOTT_SZAM": "1",
                                    "GYERMEK_SZAM": "0",
                                    "METTOL": "2017-02-16",
                                    "MEDDIG": "2017-02-23",
                                    "Ügyfél neve": "Kardos Renáta",
                                    "Előző 3 foglalás átlaga": "1"
                                },
                                {
                                    "Kategoria": "Átlag alatti",
                                    "FOGLALAS_PK": "1581",
                                    "SZOBA_FK": "48",
                                    "UGYFEL_FK": "RENATAK",
                                    "FELNOTT_SZAM": "1",
                                    "GYERMEK_SZAM": "0",
                                    "METTOL": "2017-03-01",
                                    "MEDDIG": "2017-03-06",
                                    "Ügyfél neve": "Kardos Renáta",
                                    "Előző 3 foglalás átlaga": "1"
                                },
                                {
                                    "Kategoria": "Átlag alatti",
                                    "FOGLALAS_PK": "1529",
                                    "SZOBA_FK": "35",
                                    "UGYFEL_FK": "RENATAS",
                                    "FELNOTT_SZAM": "1",
                                    "GYERMEK_SZAM": "0",
                                    "METTOL": "2017-02-13",
                                    "MEDDIG": "2017-02-17",
                                    "Ügyfél neve": "Szirmai Renáta",
                                    "Előző 3 foglalás átlaga": "NULL"
                                },
                                {
                                    "Kategoria": "Átlag alatti",
                                    "FOGLALAS_PK": "1374",
                                    "SZOBA_FK": "118",
                                    "UGYFEL_FK": "robert2",
                                    "FELNOTT_SZAM": "1",
                                    "GYERMEK_SZAM": "0",
                                    "METTOL": "2016-12-17",
                                    "MEDDIG": "2016-12-22",
                                    "Ügyfél neve": "Patay Róbert",
                                    "Előző 3 foglalás átlaga": "NULL"
                                },
                                {
                                    "Kategoria": "Átlag alatti",
                                    "FOGLALAS_PK": "1186",
                                    "SZOBA_FK": "58",
                                    "UGYFEL_FK": "ROBERTI",
                                    "FELNOTT_SZAM": "1",
                                    "GYERMEK_SZAM": "0",
                                    "METTOL": "2016-10-23",
                                    "MEDDIG": "2016-10-29",
                                    "Ügyfél neve": "Iván Róbert",
                                    "Előző 3 foglalás átlaga": "NULL"
                                },
                                {
                                    "Kategoria": "Átlag alatti",
                                    "FOGLALAS_PK": "1384",
                                    "SZOBA_FK": "84",
                                    "UGYFEL_FK": "roland1",
                                    "FELNOTT_SZAM": "1",
                                    "GYERMEK_SZAM": "0",
                                    "METTOL": "2016-12-22",
                                    "MEDDIG": "2016-12-29",
                                    "Ügyfél neve": "Ferencz Roland",
                                    "Előző 3 foglalás átlaga": "NULL"
                                },
                                {
                                    "Kategoria": "Átlag alatti",
                                    "FOGLALAS_PK": "858",
                                    "SZOBA_FK": "121",
                                    "UGYFEL_FK": "sandor3",
                                    "FELNOTT_SZAM": "1",
                                    "GYERMEK_SZAM": "0",
                                    "METTOL": "2016-05-25",
                                    "MEDDIG": "2016-05-30",
                                    "Ügyfél neve": "Farkas Sándor",
                                    "Előző 3 foglalás átlaga": "NULL"
                                },
                                {
                                    "Kategoria": "Átlag alatti",
                                    "FOGLALAS_PK": "1156",
                                    "SZOBA_FK": "140",
                                    "UGYFEL_FK": "sandor4",
                                    "FELNOTT_SZAM": "1",
                                    "GYERMEK_SZAM": "0",
                                    "METTOL": "2016-10-15",
                                    "MEDDIG": "2016-10-18",
                                    "Ügyfél neve": "Nagy Sándor",
                                    "Előző 3 foglalás átlaga": "NULL"
                                },
                                {
                                    "Kategoria": "Átlag alatti",
                                    "FOGLALAS_PK": "1339",
                                    "SZOBA_FK": "120",
                                    "UGYFEL_FK": "sandor4",
                                    "FELNOTT_SZAM": "1",
                                    "GYERMEK_SZAM": "0",
                                    "METTOL": "2016-12-03",
                                    "MEDDIG": "2016-12-09",
                                    "Ügyfél neve": "Nagy Sándor",
                                    "Előző 3 foglalás átlaga": "1"
                                },
                                {
                                    "Kategoria": "Átlag alatti",
                                    "FOGLALAS_PK": "1351",
                                    "SZOBA_FK": "38",
                                    "UGYFEL_FK": "sara",
                                    "FELNOTT_SZAM": "1",
                                    "GYERMEK_SZAM": "0",
                                    "METTOL": "2016-12-06",
                                    "MEDDIG": "2016-12-10",
                                    "Ügyfél neve": "Farkas Sára",
                                    "Előző 3 foglalás átlaga": "NULL"
                                },
                                {
                                    "Kategoria": "Átlag alatti",
                                    "FOGLALAS_PK": "1508",
                                    "SZOBA_FK": "191",
                                    "UGYFEL_FK": "SZILARDS",
                                    "FELNOTT_SZAM": "1",
                                    "GYERMEK_SZAM": "0",
                                    "METTOL": "2017-02-08",
                                    "MEDDIG": "2017-02-15",
                                    "Ügyfél neve": "Szalai Szilárd",
                                    "Előző 3 foglalás átlaga": "NULL"
                                },
                                {
                                    "Kategoria": "Átlag alatti",
                                    "FOGLALAS_PK": "1338",
                                    "SZOBA_FK": "145",
                                    "UGYFEL_FK": "TAMASF",
                                    "FELNOTT_SZAM": "1",
                                    "GYERMEK_SZAM": "0",
                                    "METTOL": "2016-12-02",
                                    "MEDDIG": "2016-12-04",
                                    "Ügyfél neve": "Fényes Tamás",
                                    "Előző 3 foglalás átlaga": "NULL"
                                },
                                {
                                    "Kategoria": "Átlag alatti",
                                    "FOGLALAS_PK": "1251",
                                    "SZOBA_FK": "184",
                                    "UGYFEL_FK": "tibor",
                                    "FELNOTT_SZAM": "1",
                                    "GYERMEK_SZAM": "0",
                                    "METTOL": "2016-11-05",
                                    "MEDDIG": "2016-11-09",
                                    "Ügyfél neve": "Gombos Tibor",
                                    "Előző 3 foglalás átlaga": "NULL"
                                },
                                {
                                    "Kategoria": "Átlag alatti",
                                    "FOGLALAS_PK": "881",
                                    "SZOBA_FK": "131",
                                    "UGYFEL_FK": "tihamer",
                                    "FELNOTT_SZAM": "1",
                                    "GYERMEK_SZAM": "0",
                                    "METTOL": "2016-05-30",
                                    "MEDDIG": "2016-06-05",
                                    "Ügyfél neve": "Kazy Tihamér",
                                    "Előző 3 foglalás átlaga": "NULL"
                                },
                                {
                                    "Kategoria": "Átlag alatti",
                                    "FOGLALAS_PK": "669",
                                    "SZOBA_FK": "173",
                                    "UGYFEL_FK": "tunde",
                                    "FELNOTT_SZAM": "1",
                                    "GYERMEK_SZAM": "0",
                                    "METTOL": "2016-07-14",
                                    "MEDDIG": "2016-07-21",
                                    "Ügyfél neve": "Turcsik Tünde",
                                    "Előző 3 foglalás átlaga": "NULL"
                                },
                                {
                                    "Kategoria": "Átlag alatti",
                                    "FOGLALAS_PK": "709",
                                    "SZOBA_FK": "172",
                                    "UGYFEL_FK": "valentin",
                                    "FELNOTT_SZAM": "1",
                                    "GYERMEK_SZAM": "0",
                                    "METTOL": "2016-07-24",
                                    "MEDDIG": "2016-07-29",
                                    "Ügyfél neve": "Feró Valentin",
                                    "Előző 3 foglalás átlaga": "NULL"
                                },
                                {
                                    "Kategoria": "Átlag alatti",
                                    "FOGLALAS_PK": "790",
                                    "SZOBA_FK": "10",
                                    "UGYFEL_FK": "veronika4",
                                    "FELNOTT_SZAM": "1",
                                    "GYERMEK_SZAM": "0",
                                    "METTOL": "2016-08-16",
                                    "MEDDIG": "2016-08-21",
                                    "Ügyfél neve": "Tankó Veronika",
                                    "Előző 3 foglalás átlaga": "NULL"
                                },
                                {
                                    "Kategoria": "Átlag alatti",
                                    "FOGLALAS_PK": "610",
                                    "SZOBA_FK": "106",
                                    "UGYFEL_FK": "VIKTORIAU",
                                    "FELNOTT_SZAM": "1",
                                    "GYERMEK_SZAM": "0",
                                    "METTOL": "2016-04-30",
                                    "MEDDIG": "2016-05-03",
                                    "Ügyfél neve": "Urbán Viktoria",
                                    "Előző 3 foglalás átlaga": "NULL"
                                },
                                {
                                    "Kategoria": "Átlag alatti",
                                    "FOGLALAS_PK": "1103",
                                    "SZOBA_FK": "87",
                                    "UGYFEL_FK": "vivien3",
                                    "FELNOTT_SZAM": "1",
                                    "GYERMEK_SZAM": "0",
                                    "METTOL": "2016-10-01",
                                    "MEDDIG": "2016-10-04",
                                    "Ügyfél neve": "Boros Vivien",
                                    "Előző 3 foglalás átlaga": "NULL"
                                },
                                {
                                    "Kategoria": "Átlag alatti",
                                    "FOGLALAS_PK": "779",
                                    "SZOBA_FK": "130",
                                    "UGYFEL_FK": "zoltan4",
                                    "FELNOTT_SZAM": "1",
                                    "GYERMEK_SZAM": "0",
                                    "METTOL": "2016-08-15",
                                    "MEDDIG": "2016-08-21",
                                    "Ügyfél neve": "Barna Zoltán",
                                    "Előző 3 foglalás átlaga": "NULL"
                                },
                                {
                                    "Kategoria": "Átlag alatti",
                                    "FOGLALAS_PK": "893",
                                    "SZOBA_FK": "151",
                                    "UGYFEL_FK": "zoltan4",
                                    "FELNOTT_SZAM": "1",
                                    "GYERMEK_SZAM": "0",
                                    "METTOL": "2016-06-03",
                                    "MEDDIG": "2016-06-06",
                                    "Ügyfél neve": "Barna Zoltán",
                                    "Előző 3 foglalás átlaga": "1"
                                },
                                {
                                    "Kategoria": "Átlag alatti",
                                    "FOGLALAS_PK": "1230",
                                    "SZOBA_FK": "182",
                                    "UGYFEL_FK": "zoltan4",
                                    "FELNOTT_SZAM": "1",
                                    "GYERMEK_SZAM": "0",
                                    "METTOL": "2016-10-30",
                                    "MEDDIG": "2016-11-06",
                                    "Ügyfél neve": "Barna Zoltán",
                                    "Előző 3 foglalás átlaga": "1"
                                },
                                {
                                    "Kategoria": "Átlag alatti",
                                    "FOGLALAS_PK": "1403",
                                    "SZOBA_FK": "124",
                                    "UGYFEL_FK": "zoltan4",
                                    "FELNOTT_SZAM": "1",
                                    "GYERMEK_SZAM": "0",
                                    "METTOL": "2016-12-29",
                                    "MEDDIG": "2017-01-04",
                                    "Ügyfél neve": "Barna Zoltán",
                                    "Előző 3 foglalás átlaga": "1"
                                },
                                {
                                    "Kategoria": "Átlag alatti",
                                    "FOGLALAS_PK": "867",
                                    "SZOBA_FK": "175",
                                    "UGYFEL_FK": "ZSOLTJ",
                                    "FELNOTT_SZAM": "1",
                                    "GYERMEK_SZAM": "0",
                                    "METTOL": "2016-05-28",
                                    "MEDDIG": "2016-06-03",
                                    "Ügyfél neve": "Józsa Zsolt",
                                    "Előző 3 foglalás átlaga": "NULL"
                                },
                                {
                                    "Kategoria": "Átlag alatti",
                                    "FOGLALAS_PK": "1428",
                                    "SZOBA_FK": "126",
                                    "UGYFEL_FK": "zsuzsanna",
                                    "FELNOTT_SZAM": "1",
                                    "GYERMEK_SZAM": "0",
                                    "METTOL": "2017-01-09",
                                    "MEDDIG": "2017-01-16",
                                    "Ügyfél neve": "Barta Zsuzsanna",
                                    "Előző 3 foglalás átlaga": "NULL"
                                },
                                {
                                    "Kategoria": "Átlag alatti",
                                    "FOGLALAS_PK": "1202",
                                    "SZOBA_FK": "52",
                                    "UGYFEL_FK": "ZSUZSAV",
                                    "FELNOTT_SZAM": "1",
                                    "GYERMEK_SZAM": "0",
                                    "METTOL": "2016-10-26",
                                    "MEDDIG": "2016-10-28",
                                    "Ügyfél neve": "Vajda Zsuzsa",
                                    "Előző 3 foglalás átlaga": "NULL"
                                }
                            ]
                        },
                        "text/html": [
                            "<table>",
                            "<tr><th>Kategoria</th><th>FOGLALAS_PK</th><th>SZOBA_FK</th><th>UGYFEL_FK</th><th>FELNOTT_SZAM</th><th>GYERMEK_SZAM</th><th>METTOL</th><th>MEDDIG</th><th>Ügyfél neve</th><th>Előző 3 foglalás átlaga</th></tr>",
                            "<tr><td>Átlag alatti</td><td>803</td><td>1</td><td>adam1</td><td>1</td><td>0</td><td>2016-08-20</td><td>2016-08-24</td><td>Kiss Ádám</td><td>NULL</td></tr>",
                            "<tr><td>Átlag alatti</td><td>1504</td><td>57</td><td>adam3</td><td>1</td><td>0</td><td>2017-02-06</td><td>2017-02-10</td><td>Barkóci Ádám</td><td>NULL</td></tr>",
                            "<tr><td>Átlag alatti</td><td>857</td><td>165</td><td>agnes</td><td>1</td><td>0</td><td>2016-05-25</td><td>2016-05-30</td><td>Lengyel Ágnes</td><td>NULL</td></tr>",
                            "<tr><td>Átlag alatti</td><td>755</td><td>20</td><td>agnes3</td><td>1</td><td>0</td><td>2016-08-04</td><td>2016-08-10</td><td>Hartyánszky Ágnes</td><td>NULL</td></tr>",
                            "<tr><td>Átlag alatti</td><td>980</td><td>143</td><td>AGNESH</td><td>1</td><td>0</td><td>2016-06-23</td><td>2016-06-26</td><td>Horváth Ágnes</td><td>NULL</td></tr>",
                            "<tr><td>Átlag alatti</td><td>1225</td><td>69</td><td>AGNESH</td><td>1</td><td>0</td><td>2016-10-30</td><td>2016-11-04</td><td>Horváth Ágnes</td><td>1</td></tr>",
                            "<tr><td>Átlag alatti</td><td>705</td><td>37</td><td>akos</td><td>1</td><td>0</td><td>2016-07-22</td><td>2016-07-26</td><td>Bíró Ákos</td><td>NULL</td></tr>",
                            "<tr><td>Átlag alatti</td><td>1034</td><td>127</td><td>akos</td><td>1</td><td>0</td><td>2016-09-06</td><td>2016-09-12</td><td>Bíró Ákos</td><td>1</td></tr>",
                            "<tr><td>Átlag alatti</td><td>651</td><td>4</td><td>aladar</td><td>1</td><td>0</td><td>2016-05-17</td><td>2016-05-24</td><td>Dunai Aladár</td><td>NULL</td></tr>",
                            "<tr><td>Átlag alatti</td><td>1079</td><td>86</td><td>aladar</td><td>1</td><td>0</td><td>2016-09-24</td><td>2016-09-28</td><td>Dunai Aladár</td><td>1</td></tr>",
                            "<tr><td>Átlag alatti</td><td>1436</td><td>35</td><td>alexandra</td><td>1</td><td>0</td><td>2017-01-13</td><td>2017-01-14</td><td>Bagóczki Alexandra</td><td>NULL</td></tr>",
                            "<tr><td>Átlag alatti</td><td>955</td><td>47</td><td>andi</td><td>1</td><td>0</td><td>2016-06-13</td><td>2016-06-14</td><td>Maródi Andrea</td><td>NULL</td></tr>",
                            "<tr><td>Átlag alatti</td><td>884</td><td>98</td><td>andras2</td><td>1</td><td>0</td><td>2016-05-30</td><td>2016-06-04</td><td>Tóth András</td><td>NULL</td></tr>",
                            "<tr><td>Átlag alatti</td><td>697</td><td>12</td><td>andras21</td><td>1</td><td>0</td><td>2016-07-20</td><td>2016-07-22</td><td>Molnár András</td><td>NULL</td></tr>",
                            "<tr><td>Átlag alatti</td><td>880</td><td>184</td><td>andras3</td><td>1</td><td>0</td><td>2016-05-30</td><td>2016-06-03</td><td>Vígh András</td><td>NULL</td></tr>",
                            "<tr><td>Átlag alatti</td><td>949</td><td>1</td><td>andras3</td><td>1</td><td>0</td><td>2016-06-10</td><td>2016-06-11</td><td>Vígh András</td><td>1</td></tr>",
                            "<tr><td>Átlag alatti</td><td>799</td><td>175</td><td>andras41</td><td>1</td><td>0</td><td>2016-08-19</td><td>2016-08-23</td><td>Komjáti András</td><td>NULL</td></tr>",
                            "<tr><td>Átlag alatti</td><td>1074</td><td>195</td><td>andras41</td><td>1</td><td>0</td><td>2016-09-22</td><td>2016-09-29</td><td>Komjáti András</td><td>1</td></tr>",
                            "<tr><td>Átlag alatti</td><td>1308</td><td>182</td><td>andras41</td><td>1</td><td>0</td><td>2016-11-23</td><td>2016-11-24</td><td>Komjáti András</td><td>1</td></tr>",
                            "<tr><td>Átlag alatti</td><td>600</td><td>190</td><td>ANDRASE</td><td>1</td><td>0</td><td>2016-04-24</td><td>2016-05-01</td><td>Erdei András</td><td>NULL</td></tr>",
                            "<tr><td>Átlag alatti</td><td>860</td><td>70</td><td>andrea4</td><td>1</td><td>0</td><td>2016-05-27</td><td>2016-05-29</td><td>Neizer Andrea</td><td>NULL</td></tr>",
                            "<tr><td>Átlag alatti</td><td>567</td><td>170</td><td>anett3</td><td>1</td><td>0</td><td>2016-04-10</td><td>2016-04-17</td><td>Pivarcsi Anett</td><td>NULL</td></tr>",
                            "<tr><td>Átlag alatti</td><td>1159</td><td>73</td><td>anett3</td><td>1</td><td>0</td><td>2016-10-16</td><td>2016-10-21</td><td>Pivarcsi Anett</td><td>1</td></tr>",
                            "<tr><td>Átlag alatti</td><td>1001</td><td>4</td><td>aniko4</td><td>1</td><td>0</td><td>2016-07-02</td><td>2016-07-09</td><td>Böröcz Anikó</td><td>NULL</td></tr>",
                            "<tr><td>Átlag alatti</td><td>965</td><td>5</td><td>ANIKOS</td><td>1</td><td>0</td><td>2016-06-16</td><td>2016-06-23</td><td>Simon Anikó</td><td>NULL</td></tr>",
                            "<tr><td>Átlag alatti</td><td>684</td><td>184</td><td>ANNAMARIAR</td><td>1</td><td>0</td><td>2016-07-18</td><td>2016-07-21</td><td>Regős Annamária</td><td>NULL</td></tr>",
                            "<tr><td>Átlag alatti</td><td>1056</td><td>47</td><td>ARPADH</td><td>1</td><td>0</td><td>2016-09-16</td><td>2016-09-23</td><td>Horváth Árpád</td><td>NULL</td></tr>",
                            "<tr><td>Átlag alatti</td><td>1066</td><td>49</td><td>ARPADH</td><td>1</td><td>0</td><td>2016-09-18</td><td>2016-09-25</td><td>Horváth Árpád</td><td>1</td></tr>",
                            "<tr><td>Átlag alatti</td><td>1342</td><td>170</td><td>ARPADH</td><td>1</td><td>0</td><td>2016-12-04</td><td>2016-12-10</td><td>Horváth Árpád</td><td>1</td></tr>",
                            "<tr><td>Átlag alatti</td><td>1420</td><td>198</td><td>ARPADM</td><td>1</td><td>0</td><td>2017-01-05</td><td>2017-01-10</td><td>Móricz Árpád</td><td>NULL</td></tr>",
                            "<tr><td>Átlag alatti</td><td>1154</td><td>115</td><td>attila</td><td>1</td><td>0</td><td>2016-10-15</td><td>2016-10-19</td><td>Csóti Attila</td><td>NULL</td></tr>",
                            "<tr><td>Átlag alatti</td><td>657</td><td>137</td><td>attila1</td><td>1</td><td>0</td><td>2016-05-20</td><td>2016-05-26</td><td>Gulyás Attila</td><td>NULL</td></tr>",
                            "<tr><td>Átlag alatti</td><td>1578</td><td>148</td><td>balazs2</td><td>1</td><td>0</td><td>2017-02-27</td><td>2017-03-06</td><td>Szűcs Balázs</td><td>NULL</td></tr>",
                            "<tr><td>Átlag alatti</td><td>948</td><td>19</td><td>balint1</td><td>1</td><td>0</td><td>2016-06-10</td><td>2016-06-12</td><td>Molnár Bálint</td><td>NULL</td></tr>",
                            "<tr><td>Átlag alatti</td><td>1057</td><td>86</td><td>balint1</td><td>1</td><td>0</td><td>2016-09-16</td><td>2016-09-21</td><td>Molnár Bálint</td><td>1</td></tr>",
                            "<tr><td>Átlag alatti</td><td>702</td><td>62</td><td>balint2</td><td>1</td><td>0</td><td>2016-07-21</td><td>2016-07-26</td><td>Vukasinovity Bálint</td><td>NULL</td></tr>",
                            "<tr><td>Átlag alatti</td><td>1005</td><td>22</td><td>beata4</td><td>1</td><td>0</td><td>2016-07-03</td><td>2016-07-06</td><td>Bagi Beáta</td><td>NULL</td></tr>",
                            "<tr><td>Átlag alatti</td><td>1112</td><td>155</td><td>beata4</td><td>1</td><td>0</td><td>2016-10-01</td><td>2016-10-05</td><td>Bagi Beáta</td><td>1</td></tr>",
                            "<tr><td>Átlag alatti</td><td>586</td><td>107</td><td>BEATRIXS</td><td>1</td><td>0</td><td>2016-04-18</td><td>2016-04-24</td><td>Szekendi Beatrix</td><td>NULL</td></tr>",
                            "<tr><td>Átlag alatti</td><td>1350</td><td>173</td><td>BELAF</td><td>1</td><td>0</td><td>2016-12-06</td><td>2016-12-09</td><td>Farkas Béla</td><td>NULL</td></tr>",
                            "<tr><td>Átlag alatti</td><td>872</td><td>28</td><td>bence</td><td>1</td><td>0</td><td>2016-05-29</td><td>2016-06-03</td><td>Győrffy Bence</td><td>NULL</td></tr>",
                            "<tr><td>Átlag alatti</td><td>1568</td><td>29</td><td>bernadett1</td><td>1</td><td>0</td><td>2017-02-24</td><td>2017-03-03</td><td>Simon Bernadett</td><td>NULL</td></tr>",
                            "<tr><td>Átlag alatti</td><td>1367</td><td>80</td><td>bernadett2</td><td>1</td><td>0</td><td>2016-12-17</td><td>2016-12-20</td><td>Kovács Bernadett</td><td>NULL</td></tr>",
                            "<tr><td>Átlag alatti</td><td>974</td><td>169</td><td>bertalan</td><td>1</td><td>0</td><td>2016-06-20</td><td>2016-06-21</td><td>Csiger Bertalan</td><td>NULL</td></tr>",
                            "<tr><td>Átlag alatti</td><td>1469</td><td>13</td><td>brigitta</td><td>1</td><td>0</td><td>2017-01-23</td><td>2017-01-25</td><td>Székely Brigitta</td><td>NULL</td></tr>",
                            "<tr><td>Átlag alatti</td><td>1102</td><td>108</td><td>dani</td><td>1</td><td>0</td><td>2016-10-01</td><td>2016-10-02</td><td>Vörös Dániel</td><td>NULL</td></tr>",
                            "<tr><td>Átlag alatti</td><td>1466</td><td>57</td><td>dani</td><td>1</td><td>0</td><td>2017-01-22</td><td>2017-01-29</td><td>Vörös Dániel</td><td>1</td></tr>",
                            "<tr><td>Átlag alatti</td><td>1430</td><td>12</td><td>daniel</td><td>1</td><td>0</td><td>2017-01-09</td><td>2017-01-11</td><td>Rácz Dániel</td><td>NULL</td></tr>",
                            "<tr><td>Átlag alatti</td><td>757</td><td>88</td><td>david</td><td>1</td><td>0</td><td>2016-08-05</td><td>2016-08-12</td><td>Ambrus Dávid</td><td>NULL</td></tr>",
                            "<tr><td>Átlag alatti</td><td>1250</td><td>107</td><td>emese</td><td>1</td><td>0</td><td>2016-11-05</td><td>2016-11-09</td><td>Kuruc Emese</td><td>NULL</td></tr>",
                            "<tr><td>Átlag alatti</td><td>1017</td><td>190</td><td>eszter2</td><td>1</td><td>0</td><td>2016-07-08</td><td>2016-07-09</td><td>Balogh Eszter</td><td>NULL</td></tr>",
                            "<tr><td>Átlag alatti</td><td>1109</td><td>110</td><td>eszter2</td><td>1</td><td>0</td><td>2016-10-01</td><td>2016-10-06</td><td>Balogh Eszter</td><td>1</td></tr>",
                            "<tr><td>Átlag alatti</td><td>1171</td><td>172</td><td>eszter2</td><td>1</td><td>0</td><td>2016-10-20</td><td>2016-10-25</td><td>Balogh Eszter</td><td>1</td></tr>",
                            "<tr><td>Átlag alatti</td><td>1187</td><td>46</td><td>eszter2</td><td>1</td><td>0</td><td>2016-10-23</td><td>2016-10-30</td><td>Balogh Eszter</td><td>1</td></tr>",
                            "<tr><td>Átlag alatti</td><td>1336</td><td>172</td><td>eszter2</td><td>1</td><td>0</td><td>2016-12-02</td><td>2016-12-07</td><td>Balogh Eszter</td><td>1</td></tr>",
                            "<tr><td>Átlag alatti</td><td>1480</td><td>35</td><td>eszter2</td><td>1</td><td>0</td><td>2016-12-29</td><td>2017-02-04</td><td>Balogh Eszter</td><td>1</td></tr>",
                            "<tr><td>Átlag alatti</td><td>845</td><td>63</td><td>eva2</td><td>1</td><td>0</td><td>2016-09-02</td><td>2016-09-03</td><td>Perlinger Éva</td><td>NULL</td></tr>",
                            "<tr><td>Átlag alatti</td><td>1366</td><td>81</td><td>fruzsina4</td><td>1</td><td>0</td><td>2016-12-16</td><td>2016-12-21</td><td>Frank Fruzsina</td><td>NULL</td></tr>",
                            "<tr><td>Átlag alatti</td><td>1026</td><td>119</td><td>gabor1</td><td>1</td><td>0</td><td>2016-07-12</td><td>2016-07-15</td><td>Köves Gábor</td><td>NULL</td></tr>",
                            "<tr><td>Átlag alatti</td><td>1169</td><td>93</td><td>gabor1</td><td>1</td><td>0</td><td>2016-10-20</td><td>2016-10-24</td><td>Köves Gábor</td><td>1</td></tr>",
                            "<tr><td>Átlag alatti</td><td>878</td><td>83</td><td>gabor4</td><td>1</td><td>0</td><td>2016-05-30</td><td>2016-06-05</td><td>Telek Gábor</td><td>NULL</td></tr>",
                            "<tr><td>Átlag alatti</td><td>945</td><td>23</td><td>GYONGYIK</td><td>1</td><td>0</td><td>2016-06-10</td><td>2016-06-17</td><td>Kornseé Gyöngyi</td><td>NULL</td></tr>",
                            "<tr><td>Átlag alatti</td><td>1213</td><td>91</td><td>GYORGYO</td><td>1</td><td>0</td><td>2016-10-28</td><td>2016-10-31</td><td>Oroszi György</td><td>NULL</td></tr>",
                            "<tr><td>Átlag alatti</td><td>818</td><td>8</td><td>henrik3</td><td>1</td><td>0</td><td>2016-08-24</td><td>2016-08-28</td><td>Nádudvari Henrik</td><td>NULL</td></tr>",
                            "<tr><td>Átlag alatti</td><td>689</td><td>102</td><td>istvan1</td><td>1</td><td>0</td><td>2016-07-19</td><td>2016-07-24</td><td>Vizi István</td><td>NULL</td></tr>",
                            "<tr><td>Átlag alatti</td><td>904</td><td>34</td><td>janos3</td><td>1</td><td>0</td><td>2016-06-04</td><td>2016-06-06</td><td>Harangozó János</td><td>NULL</td></tr>",
                            "<tr><td>Átlag alatti</td><td>1177</td><td>150</td><td>janos3</td><td>1</td><td>0</td><td>2016-10-22</td><td>2016-10-23</td><td>Harangozó János</td><td>1</td></tr>",
                            "<tr><td>Átlag alatti</td><td>631</td><td>98</td><td>JANOSG</td><td>1</td><td>0</td><td>2016-05-09</td><td>2016-05-15</td><td>Giliga János</td><td>NULL</td></tr>",
                            "<tr><td>Átlag alatti</td><td>852</td><td>24</td><td>JOZSEFG</td><td>1</td><td>0</td><td>2016-05-23</td><td>2016-05-25</td><td>Gyuris József</td><td>NULL</td></tr>",
                            "<tr><td>Átlag alatti</td><td>1461</td><td>77</td><td>JOZSEFG</td><td>1</td><td>0</td><td>2017-01-22</td><td>2017-01-26</td><td>Gyuris József</td><td>1</td></tr>",
                            "<tr><td>Átlag alatti</td><td>1379</td><td>83</td><td>JUDITH</td><td>1</td><td>0</td><td>2016-12-19</td><td>2016-12-26</td><td>Hídasi Judit</td><td>NULL</td></tr>",
                            "<tr><td>Átlag alatti</td><td>638</td><td>67</td><td>julia</td><td>1</td><td>0</td><td>2016-05-12</td><td>2016-05-17</td><td>Tóth Júlia</td><td>NULL</td></tr>",
                            "<tr><td>Átlag alatti</td><td>1258</td><td>52</td><td>julia4</td><td>1</td><td>0</td><td>2016-11-07</td><td>2016-11-12</td><td>Nagy Júlia</td><td>NULL</td></tr>",
                            "<tr><td>Átlag alatti</td><td>601</td><td>39</td><td>kata</td><td>1</td><td>0</td><td>2016-04-25</td><td>2016-05-01</td><td>Gondos Katalin</td><td>NULL</td></tr>",
                            "<tr><td>Átlag alatti</td><td>1006</td><td>70</td><td>kata</td><td>1</td><td>0</td><td>2016-07-03</td><td>2016-07-06</td><td>Gondos Katalin</td><td>1</td></tr>",
                            "<tr><td>Átlag alatti</td><td>661</td><td>136</td><td>katalin</td><td>1</td><td>0</td><td>2016-05-21</td><td>2016-05-26</td><td>Horváth Katalin</td><td>NULL</td></tr>",
                            "<tr><td>Átlag alatti</td><td>733</td><td>140</td><td>katalin</td><td>1</td><td>0</td><td>2016-07-28</td><td>2016-07-29</td><td>Horváth Katalin</td><td>1</td></tr>",
                            "<tr><td>Átlag alatti</td><td>1015</td><td>174</td><td>katalin</td><td>1</td><td>0</td><td>2016-07-06</td><td>2016-07-11</td><td>Horváth Katalin</td><td>1</td></tr>",
                            "<tr><td>Átlag alatti</td><td>1372</td><td>106</td><td>katalin</td><td>1</td><td>0</td><td>2016-12-17</td><td>2016-12-24</td><td>Horváth Katalin</td><td>1</td></tr>",
                            "<tr><td>Átlag alatti</td><td>997</td><td>82</td><td>katalin4</td><td>1</td><td>0</td><td>2016-07-01</td><td>2016-07-07</td><td>Kertész Katalin</td><td>NULL</td></tr>",
                            "<tr><td>Átlag alatti</td><td>954</td><td>84</td><td>katka</td><td>1</td><td>0</td><td>2016-06-13</td><td>2016-06-18</td><td>Kovács Katalin</td><td>NULL</td></tr>",
                            "<tr><td>Átlag alatti</td><td>787</td><td>50</td><td>krisztian4</td><td>1</td><td>0</td><td>2016-08-16</td><td>2016-08-19</td><td>Czérna Krisztián</td><td>NULL</td></tr>",
                            "<tr><td>Átlag alatti</td><td>834</td><td>149</td><td>krisztian4</td><td>1</td><td>0</td><td>2016-08-29</td><td>2016-09-03</td><td>Czérna Krisztián</td><td>1</td></tr>",
                            "<tr><td>Átlag alatti</td><td>1422</td><td>182</td><td>krisztian4</td><td>1</td><td>0</td><td>2017-01-06</td><td>2017-01-09</td><td>Czérna Krisztián</td><td>1</td></tr>",
                            "<tr><td>Átlag alatti</td><td>1443</td><td>81</td><td>KRISZTIANM</td><td>1</td><td>0</td><td>2017-01-16</td><td>2017-01-23</td><td>Mogyródi Krisztián</td><td>NULL</td></tr>",
                            "<tr><td>Átlag alatti</td><td>1048</td><td>95</td><td>krisztina</td><td>1</td><td>0</td><td>2016-09-13</td><td>2016-09-16</td><td>Szedlár Krisztina</td><td>NULL</td></tr>",
                            "<tr><td>Átlag alatti</td><td>1306</td><td>133</td><td>krisztina</td><td>1</td><td>0</td><td>2016-11-22</td><td>2016-11-25</td><td>Szedlár Krisztina</td><td>1</td></tr>",
                            "<tr><td>Átlag alatti</td><td>648</td><td>157</td><td>krisztina1</td><td>1</td><td>0</td><td>2016-05-16</td><td>2016-05-20</td><td>Bori Krisztina</td><td>NULL</td></tr>",
                            "<tr><td>Átlag alatti</td><td>854</td><td>167</td><td>KRISZTINAG</td><td>1</td><td>0</td><td>2016-05-24</td><td>2016-05-31</td><td>Gyárfás Krisztina</td><td>NULL</td></tr>",
                            "<tr><td>Átlag alatti</td><td>935</td><td>56</td><td>KRISZTINAG</td><td>1</td><td>0</td><td>2016-06-08</td><td>2016-06-12</td><td>Gyárfás Krisztina</td><td>1</td></tr>",
                            "<tr><td>Átlag alatti</td><td>1523</td><td>11</td><td>lajos</td><td>1</td><td>0</td><td>2017-02-12</td><td>2017-02-13</td><td>Kiss Lajos</td><td>NULL</td></tr>",
                            "<tr><td>Átlag alatti</td><td>923</td><td>123</td><td>LASZLOA</td><td>1</td><td>0</td><td>2016-06-07</td><td>2016-06-11</td><td>Antal László</td><td>NULL</td></tr>",
                            "<tr><td>Átlag alatti</td><td>892</td><td>165</td><td>LASZLON</td><td>1</td><td>0</td><td>2016-06-03</td><td>2016-06-06</td><td>Nagy László</td><td>NULL</td></tr>",
                            "<tr><td>Átlag alatti</td><td>1136</td><td>30</td><td>LASZLON</td><td>1</td><td>0</td><td>2016-10-09</td><td>2016-10-14</td><td>Nagy László</td><td>1</td></tr>",
                            "<tr><td>Átlag alatti</td><td>1329</td><td>171</td><td>LASZLON</td><td>1</td><td>0</td><td>2016-11-29</td><td>2016-12-04</td><td>Nagy László</td><td>1</td></tr>",
                            "<tr><td>Átlag alatti</td><td>652</td><td>149</td><td>maria1</td><td>1</td><td>0</td><td>2016-05-18</td><td>2016-05-19</td><td>Baráth Mária</td><td>NULL</td></tr>",
                            "<tr><td>Átlag alatti</td><td>846</td><td>45</td><td>maria1</td><td>1</td><td>0</td><td>2016-09-02</td><td>2016-09-05</td><td>Baráth Mária</td><td>1</td></tr>",
                            "<tr><td>Átlag alatti</td><td>981</td><td>171</td><td>maria1</td><td>1</td><td>0</td><td>2016-06-23</td><td>2016-06-27</td><td>Baráth Mária</td><td>1</td></tr>",
                            "<tr><td>Átlag alatti</td><td>1172</td><td>197</td><td>mark</td><td>1</td><td>0</td><td>2016-10-20</td><td>2016-10-27</td><td>Kispál Márk</td><td>NULL</td></tr>",
                            "<tr><td>Átlag alatti</td><td>620</td><td>1</td><td>marton</td><td>1</td><td>0</td><td>2016-05-05</td><td>2016-05-10</td><td>Kalacsi Márton</td><td>NULL</td></tr>",
                            "<tr><td>Átlag alatti</td><td>891</td><td>63</td><td>MATYASS</td><td>1</td><td>0</td><td>2016-06-02</td><td>2016-06-08</td><td>Szilágyi Mátyás</td><td>NULL</td></tr>",
                            "<tr><td>Átlag alatti</td><td>1190</td><td>161</td><td>MATYASS</td><td>1</td><td>0</td><td>2016-10-24</td><td>2016-10-31</td><td>Szilágyi Mátyás</td><td>1</td></tr>",
                            "<tr><td>Átlag alatti</td><td>839</td><td>172</td><td>MIHALYJ</td><td>1</td><td>0</td><td>2016-08-29</td><td>2016-09-03</td><td>Juhász Mihály</td><td>NULL</td></tr>",
                            "<tr><td>Átlag alatti</td><td>990</td><td>6</td><td>MIHALYJ</td><td>1</td><td>0</td><td>2016-06-27</td><td>2016-07-01</td><td>Juhász Mihály</td><td>1</td></tr>",
                            "<tr><td>Átlag alatti</td><td>1134</td><td>126</td><td>miklos2</td><td>1</td><td>0</td><td>2016-10-08</td><td>2016-10-09</td><td>Gondos Miklós</td><td>NULL</td></tr>",
                            "<tr><td>Átlag alatti</td><td>708</td><td>106</td><td>MONIKAM</td><td>1</td><td>0</td><td>2016-07-23</td><td>2016-07-30</td><td>Mohos Mónika</td><td>NULL</td></tr>",
                            "<tr><td>Átlag alatti</td><td>1450</td><td>139</td><td>MONIKAM</td><td>1</td><td>0</td><td>2017-01-17</td><td>2017-01-24</td><td>Mohos Mónika</td><td>1</td></tr>",
                            "<tr><td>Átlag alatti</td><td>897</td><td>165</td><td>nikolett3</td><td>1</td><td>0</td><td>2016-06-03</td><td>2016-06-09</td><td>Horváth Nikolett</td><td>NULL</td></tr>",
                            "<tr><td>Átlag alatti</td><td>976</td><td>76</td><td>nikolett3</td><td>1</td><td>0</td><td>2016-06-22</td><td>2016-06-24</td><td>Horváth Nikolett</td><td>1</td></tr>",
                            "<tr><td>Átlag alatti</td><td>1018</td><td>40</td><td>norbert</td><td>1</td><td>0</td><td>2016-07-08</td><td>2016-07-13</td><td>Szűcs Norbert</td><td>NULL</td></tr>",
                            "<tr><td>Átlag alatti</td><td>1576</td><td>189</td><td>norbert</td><td>1</td><td>0</td><td>2017-02-26</td><td>2017-03-01</td><td>Szűcs Norbert</td><td>1</td></tr>",
                            "<tr><td>Átlag alatti</td><td>587</td><td>123</td><td>norbert2</td><td>1</td><td>0</td><td>2016-04-19</td><td>2016-04-26</td><td>Hegedűs Norbert</td><td>NULL</td></tr>",
                            "<tr><td>Átlag alatti</td><td>782</td><td>163</td><td>norbert2</td><td>1</td><td>0</td><td>2016-08-16</td><td>2016-08-19</td><td>Hegedűs Norbert</td><td>1</td></tr>",
                            "<tr><td>Átlag alatti</td><td>1541</td><td>155</td><td>norbert4</td><td>1</td><td>0</td><td>2017-02-16</td><td>2017-02-17</td><td>Mile Norbert</td><td>NULL</td></tr>",
                            "<tr><td>Átlag alatti</td><td>1252</td><td>7</td><td>norbert5</td><td>1</td><td>0</td><td>2016-11-05</td><td>2016-11-07</td><td>Béres Norbert</td><td>NULL</td></tr>",
                            "<tr><td>Átlag alatti</td><td>1396</td><td>72</td><td>peter3</td><td>1</td><td>0</td><td>2016-12-25</td><td>2016-12-28</td><td>Szalai Péter</td><td>NULL</td></tr>",
                            "<tr><td>Átlag alatti</td><td>1434</td><td>3</td><td>peter3</td><td>1</td><td>0</td><td>2017-01-12</td><td>2017-01-17</td><td>Szalai Péter</td><td>1</td></tr>",
                            "<tr><td>Átlag alatti</td><td>562</td><td>7</td><td>PETERB</td><td>1</td><td>0</td><td>2016-04-06</td><td>2016-04-10</td><td>Berendi Péter</td><td>NULL</td></tr>",
                            "<tr><td>Átlag alatti</td><td>781</td><td>166</td><td>PETERB</td><td>1</td><td>0</td><td>2016-08-16</td><td>2016-08-23</td><td>Berendi Péter</td><td>1</td></tr>",
                            "<tr><td>Átlag alatti</td><td>1224</td><td>50</td><td>RENATAK</td><td>1</td><td>0</td><td>2016-10-30</td><td>2016-10-31</td><td>Kardos Renáta</td><td>NULL</td></tr>",
                            "<tr><td>Átlag alatti</td><td>1312</td><td>94</td><td>RENATAK</td><td>1</td><td>0</td><td>2016-11-23</td><td>2016-11-26</td><td>Kardos Renáta</td><td>1</td></tr>",
                            "<tr><td>Átlag alatti</td><td>1543</td><td>95</td><td>RENATAK</td><td>1</td><td>0</td><td>2017-02-16</td><td>2017-02-23</td><td>Kardos Renáta</td><td>1</td></tr>",
                            "<tr><td>Átlag alatti</td><td>1581</td><td>48</td><td>RENATAK</td><td>1</td><td>0</td><td>2017-03-01</td><td>2017-03-06</td><td>Kardos Renáta</td><td>1</td></tr>",
                            "<tr><td>Átlag alatti</td><td>1529</td><td>35</td><td>RENATAS</td><td>1</td><td>0</td><td>2017-02-13</td><td>2017-02-17</td><td>Szirmai Renáta</td><td>NULL</td></tr>",
                            "<tr><td>Átlag alatti</td><td>1374</td><td>118</td><td>robert2</td><td>1</td><td>0</td><td>2016-12-17</td><td>2016-12-22</td><td>Patay Róbert</td><td>NULL</td></tr>",
                            "<tr><td>Átlag alatti</td><td>1186</td><td>58</td><td>ROBERTI</td><td>1</td><td>0</td><td>2016-10-23</td><td>2016-10-29</td><td>Iván Róbert</td><td>NULL</td></tr>",
                            "<tr><td>Átlag alatti</td><td>1384</td><td>84</td><td>roland1</td><td>1</td><td>0</td><td>2016-12-22</td><td>2016-12-29</td><td>Ferencz Roland</td><td>NULL</td></tr>",
                            "<tr><td>Átlag alatti</td><td>858</td><td>121</td><td>sandor3</td><td>1</td><td>0</td><td>2016-05-25</td><td>2016-05-30</td><td>Farkas Sándor</td><td>NULL</td></tr>",
                            "<tr><td>Átlag alatti</td><td>1156</td><td>140</td><td>sandor4</td><td>1</td><td>0</td><td>2016-10-15</td><td>2016-10-18</td><td>Nagy Sándor</td><td>NULL</td></tr>",
                            "<tr><td>Átlag alatti</td><td>1339</td><td>120</td><td>sandor4</td><td>1</td><td>0</td><td>2016-12-03</td><td>2016-12-09</td><td>Nagy Sándor</td><td>1</td></tr>",
                            "<tr><td>Átlag alatti</td><td>1351</td><td>38</td><td>sara</td><td>1</td><td>0</td><td>2016-12-06</td><td>2016-12-10</td><td>Farkas Sára</td><td>NULL</td></tr>",
                            "<tr><td>Átlag alatti</td><td>1508</td><td>191</td><td>SZILARDS</td><td>1</td><td>0</td><td>2017-02-08</td><td>2017-02-15</td><td>Szalai Szilárd</td><td>NULL</td></tr>",
                            "<tr><td>Átlag alatti</td><td>1338</td><td>145</td><td>TAMASF</td><td>1</td><td>0</td><td>2016-12-02</td><td>2016-12-04</td><td>Fényes Tamás</td><td>NULL</td></tr>",
                            "<tr><td>Átlag alatti</td><td>1251</td><td>184</td><td>tibor</td><td>1</td><td>0</td><td>2016-11-05</td><td>2016-11-09</td><td>Gombos Tibor</td><td>NULL</td></tr>",
                            "<tr><td>Átlag alatti</td><td>881</td><td>131</td><td>tihamer</td><td>1</td><td>0</td><td>2016-05-30</td><td>2016-06-05</td><td>Kazy Tihamér</td><td>NULL</td></tr>",
                            "<tr><td>Átlag alatti</td><td>669</td><td>173</td><td>tunde</td><td>1</td><td>0</td><td>2016-07-14</td><td>2016-07-21</td><td>Turcsik Tünde</td><td>NULL</td></tr>",
                            "<tr><td>Átlag alatti</td><td>709</td><td>172</td><td>valentin</td><td>1</td><td>0</td><td>2016-07-24</td><td>2016-07-29</td><td>Feró Valentin</td><td>NULL</td></tr>",
                            "<tr><td>Átlag alatti</td><td>790</td><td>10</td><td>veronika4</td><td>1</td><td>0</td><td>2016-08-16</td><td>2016-08-21</td><td>Tankó Veronika</td><td>NULL</td></tr>",
                            "<tr><td>Átlag alatti</td><td>610</td><td>106</td><td>VIKTORIAU</td><td>1</td><td>0</td><td>2016-04-30</td><td>2016-05-03</td><td>Urbán Viktoria</td><td>NULL</td></tr>",
                            "<tr><td>Átlag alatti</td><td>1103</td><td>87</td><td>vivien3</td><td>1</td><td>0</td><td>2016-10-01</td><td>2016-10-04</td><td>Boros Vivien</td><td>NULL</td></tr>",
                            "<tr><td>Átlag alatti</td><td>779</td><td>130</td><td>zoltan4</td><td>1</td><td>0</td><td>2016-08-15</td><td>2016-08-21</td><td>Barna Zoltán</td><td>NULL</td></tr>",
                            "<tr><td>Átlag alatti</td><td>893</td><td>151</td><td>zoltan4</td><td>1</td><td>0</td><td>2016-06-03</td><td>2016-06-06</td><td>Barna Zoltán</td><td>1</td></tr>",
                            "<tr><td>Átlag alatti</td><td>1230</td><td>182</td><td>zoltan4</td><td>1</td><td>0</td><td>2016-10-30</td><td>2016-11-06</td><td>Barna Zoltán</td><td>1</td></tr>",
                            "<tr><td>Átlag alatti</td><td>1403</td><td>124</td><td>zoltan4</td><td>1</td><td>0</td><td>2016-12-29</td><td>2017-01-04</td><td>Barna Zoltán</td><td>1</td></tr>",
                            "<tr><td>Átlag alatti</td><td>867</td><td>175</td><td>ZSOLTJ</td><td>1</td><td>0</td><td>2016-05-28</td><td>2016-06-03</td><td>Józsa Zsolt</td><td>NULL</td></tr>",
                            "<tr><td>Átlag alatti</td><td>1428</td><td>126</td><td>zsuzsanna</td><td>1</td><td>0</td><td>2017-01-09</td><td>2017-01-16</td><td>Barta Zsuzsanna</td><td>NULL</td></tr>",
                            "<tr><td>Átlag alatti</td><td>1202</td><td>52</td><td>ZSUZSAV</td><td>1</td><td>0</td><td>2016-10-26</td><td>2016-10-28</td><td>Vajda Zsuzsa</td><td>NULL</td></tr>",
                            "</table>"
                        ]
                    }
                }
            ],
            "execution_count": 19
        }
    ]
}