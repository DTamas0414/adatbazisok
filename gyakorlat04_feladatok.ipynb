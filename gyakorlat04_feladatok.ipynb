{
    "metadata": {
        "kernelspec": {
            "name": "SQL",
            "display_name": "SQL",
            "language": "sql"
        },
        "language_info": {
            "name": "sql",
            "version": ""
        }
    },
    "nbformat_minor": 2,
    "nbformat": 4,
    "cells": [
        {
            "cell_type": "markdown",
            "source": [
                "1. <span style=\"background-color: rgb(255, 255, 255); color: rgb(0, 0, 0); font-family: &quot;Open Sans&quot;, sans-serif; font-size: 14.44px;\">Készítsünk listát arról, hogy ügyfelenként (LOGIN), azon belül szállítási módonként hány megrendelés történt!&nbsp;</span> \n",
                "\n",
                "a. A lista tartalmazza a részösszegeket és a végösszeget is!  \n",
                "b. Használjuk a ROLLUP záradékot!"
            ],
            "metadata": {
                "azdata_cell_guid": "363cd270-6577-449b-9c89-d4b7c7972d52"
            },
            "attachments": {}
        },
        {
            "cell_type": "code",
            "source": [
                "SELECT [LOGIN], SZALL_MOD, COUNT(SORSZAM)\r\n",
                "FROM Rendeles\r\n",
                "GROUP BY [LOGIN], SZALL_MOD"
            ],
            "metadata": {
                "azdata_cell_guid": "6ab9f633-a3b5-48c9-a1dc-4fb8235ae85b",
                "language": "sql"
            },
            "outputs": [
                {
                    "output_type": "display_data",
                    "data": {
                        "text/html": "(571 rows affected)"
                    },
                    "metadata": {}
                },
                {
                    "output_type": "display_data",
                    "data": {
                        "text/html": "Total execution time: 00:00:00.055"
                    },
                    "metadata": {}
                },
                {
                    "output_type": "execute_result",
                    "metadata": {},
                    "execution_count": 3,
                    "data": {
                        "application/vnd.dataresource+json": {
                            "schema": {
                                "fields": [
                                    {
                                        "name": "LOGIN"
                                    },
                                    {
                                        "name": "SZALL_MOD"
                                    },
                                    {
                                        "name": "(No column name)"
                                    }
                                ]
                            },
                            "data": [
                                {
                                    "LOGIN": "NIKOLETTAT",
                                    "SZALL_MOD": "Posta",
                                    "(No column name)": "7"
                                },
                                {
                                    "LOGIN": "tihamer",
                                    "SZALL_MOD": "Személyes átvétel",
                                    "(No column name)": "5"
                                },
                                {
                                    "LOGIN": "IBOLYAA",
                                    "SZALL_MOD": "Személyes átvétel",
                                    "(No column name)": "157"
                                },
                                {
                                    "LOGIN": "anita",
                                    "SZALL_MOD": "GLS",
                                    "(No column name)": "5"
                                },
                                {
                                    "LOGIN": "krisztina1",
                                    "SZALL_MOD": "Személyes átvétel",
                                    "(No column name)": "8"
                                },
                                {
                                    "LOGIN": "BEATRIXS",
                                    "SZALL_MOD": "Személyes átvétel",
                                    "(No column name)": "133"
                                },
                                {
                                    "LOGIN": "szilvia1",
                                    "SZALL_MOD": "Személyes átvétel",
                                    "(No column name)": "138"
                                },
                                {
                                    "LOGIN": "sandor3",
                                    "SZALL_MOD": "Posta",
                                    "(No column name)": "4"
                                },
                                {
                                    "LOGIN": "david1",
                                    "SZALL_MOD": "Személyes átvétel",
                                    "(No column name)": "8"
                                },
                                {
                                    "LOGIN": "emese",
                                    "SZALL_MOD": "Személyes átvétel",
                                    "(No column name)": "142"
                                },
                                {
                                    "LOGIN": "gabriella10",
                                    "SZALL_MOD": "Személyes átvétel",
                                    "(No column name)": "7"
                                },
                                {
                                    "LOGIN": "julianna4",
                                    "SZALL_MOD": "Posta",
                                    "(No column name)": "12"
                                },
                                {
                                    "LOGIN": "agnes3",
                                    "SZALL_MOD": "Posta",
                                    "(No column name)": "146"
                                },
                                {
                                    "LOGIN": "ARPADH",
                                    "SZALL_MOD": "Személyes átvétel",
                                    "(No column name)": "5"
                                },
                                {
                                    "LOGIN": "daniel",
                                    "SZALL_MOD": "GLS",
                                    "(No column name)": "7"
                                },
                                {
                                    "LOGIN": "anett3",
                                    "SZALL_MOD": "Személyes átvétel",
                                    "(No column name)": "9"
                                },
                                {
                                    "LOGIN": "eva",
                                    "SZALL_MOD": "Személyes átvétel",
                                    "(No column name)": "139"
                                },
                                {
                                    "LOGIN": "katalin4",
                                    "SZALL_MOD": "Személyes átvétel",
                                    "(No column name)": "11"
                                },
                                {
                                    "LOGIN": "andras2",
                                    "SZALL_MOD": "GLS",
                                    "(No column name)": "4"
                                },
                                {
                                    "LOGIN": "JOZSEFG",
                                    "SZALL_MOD": "Posta",
                                    "(No column name)": "1"
                                },
                                {
                                    "LOGIN": "ROBERTP",
                                    "SZALL_MOD": "Személyes átvétel",
                                    "(No column name)": "10"
                                },
                                {
                                    "LOGIN": "arpad2",
                                    "SZALL_MOD": "GLS",
                                    "(No column name)": "6"
                                },
                                {
                                    "LOGIN": "zsofi1",
                                    "SZALL_MOD": "Személyes átvétel",
                                    "(No column name)": "6"
                                },
                                {
                                    "LOGIN": "imre1",
                                    "SZALL_MOD": "GLS",
                                    "(No column name)": "8"
                                },
                                {
                                    "LOGIN": "ferenc1",
                                    "SZALL_MOD": "Posta",
                                    "(No column name)": "158"
                                },
                                {
                                    "LOGIN": "bence",
                                    "SZALL_MOD": "Személyes átvétel",
                                    "(No column name)": "8"
                                },
                                {
                                    "LOGIN": "sara",
                                    "SZALL_MOD": "Személyes átvétel",
                                    "(No column name)": "9"
                                },
                                {
                                    "LOGIN": "GYORGYO",
                                    "SZALL_MOD": "Személyes átvétel",
                                    "(No column name)": "5"
                                },
                                {
                                    "LOGIN": "AGNESK",
                                    "SZALL_MOD": "Posta",
                                    "(No column name)": "7"
                                },
                                {
                                    "LOGIN": "krisztina",
                                    "SZALL_MOD": "Posta",
                                    "(No column name)": "150"
                                },
                                {
                                    "LOGIN": "ISTVANV",
                                    "SZALL_MOD": "GLS",
                                    "(No column name)": "4"
                                },
                                {
                                    "LOGIN": "TAMASF",
                                    "SZALL_MOD": "Személyes átvétel",
                                    "(No column name)": "129"
                                },
                                {
                                    "LOGIN": "SZABOLCSM",
                                    "SZALL_MOD": "GLS",
                                    "(No column name)": "126"
                                },
                                {
                                    "LOGIN": "andras4",
                                    "SZALL_MOD": "Személyes átvétel",
                                    "(No column name)": "4"
                                },
                                {
                                    "LOGIN": "andi",
                                    "SZALL_MOD": "Személyes átvétel",
                                    "(No column name)": "7"
                                },
                                {
                                    "LOGIN": "brigitta",
                                    "SZALL_MOD": "GLS",
                                    "(No column name)": "137"
                                },
                                {
                                    "LOGIN": "zsuzsa3",
                                    "SZALL_MOD": "GLS",
                                    "(No column name)": "5"
                                },
                                {
                                    "LOGIN": "janos3",
                                    "SZALL_MOD": "GLS",
                                    "(No column name)": "5"
                                },
                                {
                                    "LOGIN": "agnes",
                                    "SZALL_MOD": "Személyes átvétel",
                                    "(No column name)": "144"
                                },
                                {
                                    "LOGIN": "MIHALYJ",
                                    "SZALL_MOD": "GLS",
                                    "(No column name)": "3"
                                },
                                {
                                    "LOGIN": "KRISZTIANM",
                                    "SZALL_MOD": "Posta",
                                    "(No column name)": "136"
                                },
                                {
                                    "LOGIN": "edit",
                                    "SZALL_MOD": "Személyes átvétel",
                                    "(No column name)": "4"
                                },
                                {
                                    "LOGIN": "ANDRASE",
                                    "SZALL_MOD": "Posta",
                                    "(No column name)": "141"
                                },
                                {
                                    "LOGIN": "ANDREAT",
                                    "SZALL_MOD": "Posta",
                                    "(No column name)": "6"
                                },
                                {
                                    "LOGIN": "adam1",
                                    "SZALL_MOD": "Személyes átvétel",
                                    "(No column name)": "131"
                                },
                                {
                                    "LOGIN": "attila1",
                                    "SZALL_MOD": "Személyes átvétel",
                                    "(No column name)": "6"
                                },
                                {
                                    "LOGIN": "norbert2",
                                    "SZALL_MOD": "Posta",
                                    "(No column name)": "4"
                                },
                                {
                                    "LOGIN": "david4",
                                    "SZALL_MOD": "GLS",
                                    "(No column name)": "3"
                                },
                                {
                                    "LOGIN": "aniko",
                                    "SZALL_MOD": "GLS",
                                    "(No column name)": "128"
                                },
                                {
                                    "LOGIN": "eszter4",
                                    "SZALL_MOD": "Posta",
                                    "(No column name)": "134"
                                },
                                {
                                    "LOGIN": "ANDRASN",
                                    "SZALL_MOD": "GLS",
                                    "(No column name)": "10"
                                },
                                {
                                    "LOGIN": "ARPADM",
                                    "SZALL_MOD": "GLS",
                                    "(No column name)": "6"
                                },
                                {
                                    "LOGIN": "zsuzsa",
                                    "SZALL_MOD": "Posta",
                                    "(No column name)": "5"
                                },
                                {
                                    "LOGIN": "EVAV",
                                    "SZALL_MOD": "GLS",
                                    "(No column name)": "2"
                                },
                                {
                                    "LOGIN": "LASZLON",
                                    "SZALL_MOD": "Posta",
                                    "(No column name)": "131"
                                },
                                {
                                    "LOGIN": "csongor3",
                                    "SZALL_MOD": "GLS",
                                    "(No column name)": "5"
                                },
                                {
                                    "LOGIN": "andras21",
                                    "SZALL_MOD": "GLS",
                                    "(No column name)": "140"
                                },
                                {
                                    "LOGIN": "roza2",
                                    "SZALL_MOD": "Posta",
                                    "(No column name)": "2"
                                },
                                {
                                    "LOGIN": "maria1",
                                    "SZALL_MOD": "GLS",
                                    "(No column name)": "4"
                                },
                                {
                                    "LOGIN": "adam4",
                                    "SZALL_MOD": "Posta",
                                    "(No column name)": "6"
                                },
                                {
                                    "LOGIN": "brigitta3",
                                    "SZALL_MOD": "Személyes átvétel",
                                    "(No column name)": "139"
                                },
                                {
                                    "LOGIN": "ANDRASN",
                                    "SZALL_MOD": "Posta",
                                    "(No column name)": "9"
                                },
                                {
                                    "LOGIN": "imre",
                                    "SZALL_MOD": "Személyes átvétel",
                                    "(No column name)": "6"
                                },
                                {
                                    "LOGIN": "MATEK",
                                    "SZALL_MOD": "Posta",
                                    "(No column name)": "10"
                                },
                                {
                                    "LOGIN": "balazs3",
                                    "SZALL_MOD": "GLS",
                                    "(No column name)": "6"
                                },
                                {
                                    "LOGIN": "SEBASTIANF",
                                    "SZALL_MOD": "Személyes átvétel",
                                    "(No column name)": "6"
                                },
                                {
                                    "LOGIN": "valentin",
                                    "SZALL_MOD": "Posta",
                                    "(No column name)": "5"
                                },
                                {
                                    "LOGIN": "rajmond4",
                                    "SZALL_MOD": "Posta",
                                    "(No column name)": "5"
                                },
                                {
                                    "LOGIN": "balu",
                                    "SZALL_MOD": "Posta",
                                    "(No column name)": "137"
                                },
                                {
                                    "LOGIN": "reka4",
                                    "SZALL_MOD": "Posta",
                                    "(No column name)": "4"
                                },
                                {
                                    "LOGIN": "sandor",
                                    "SZALL_MOD": "GLS",
                                    "(No column name)": "4"
                                },
                                {
                                    "LOGIN": "balazs1",
                                    "SZALL_MOD": "GLS",
                                    "(No column name)": "128"
                                },
                                {
                                    "LOGIN": "aladar",
                                    "SZALL_MOD": "GLS",
                                    "(No column name)": "156"
                                },
                                {
                                    "LOGIN": "zoltan4",
                                    "SZALL_MOD": "Posta",
                                    "(No column name)": "124"
                                },
                                {
                                    "LOGIN": "reka4",
                                    "SZALL_MOD": "Személyes átvétel",
                                    "(No column name)": "11"
                                },
                                {
                                    "LOGIN": "roland",
                                    "SZALL_MOD": "GLS",
                                    "(No column name)": "132"
                                },
                                {
                                    "LOGIN": "kornel4",
                                    "SZALL_MOD": "GLS",
                                    "(No column name)": "3"
                                },
                                {
                                    "LOGIN": "ARPADM",
                                    "SZALL_MOD": "Személyes átvétel",
                                    "(No column name)": "7"
                                },
                                {
                                    "LOGIN": "marton",
                                    "SZALL_MOD": "Posta",
                                    "(No column name)": "4"
                                },
                                {
                                    "LOGIN": "BERNADETTO",
                                    "SZALL_MOD": "Posta",
                                    "(No column name)": "2"
                                },
                                {
                                    "LOGIN": "adam1",
                                    "SZALL_MOD": "Posta",
                                    "(No column name)": "132"
                                },
                                {
                                    "LOGIN": "NIKOLETTAT",
                                    "SZALL_MOD": "Személyes átvétel",
                                    "(No column name)": "5"
                                },
                                {
                                    "LOGIN": "LASZLOA",
                                    "SZALL_MOD": "Posta",
                                    "(No column name)": "136"
                                },
                                {
                                    "LOGIN": "katka",
                                    "SZALL_MOD": "Posta",
                                    "(No column name)": "6"
                                },
                                {
                                    "LOGIN": "IBOLYAA",
                                    "SZALL_MOD": "Posta",
                                    "(No column name)": "125"
                                },
                                {
                                    "LOGIN": "tihamer",
                                    "SZALL_MOD": "Posta",
                                    "(No column name)": "6"
                                },
                                {
                                    "LOGIN": "emese",
                                    "SZALL_MOD": "Posta",
                                    "(No column name)": "136"
                                },
                                {
                                    "LOGIN": "szilvia1",
                                    "SZALL_MOD": "Posta",
                                    "(No column name)": "151"
                                },
                                {
                                    "LOGIN": "ZOLTANT",
                                    "SZALL_MOD": "GLS",
                                    "(No column name)": "127"
                                },
                                {
                                    "LOGIN": "imre",
                                    "SZALL_MOD": "GLS",
                                    "(No column name)": "5"
                                },
                                {
                                    "LOGIN": "katalin4",
                                    "SZALL_MOD": "Posta",
                                    "(No column name)": "5"
                                },
                                {
                                    "LOGIN": "MIKLOSB",
                                    "SZALL_MOD": "GLS",
                                    "(No column name)": "6"
                                },
                                {
                                    "LOGIN": "julianna4",
                                    "SZALL_MOD": "Személyes átvétel",
                                    "(No column name)": "7"
                                },
                                {
                                    "LOGIN": "jozsef",
                                    "SZALL_MOD": "GLS",
                                    "(No column name)": "116"
                                },
                                {
                                    "LOGIN": "NANDORF",
                                    "SZALL_MOD": "Posta",
                                    "(No column name)": "139"
                                },
                                {
                                    "LOGIN": "VIKTORK",
                                    "SZALL_MOD": "Személyes átvétel",
                                    "(No column name)": "6"
                                },
                                {
                                    "LOGIN": "agnes3",
                                    "SZALL_MOD": "Személyes átvétel",
                                    "(No column name)": "136"
                                },
                                {
                                    "LOGIN": "zsofi1",
                                    "SZALL_MOD": "Posta",
                                    "(No column name)": "6"
                                },
                                {
                                    "LOGIN": "georgij",
                                    "SZALL_MOD": "Posta",
                                    "(No column name)": "2"
                                },
                                {
                                    "LOGIN": "attila4",
                                    "SZALL_MOD": "GLS",
                                    "(No column name)": "135"
                                },
                                {
                                    "LOGIN": "aladar",
                                    "SZALL_MOD": "Személyes átvétel",
                                    "(No column name)": "118"
                                },
                                {
                                    "LOGIN": "BENCEB",
                                    "SZALL_MOD": "Posta",
                                    "(No column name)": "7"
                                },
                                {
                                    "LOGIN": "ZSOLTJ",
                                    "SZALL_MOD": "Posta",
                                    "(No column name)": "8"
                                },
                                {
                                    "LOGIN": "BENCEB",
                                    "SZALL_MOD": "Személyes átvétel",
                                    "(No column name)": "5"
                                },
                                {
                                    "LOGIN": "PETERB",
                                    "SZALL_MOD": "GLS",
                                    "(No column name)": "2"
                                },
                                {
                                    "LOGIN": "matyas2",
                                    "SZALL_MOD": "Posta",
                                    "(No column name)": "131"
                                },
                                {
                                    "LOGIN": "tibor",
                                    "SZALL_MOD": "Személyes átvétel",
                                    "(No column name)": "130"
                                },
                                {
                                    "LOGIN": "adam4",
                                    "SZALL_MOD": "Személyes átvétel",
                                    "(No column name)": "11"
                                },
                                {
                                    "LOGIN": "ferenc1",
                                    "SZALL_MOD": "Személyes átvétel",
                                    "(No column name)": "135"
                                },
                                {
                                    "LOGIN": "TAMASF",
                                    "SZALL_MOD": "Posta",
                                    "(No column name)": "145"
                                },
                                {
                                    "LOGIN": "zsolt1",
                                    "SZALL_MOD": "GLS",
                                    "(No column name)": "11"
                                },
                                {
                                    "LOGIN": "zsuzsanna",
                                    "SZALL_MOD": "Személyes átvétel",
                                    "(No column name)": "3"
                                },
                                {
                                    "LOGIN": "katalin",
                                    "SZALL_MOD": "GLS",
                                    "(No column name)": "7"
                                },
                                {
                                    "LOGIN": "krisztina",
                                    "SZALL_MOD": "Személyes átvétel",
                                    "(No column name)": "157"
                                },
                                {
                                    "LOGIN": "BELAF",
                                    "SZALL_MOD": "GLS",
                                    "(No column name)": "11"
                                },
                                {
                                    "LOGIN": "tibor",
                                    "SZALL_MOD": "Posta",
                                    "(No column name)": "129"
                                },
                                {
                                    "LOGIN": "AGNESK",
                                    "SZALL_MOD": "Személyes átvétel",
                                    "(No column name)": "7"
                                },
                                {
                                    "LOGIN": "MONIKAM",
                                    "SZALL_MOD": "Posta",
                                    "(No column name)": "151"
                                },
                                {
                                    "LOGIN": "ROBERTI",
                                    "SZALL_MOD": "GLS",
                                    "(No column name)": "5"
                                },
                                {
                                    "LOGIN": "ANNAMARIAR",
                                    "SZALL_MOD": "Posta",
                                    "(No column name)": "2"
                                },
                                {
                                    "LOGIN": "timea2",
                                    "SZALL_MOD": "GLS",
                                    "(No column name)": "1"
                                },
                                {
                                    "LOGIN": "eszter2",
                                    "SZALL_MOD": "GLS",
                                    "(No column name)": "127"
                                },
                                {
                                    "LOGIN": "ilona3",
                                    "SZALL_MOD": "Személyes átvétel",
                                    "(No column name)": "7"
                                },
                                {
                                    "LOGIN": "gabor4",
                                    "SZALL_MOD": "GLS",
                                    "(No column name)": "7"
                                },
                                {
                                    "LOGIN": "robert2",
                                    "SZALL_MOD": "Posta",
                                    "(No column name)": "1"
                                },
                                {
                                    "LOGIN": "MATEK",
                                    "SZALL_MOD": "GLS",
                                    "(No column name)": "6"
                                },
                                {
                                    "LOGIN": "ZSUZSAV",
                                    "SZALL_MOD": "GLS",
                                    "(No column name)": "139"
                                },
                                {
                                    "LOGIN": "tibor2",
                                    "SZALL_MOD": "Posta",
                                    "(No column name)": "7"
                                },
                                {
                                    "LOGIN": "ANDRASE",
                                    "SZALL_MOD": "Személyes átvétel",
                                    "(No column name)": "136"
                                },
                                {
                                    "LOGIN": "sara",
                                    "SZALL_MOD": "GLS",
                                    "(No column name)": "4"
                                },
                                {
                                    "LOGIN": "ANDREAT",
                                    "SZALL_MOD": "Személyes átvétel",
                                    "(No column name)": "12"
                                },
                                {
                                    "LOGIN": "ESZTERE",
                                    "SZALL_MOD": "GLS",
                                    "(No column name)": "6"
                                },
                                {
                                    "LOGIN": "timea",
                                    "SZALL_MOD": "GLS",
                                    "(No column name)": "14"
                                },
                                {
                                    "LOGIN": "GABORS",
                                    "SZALL_MOD": "Posta",
                                    "(No column name)": "6"
                                },
                                {
                                    "LOGIN": "balint2",
                                    "SZALL_MOD": "Személyes átvétel",
                                    "(No column name)": "3"
                                },
                                {
                                    "LOGIN": "kati",
                                    "SZALL_MOD": "Személyes átvétel",
                                    "(No column name)": "4"
                                },
                                {
                                    "LOGIN": "veronika4",
                                    "SZALL_MOD": "GLS",
                                    "(No column name)": "5"
                                },
                                {
                                    "LOGIN": "gabriella1",
                                    "SZALL_MOD": "GLS",
                                    "(No column name)": "5"
                                },
                                {
                                    "LOGIN": "andras4",
                                    "SZALL_MOD": "Posta",
                                    "(No column name)": "4"
                                },
                                {
                                    "LOGIN": "kata",
                                    "SZALL_MOD": "Személyes átvétel",
                                    "(No column name)": "3"
                                },
                                {
                                    "LOGIN": "jozsef2",
                                    "SZALL_MOD": "Személyes átvétel",
                                    "(No column name)": "4"
                                },
                                {
                                    "LOGIN": "balint2",
                                    "SZALL_MOD": "Posta",
                                    "(No column name)": "6"
                                },
                                {
                                    "LOGIN": "annamaria1",
                                    "SZALL_MOD": "Személyes átvétel",
                                    "(No column name)": "7"
                                },
                                {
                                    "LOGIN": "janos3",
                                    "SZALL_MOD": "Személyes átvétel",
                                    "(No column name)": "6"
                                },
                                {
                                    "LOGIN": "kriszti",
                                    "SZALL_MOD": "Személyes átvétel",
                                    "(No column name)": "5"
                                },
                                {
                                    "LOGIN": "ANDRASN",
                                    "SZALL_MOD": "Személyes átvétel",
                                    "(No column name)": "5"
                                },
                                {
                                    "LOGIN": "imre",
                                    "SZALL_MOD": "Posta",
                                    "(No column name)": "4"
                                },
                                {
                                    "LOGIN": "ANIKOS",
                                    "SZALL_MOD": "Posta",
                                    "(No column name)": "126"
                                },
                                {
                                    "LOGIN": "szabolcs",
                                    "SZALL_MOD": "Posta",
                                    "(No column name)": "157"
                                },
                                {
                                    "LOGIN": "ANDREAT",
                                    "SZALL_MOD": "GLS",
                                    "(No column name)": "3"
                                },
                                {
                                    "LOGIN": "bertalan",
                                    "SZALL_MOD": "Posta",
                                    "(No column name)": "124"
                                },
                                {
                                    "LOGIN": "daniel1",
                                    "SZALL_MOD": "Posta",
                                    "(No column name)": "131"
                                },
                                {
                                    "LOGIN": "MATEK",
                                    "SZALL_MOD": "Személyes átvétel",
                                    "(No column name)": "9"
                                },
                                {
                                    "LOGIN": "bertalan",
                                    "SZALL_MOD": "Személyes átvétel",
                                    "(No column name)": "101"
                                },
                                {
                                    "LOGIN": "ZOLTANP",
                                    "SZALL_MOD": "Posta",
                                    "(No column name)": "3"
                                },
                                {
                                    "LOGIN": "JANOSG",
                                    "SZALL_MOD": "Posta",
                                    "(No column name)": "3"
                                },
                                {
                                    "LOGIN": "BEATRIXK",
                                    "SZALL_MOD": "Posta",
                                    "(No column name)": "155"
                                },
                                {
                                    "LOGIN": "peter3",
                                    "SZALL_MOD": "GLS",
                                    "(No column name)": "8"
                                },
                                {
                                    "LOGIN": "NANDORF",
                                    "SZALL_MOD": "Személyes átvétel",
                                    "(No column name)": "134"
                                },
                                {
                                    "LOGIN": "balazs2",
                                    "SZALL_MOD": "Posta",
                                    "(No column name)": "7"
                                },
                                {
                                    "LOGIN": "ZOLTANP",
                                    "SZALL_MOD": "Személyes átvétel",
                                    "(No column name)": "4"
                                },
                                {
                                    "LOGIN": "AGNESH",
                                    "SZALL_MOD": "GLS",
                                    "(No column name)": "2"
                                },
                                {
                                    "LOGIN": "akos",
                                    "SZALL_MOD": "GLS",
                                    "(No column name)": "146"
                                },
                                {
                                    "LOGIN": "klaudia2",
                                    "SZALL_MOD": "GLS",
                                    "(No column name)": "3"
                                },
                                {
                                    "LOGIN": "LASZLON",
                                    "SZALL_MOD": "GLS",
                                    "(No column name)": "126"
                                },
                                {
                                    "LOGIN": "peter4",
                                    "SZALL_MOD": "Személyes átvétel",
                                    "(No column name)": "293"
                                },
                                {
                                    "LOGIN": "balint2",
                                    "SZALL_MOD": "GLS",
                                    "(No column name)": "8"
                                },
                                {
                                    "LOGIN": "eva",
                                    "SZALL_MOD": "Posta",
                                    "(No column name)": "140"
                                },
                                {
                                    "LOGIN": "zoltan4",
                                    "SZALL_MOD": "GLS",
                                    "(No column name)": "129"
                                },
                                {
                                    "LOGIN": "bernadett2",
                                    "SZALL_MOD": "Személyes átvétel",
                                    "(No column name)": "7"
                                },
                                {
                                    "LOGIN": "lala",
                                    "SZALL_MOD": "GLS",
                                    "(No column name)": "5"
                                },
                                {
                                    "LOGIN": "aladar",
                                    "SZALL_MOD": "Posta",
                                    "(No column name)": "134"
                                },
                                {
                                    "LOGIN": "balint1",
                                    "SZALL_MOD": "Személyes átvétel",
                                    "(No column name)": "152"
                                },
                                {
                                    "LOGIN": "daniel1",
                                    "SZALL_MOD": "Személyes átvétel",
                                    "(No column name)": "132"
                                },
                                {
                                    "LOGIN": "SEBASTIANF",
                                    "SZALL_MOD": "Posta",
                                    "(No column name)": "3"
                                },
                                {
                                    "LOGIN": "nikolett3",
                                    "SZALL_MOD": "Posta",
                                    "(No column name)": "3"
                                },
                                {
                                    "LOGIN": "denes",
                                    "SZALL_MOD": "GLS",
                                    "(No column name)": "3"
                                },
                                {
                                    "LOGIN": "adam1",
                                    "SZALL_MOD": "GLS",
                                    "(No column name)": "129"
                                },
                                {
                                    "LOGIN": "matyas2",
                                    "SZALL_MOD": "Személyes átvétel",
                                    "(No column name)": "164"
                                },
                                {
                                    "LOGIN": "GYORGYO",
                                    "SZALL_MOD": "Posta",
                                    "(No column name)": "4"
                                },
                                {
                                    "LOGIN": "norbert5",
                                    "SZALL_MOD": "Posta",
                                    "(No column name)": "6"
                                },
                                {
                                    "LOGIN": "sandor3",
                                    "SZALL_MOD": "GLS",
                                    "(No column name)": "4"
                                },
                                {
                                    "LOGIN": "norbert5",
                                    "SZALL_MOD": "Személyes átvétel",
                                    "(No column name)": "9"
                                },
                                {
                                    "LOGIN": "andrea4",
                                    "SZALL_MOD": "Posta",
                                    "(No column name)": "4"
                                },
                                {
                                    "LOGIN": "jozsef2",
                                    "SZALL_MOD": "Posta",
                                    "(No column name)": "2"
                                },
                                {
                                    "LOGIN": "zsuzsa",
                                    "SZALL_MOD": "Személyes átvétel",
                                    "(No column name)": "3"
                                },
                                {
                                    "LOGIN": "JANOSP",
                                    "SZALL_MOD": "GLS",
                                    "(No column name)": "7"
                                },
                                {
                                    "LOGIN": "julianna4",
                                    "SZALL_MOD": "GLS",
                                    "(No column name)": "8"
                                },
                                {
                                    "LOGIN": "VIKTORIAU",
                                    "SZALL_MOD": "GLS",
                                    "(No column name)": "5"
                                },
                                {
                                    "LOGIN": "andrea",
                                    "SZALL_MOD": "Posta",
                                    "(No column name)": "4"
                                },
                                {
                                    "LOGIN": "andi",
                                    "SZALL_MOD": "Posta",
                                    "(No column name)": "4"
                                },
                                {
                                    "LOGIN": "aniko4",
                                    "SZALL_MOD": "GLS",
                                    "(No column name)": "6"
                                },
                                {
                                    "LOGIN": "ANNAMARIAR",
                                    "SZALL_MOD": "Személyes átvétel",
                                    "(No column name)": "3"
                                },
                                {
                                    "LOGIN": "rajmond4",
                                    "SZALL_MOD": "GLS",
                                    "(No column name)": "6"
                                },
                                {
                                    "LOGIN": "KRISZTIANM",
                                    "SZALL_MOD": "Személyes átvétel",
                                    "(No column name)": "130"
                                },
                                {
                                    "LOGIN": "kati",
                                    "SZALL_MOD": "Posta",
                                    "(No column name)": "5"
                                },
                                {
                                    "LOGIN": "GABORS",
                                    "SZALL_MOD": "Személyes átvétel",
                                    "(No column name)": "4"
                                },
                                {
                                    "LOGIN": "julia4",
                                    "SZALL_MOD": "GLS",
                                    "(No column name)": "2"
                                },
                                {
                                    "LOGIN": "gabor1",
                                    "SZALL_MOD": "Posta",
                                    "(No column name)": "5"
                                },
                                {
                                    "LOGIN": "brigitta3",
                                    "SZALL_MOD": "Posta",
                                    "(No column name)": "130"
                                },
                                {
                                    "LOGIN": "kata",
                                    "SZALL_MOD": "Posta",
                                    "(No column name)": "4"
                                },
                                {
                                    "LOGIN": "ANIKOS",
                                    "SZALL_MOD": "Személyes átvétel",
                                    "(No column name)": "150"
                                },
                                {
                                    "LOGIN": "norbert4",
                                    "SZALL_MOD": "Posta",
                                    "(No column name)": "3"
                                },
                                {
                                    "LOGIN": "kriszti",
                                    "SZALL_MOD": "Posta",
                                    "(No column name)": "5"
                                },
                                {
                                    "LOGIN": "andras4",
                                    "SZALL_MOD": "GLS",
                                    "(No column name)": "4"
                                },
                                {
                                    "LOGIN": "bence",
                                    "SZALL_MOD": "Posta",
                                    "(No column name)": "6"
                                },
                                {
                                    "LOGIN": "nikoletta4",
                                    "SZALL_MOD": "GLS",
                                    "(No column name)": "137"
                                },
                                {
                                    "LOGIN": "bernadett1",
                                    "SZALL_MOD": "Posta",
                                    "(No column name)": "5"
                                },
                                {
                                    "LOGIN": "marton",
                                    "SZALL_MOD": "Személyes átvétel",
                                    "(No column name)": "5"
                                },
                                {
                                    "LOGIN": "KRISZTINAG",
                                    "SZALL_MOD": "Személyes átvétel",
                                    "(No column name)": "10"
                                },
                                {
                                    "LOGIN": "balu",
                                    "SZALL_MOD": "Személyes átvétel",
                                    "(No column name)": "123"
                                },
                                {
                                    "LOGIN": "bernadett1",
                                    "SZALL_MOD": "Személyes átvétel",
                                    "(No column name)": "5"
                                },
                                {
                                    "LOGIN": "GYONGYIK",
                                    "SZALL_MOD": "Személyes átvétel",
                                    "(No column name)": "3"
                                },
                                {
                                    "LOGIN": "balazs2",
                                    "SZALL_MOD": "Személyes átvétel",
                                    "(No column name)": "5"
                                },
                                {
                                    "LOGIN": "robert2",
                                    "SZALL_MOD": "GLS",
                                    "(No column name)": "5"
                                },
                                {
                                    "LOGIN": "GYONGYIK",
                                    "SZALL_MOD": "Posta",
                                    "(No column name)": "6"
                                },
                                {
                                    "LOGIN": "BERNADETTO",
                                    "SZALL_MOD": "Személyes átvétel",
                                    "(No column name)": "7"
                                },
                                {
                                    "LOGIN": "attila1",
                                    "SZALL_MOD": "GLS",
                                    "(No column name)": "5"
                                },
                                {
                                    "LOGIN": "ARPADM",
                                    "SZALL_MOD": "Posta",
                                    "(No column name)": "3"
                                },
                                {
                                    "LOGIN": "katka",
                                    "SZALL_MOD": "Személyes átvétel",
                                    "(No column name)": "10"
                                },
                                {
                                    "LOGIN": "balint1",
                                    "SZALL_MOD": "Posta",
                                    "(No column name)": "152"
                                },
                                {
                                    "LOGIN": "balint",
                                    "SZALL_MOD": "GLS",
                                    "(No column name)": "10"
                                },
                                {
                                    "LOGIN": "JOZSEFG",
                                    "SZALL_MOD": "Személyes átvétel",
                                    "(No column name)": "9"
                                },
                                {
                                    "LOGIN": "kristof4",
                                    "SZALL_MOD": "GLS",
                                    "(No column name)": "9"
                                },
                                {
                                    "LOGIN": "LASZLOA",
                                    "SZALL_MOD": "Személyes átvétel",
                                    "(No column name)": "154"
                                },
                                {
                                    "LOGIN": "andras41",
                                    "SZALL_MOD": "Személyes átvétel",
                                    "(No column name)": "133"
                                },
                                {
                                    "LOGIN": "krisztina1",
                                    "SZALL_MOD": "Posta",
                                    "(No column name)": "4"
                                },
                                {
                                    "LOGIN": "ARPADH",
                                    "SZALL_MOD": "Posta",
                                    "(No column name)": "3"
                                },
                                {
                                    "LOGIN": "nikolett3",
                                    "SZALL_MOD": "Személyes átvétel",
                                    "(No column name)": "10"
                                },
                                {
                                    "LOGIN": "peter4",
                                    "SZALL_MOD": "Posta",
                                    "(No column name)": "293"
                                },
                                {
                                    "LOGIN": "VIKTORK",
                                    "SZALL_MOD": "Posta",
                                    "(No column name)": "6"
                                },
                                {
                                    "LOGIN": "ROBERTP",
                                    "SZALL_MOD": "Posta",
                                    "(No column name)": "8"
                                },
                                {
                                    "LOGIN": "RENATAK",
                                    "SZALL_MOD": "Személyes átvétel",
                                    "(No column name)": "147"
                                },
                                {
                                    "LOGIN": "ZOLTANP",
                                    "SZALL_MOD": "GLS",
                                    "(No column name)": "6"
                                },
                                {
                                    "LOGIN": "bertalan",
                                    "SZALL_MOD": "GLS",
                                    "(No column name)": "128"
                                },
                                {
                                    "LOGIN": "bernadett2",
                                    "SZALL_MOD": "Posta",
                                    "(No column name)": "2"
                                },
                                {
                                    "LOGIN": "ZSOLTJ",
                                    "SZALL_MOD": "Személyes átvétel",
                                    "(No column name)": "9"
                                },
                                {
                                    "LOGIN": "BEATRIXS",
                                    "SZALL_MOD": "Posta",
                                    "(No column name)": "141"
                                },
                                {
                                    "LOGIN": "RENATAK",
                                    "SZALL_MOD": "Posta",
                                    "(No column name)": "140"
                                },
                                {
                                    "LOGIN": "GABORS",
                                    "SZALL_MOD": "GLS",
                                    "(No column name)": "5"
                                },
                                {
                                    "LOGIN": "sara",
                                    "SZALL_MOD": "Posta",
                                    "(No column name)": "7"
                                },
                                {
                                    "LOGIN": "vivien3",
                                    "SZALL_MOD": "GLS",
                                    "(No column name)": "9"
                                },
                                {
                                    "LOGIN": "andras3",
                                    "SZALL_MOD": "Posta",
                                    "(No column name)": "1"
                                },
                                {
                                    "LOGIN": "katka",
                                    "SZALL_MOD": "GLS",
                                    "(No column name)": "6"
                                },
                                {
                                    "LOGIN": "MARKH",
                                    "SZALL_MOD": "GLS",
                                    "(No column name)": "128"
                                },
                                {
                                    "LOGIN": "istvan1",
                                    "SZALL_MOD": "GLS",
                                    "(No column name)": "8"
                                },
                                {
                                    "LOGIN": "fruzsina4",
                                    "SZALL_MOD": "GLS",
                                    "(No column name)": "8"
                                },
                                {
                                    "LOGIN": "roza2",
                                    "SZALL_MOD": "GLS",
                                    "(No column name)": "3"
                                },
                                {
                                    "LOGIN": "JUDITH",
                                    "SZALL_MOD": "GLS",
                                    "(No column name)": "170"
                                },
                                {
                                    "LOGIN": "andrea3",
                                    "SZALL_MOD": "GLS",
                                    "(No column name)": "131"
                                },
                                {
                                    "LOGIN": "gabriella10",
                                    "SZALL_MOD": "Posta",
                                    "(No column name)": "5"
                                },
                                {
                                    "LOGIN": "katalin4",
                                    "SZALL_MOD": "GLS",
                                    "(No column name)": "7"
                                },
                                {
                                    "LOGIN": "zsuzsanna",
                                    "SZALL_MOD": "Posta",
                                    "(No column name)": "5"
                                },
                                {
                                    "LOGIN": "MONIKAM",
                                    "SZALL_MOD": "Személyes átvétel",
                                    "(No column name)": "123"
                                },
                                {
                                    "LOGIN": "andrea4",
                                    "SZALL_MOD": "Személyes átvétel",
                                    "(No column name)": "7"
                                },
                                {
                                    "LOGIN": "robert2",
                                    "SZALL_MOD": "Személyes átvétel",
                                    "(No column name)": "7"
                                },
                                {
                                    "LOGIN": "agnes",
                                    "SZALL_MOD": "Posta",
                                    "(No column name)": "130"
                                },
                                {
                                    "LOGIN": "reka4",
                                    "SZALL_MOD": "GLS",
                                    "(No column name)": "5"
                                },
                                {
                                    "LOGIN": "dani",
                                    "SZALL_MOD": "Személyes átvétel",
                                    "(No column name)": "8"
                                },
                                {
                                    "LOGIN": "david",
                                    "SZALL_MOD": "GLS",
                                    "(No column name)": "161"
                                },
                                {
                                    "LOGIN": "david1",
                                    "SZALL_MOD": "GLS",
                                    "(No column name)": "8"
                                },
                                {
                                    "LOGIN": "ilona3",
                                    "SZALL_MOD": "Posta",
                                    "(No column name)": "2"
                                },
                                {
                                    "LOGIN": "edit",
                                    "SZALL_MOD": "Posta",
                                    "(No column name)": "2"
                                },
                                {
                                    "LOGIN": "pal",
                                    "SZALL_MOD": "GLS",
                                    "(No column name)": "152"
                                },
                                {
                                    "LOGIN": "eszter4",
                                    "SZALL_MOD": "Személyes átvétel",
                                    "(No column name)": "149"
                                },
                                {
                                    "LOGIN": "sebestyen",
                                    "SZALL_MOD": "GLS",
                                    "(No column name)": "4"
                                },
                                {
                                    "LOGIN": "andrea",
                                    "SZALL_MOD": "Személyes átvétel",
                                    "(No column name)": "8"
                                },
                                {
                                    "LOGIN": "debora",
                                    "SZALL_MOD": "Posta",
                                    "(No column name)": "6"
                                },
                                {
                                    "LOGIN": "gusztav",
                                    "SZALL_MOD": "Posta",
                                    "(No column name)": "4"
                                },
                                {
                                    "LOGIN": "BEATRIXK",
                                    "SZALL_MOD": "Személyes átvétel",
                                    "(No column name)": "145"
                                },
                                {
                                    "LOGIN": "gusztav",
                                    "SZALL_MOD": "Személyes átvétel",
                                    "(No column name)": "5"
                                },
                                {
                                    "LOGIN": "norbert4",
                                    "SZALL_MOD": "Személyes átvétel",
                                    "(No column name)": "9"
                                },
                                {
                                    "LOGIN": "alexandra",
                                    "SZALL_MOD": "GLS",
                                    "(No column name)": "5"
                                },
                                {
                                    "LOGIN": "adam3",
                                    "SZALL_MOD": "GLS",
                                    "(No column name)": "10"
                                },
                                {
                                    "LOGIN": "debora",
                                    "SZALL_MOD": "Személyes átvétel",
                                    "(No column name)": "3"
                                },
                                {
                                    "LOGIN": "MONIKAM",
                                    "SZALL_MOD": "GLS",
                                    "(No column name)": "133"
                                },
                                {
                                    "LOGIN": "gabor1",
                                    "SZALL_MOD": "Személyes átvétel",
                                    "(No column name)": "5"
                                },
                                {
                                    "LOGIN": "AGNESK",
                                    "SZALL_MOD": "GLS",
                                    "(No column name)": "1"
                                },
                                {
                                    "LOGIN": "NIKOLETTAT",
                                    "SZALL_MOD": "GLS",
                                    "(No column name)": "13"
                                },
                                {
                                    "LOGIN": "lajos",
                                    "SZALL_MOD": "GLS",
                                    "(No column name)": "5"
                                },
                                {
                                    "LOGIN": "istvan",
                                    "SZALL_MOD": "GLS",
                                    "(No column name)": "3"
                                },
                                {
                                    "LOGIN": "andras41",
                                    "SZALL_MOD": "GLS",
                                    "(No column name)": "149"
                                },
                                {
                                    "LOGIN": "LASZLON",
                                    "SZALL_MOD": "Személyes átvétel",
                                    "(No column name)": "143"
                                },
                                {
                                    "LOGIN": "roza2",
                                    "SZALL_MOD": "Személyes átvétel",
                                    "(No column name)": "3"
                                },
                                {
                                    "LOGIN": "annamaria1",
                                    "SZALL_MOD": "Posta",
                                    "(No column name)": "4"
                                },
                                {
                                    "LOGIN": "szabolcs",
                                    "SZALL_MOD": "Személyes átvétel",
                                    "(No column name)": "169"
                                },
                                {
                                    "LOGIN": "laszlo1",
                                    "SZALL_MOD": "GLS",
                                    "(No column name)": "130"
                                },
                                {
                                    "LOGIN": "georgij",
                                    "SZALL_MOD": "Személyes átvétel",
                                    "(No column name)": "10"
                                },
                                {
                                    "LOGIN": "rajmond4",
                                    "SZALL_MOD": "Személyes átvétel",
                                    "(No column name)": "6"
                                },
                                {
                                    "LOGIN": "KRISZTINAG",
                                    "SZALL_MOD": "Posta",
                                    "(No column name)": "6"
                                },
                                {
                                    "LOGIN": "valentin",
                                    "SZALL_MOD": "Személyes átvétel",
                                    "(No column name)": "3"
                                },
                                {
                                    "LOGIN": "janos3",
                                    "SZALL_MOD": "Posta",
                                    "(No column name)": "2"
                                },
                                {
                                    "LOGIN": "anett3",
                                    "SZALL_MOD": "Posta",
                                    "(No column name)": "6"
                                },
                                {
                                    "LOGIN": "zoltan4",
                                    "SZALL_MOD": "Személyes átvétel",
                                    "(No column name)": "171"
                                },
                                {
                                    "LOGIN": "JANOSG",
                                    "SZALL_MOD": "Személyes átvétel",
                                    "(No column name)": "4"
                                },
                                {
                                    "LOGIN": "aron2",
                                    "SZALL_MOD": "GLS",
                                    "(No column name)": "132"
                                },
                                {
                                    "LOGIN": "sandor3",
                                    "SZALL_MOD": "Személyes átvétel",
                                    "(No column name)": "6"
                                },
                                {
                                    "LOGIN": "jozsef2",
                                    "SZALL_MOD": "GLS",
                                    "(No column name)": "7"
                                },
                                {
                                    "LOGIN": "szilvia1",
                                    "SZALL_MOD": "GLS",
                                    "(No column name)": "156"
                                },
                                {
                                    "LOGIN": "gabriella10",
                                    "SZALL_MOD": "GLS",
                                    "(No column name)": "4"
                                },
                                {
                                    "LOGIN": "adam4",
                                    "SZALL_MOD": "GLS",
                                    "(No column name)": "12"
                                },
                                {
                                    "LOGIN": "andras21",
                                    "SZALL_MOD": "Posta",
                                    "(No column name)": "124"
                                },
                                {
                                    "LOGIN": "polla",
                                    "SZALL_MOD": "Posta",
                                    "(No column name)": "6"
                                },
                                {
                                    "LOGIN": "SEBASTIANF",
                                    "SZALL_MOD": "GLS",
                                    "(No column name)": "6"
                                },
                                {
                                    "LOGIN": "eva2",
                                    "SZALL_MOD": "Posta",
                                    "(No column name)": "138"
                                },
                                {
                                    "LOGIN": "lajos",
                                    "SZALL_MOD": "Személyes átvétel",
                                    "(No column name)": "9"
                                },
                                {
                                    "LOGIN": "peter2",
                                    "SZALL_MOD": "Személyes átvétel",
                                    "(No column name)": "7"
                                },
                                {
                                    "LOGIN": "krisztian4",
                                    "SZALL_MOD": "Személyes átvétel",
                                    "(No column name)": "6"
                                },
                                {
                                    "LOGIN": "roland1",
                                    "SZALL_MOD": "GLS",
                                    "(No column name)": "142"
                                },
                                {
                                    "LOGIN": "laszlo2",
                                    "SZALL_MOD": "Személyes átvétel",
                                    "(No column name)": "7"
                                },
                                {
                                    "LOGIN": "gabor1",
                                    "SZALL_MOD": "GLS",
                                    "(No column name)": "9"
                                },
                                {
                                    "LOGIN": "ESZTERE",
                                    "SZALL_MOD": "Posta",
                                    "(No column name)": "9"
                                },
                                {
                                    "LOGIN": "laszlo1",
                                    "SZALL_MOD": "Személyes átvétel",
                                    "(No column name)": "135"
                                },
                                {
                                    "LOGIN": "eszter4",
                                    "SZALL_MOD": "GLS",
                                    "(No column name)": "141"
                                },
                                {
                                    "LOGIN": "edit",
                                    "SZALL_MOD": "GLS",
                                    "(No column name)": "7"
                                },
                                {
                                    "LOGIN": "KRISZTINAG",
                                    "SZALL_MOD": "GLS",
                                    "(No column name)": "6"
                                },
                                {
                                    "LOGIN": "ESZTERE",
                                    "SZALL_MOD": "Személyes átvétel",
                                    "(No column name)": "7"
                                },
                                {
                                    "LOGIN": "henrik3",
                                    "SZALL_MOD": "GLS",
                                    "(No column name)": "7"
                                },
                                {
                                    "LOGIN": "pal",
                                    "SZALL_MOD": "Személyes átvétel",
                                    "(No column name)": "154"
                                },
                                {
                                    "LOGIN": "RENATAK",
                                    "SZALL_MOD": "GLS",
                                    "(No column name)": "135"
                                },
                                {
                                    "LOGIN": "daniel",
                                    "SZALL_MOD": "Posta",
                                    "(No column name)": "2"
                                },
                                {
                                    "LOGIN": "julia",
                                    "SZALL_MOD": "GLS",
                                    "(No column name)": "137"
                                },
                                {
                                    "LOGIN": "roland",
                                    "SZALL_MOD": "Posta",
                                    "(No column name)": "157"
                                },
                                {
                                    "LOGIN": "balazs2",
                                    "SZALL_MOD": "GLS",
                                    "(No column name)": "5"
                                },
                                {
                                    "LOGIN": "zoltan",
                                    "SZALL_MOD": "Személyes átvétel",
                                    "(No column name)": "7"
                                },
                                {
                                    "LOGIN": "daniel1",
                                    "SZALL_MOD": "GLS",
                                    "(No column name)": "156"
                                },
                                {
                                    "LOGIN": "attila1",
                                    "SZALL_MOD": "Posta",
                                    "(No column name)": "7"
                                },
                                {
                                    "LOGIN": "fruzsina4",
                                    "SZALL_MOD": "Személyes átvétel",
                                    "(No column name)": "7"
                                },
                                {
                                    "LOGIN": "zsolt1",
                                    "SZALL_MOD": "Posta",
                                    "(No column name)": "6"
                                },
                                {
                                    "LOGIN": "matyas2",
                                    "SZALL_MOD": "GLS",
                                    "(No column name)": "138"
                                },
                                {
                                    "LOGIN": "lala",
                                    "SZALL_MOD": "Személyes átvétel",
                                    "(No column name)": "9"
                                },
                                {
                                    "LOGIN": "peter1",
                                    "SZALL_MOD": "Posta",
                                    "(No column name)": "135"
                                },
                                {
                                    "LOGIN": "VIKTORIAU",
                                    "SZALL_MOD": "Posta",
                                    "(No column name)": "4"
                                },
                                {
                                    "LOGIN": "SZABOLCSM",
                                    "SZALL_MOD": "Posta",
                                    "(No column name)": "153"
                                },
                                {
                                    "LOGIN": "JOZSEFG",
                                    "SZALL_MOD": "GLS",
                                    "(No column name)": "11"
                                },
                                {
                                    "LOGIN": "SZILARDS",
                                    "SZALL_MOD": "Személyes átvétel",
                                    "(No column name)": "111"
                                },
                                {
                                    "LOGIN": "peter1",
                                    "SZALL_MOD": "Személyes átvétel",
                                    "(No column name)": "126"
                                },
                                {
                                    "LOGIN": "sandor",
                                    "SZALL_MOD": "Posta",
                                    "(No column name)": "6"
                                },
                                {
                                    "LOGIN": "david4",
                                    "SZALL_MOD": "Személyes átvétel",
                                    "(No column name)": "10"
                                },
                                {
                                    "LOGIN": "david4",
                                    "SZALL_MOD": "Posta",
                                    "(No column name)": "8"
                                },
                                {
                                    "LOGIN": "csongor3",
                                    "SZALL_MOD": "Posta",
                                    "(No column name)": "2"
                                },
                                {
                                    "LOGIN": "tihamer",
                                    "SZALL_MOD": "GLS",
                                    "(No column name)": "9"
                                },
                                {
                                    "LOGIN": "KRISZTIANM",
                                    "SZALL_MOD": "GLS",
                                    "(No column name)": "118"
                                },
                                {
                                    "LOGIN": "kata",
                                    "SZALL_MOD": "GLS",
                                    "(No column name)": "5"
                                },
                                {
                                    "LOGIN": "laszlo2",
                                    "SZALL_MOD": "GLS",
                                    "(No column name)": "12"
                                },
                                {
                                    "LOGIN": "katalin",
                                    "SZALL_MOD": "Posta",
                                    "(No column name)": "7"
                                },
                                {
                                    "LOGIN": "tunde",
                                    "SZALL_MOD": "Személyes átvétel",
                                    "(No column name)": "4"
                                },
                                {
                                    "LOGIN": "ISTVANV",
                                    "SZALL_MOD": "Posta",
                                    "(No column name)": "9"
                                },
                                {
                                    "LOGIN": "zsofi1",
                                    "SZALL_MOD": "GLS",
                                    "(No column name)": "7"
                                },
                                {
                                    "LOGIN": "julia",
                                    "SZALL_MOD": "Posta",
                                    "(No column name)": "160"
                                },
                                {
                                    "LOGIN": "brigitta3",
                                    "SZALL_MOD": "GLS",
                                    "(No column name)": "144"
                                },
                                {
                                    "LOGIN": "tunde",
                                    "SZALL_MOD": "Posta",
                                    "(No column name)": "6"
                                },
                                {
                                    "LOGIN": "eva",
                                    "SZALL_MOD": "GLS",
                                    "(No column name)": "125"
                                },
                                {
                                    "LOGIN": "roland1",
                                    "SZALL_MOD": "Személyes átvétel",
                                    "(No column name)": "135"
                                },
                                {
                                    "LOGIN": "agnes3",
                                    "SZALL_MOD": "GLS",
                                    "(No column name)": "148"
                                },
                                {
                                    "LOGIN": "MIHALYJ",
                                    "SZALL_MOD": "Posta",
                                    "(No column name)": "4"
                                },
                                {
                                    "LOGIN": "EVAV",
                                    "SZALL_MOD": "Személyes átvétel",
                                    "(No column name)": "4"
                                },
                                {
                                    "LOGIN": "TAMASF",
                                    "SZALL_MOD": "GLS",
                                    "(No column name)": "159"
                                },
                                {
                                    "LOGIN": "istvan1",
                                    "SZALL_MOD": "Személyes átvétel",
                                    "(No column name)": "7"
                                },
                                {
                                    "LOGIN": "balazs1",
                                    "SZALL_MOD": "Posta",
                                    "(No column name)": "136"
                                },
                                {
                                    "LOGIN": "marton",
                                    "SZALL_MOD": "GLS",
                                    "(No column name)": "5"
                                },
                                {
                                    "LOGIN": "henrik3",
                                    "SZALL_MOD": "Személyes átvétel",
                                    "(No column name)": "5"
                                },
                                {
                                    "LOGIN": "BELAF",
                                    "SZALL_MOD": "Posta",
                                    "(No column name)": "2"
                                },
                                {
                                    "LOGIN": "zoltan",
                                    "SZALL_MOD": "Posta",
                                    "(No column name)": "3"
                                },
                                {
                                    "LOGIN": "EVAV",
                                    "SZALL_MOD": "Posta",
                                    "(No column name)": "1"
                                },
                                {
                                    "LOGIN": "MATYASS",
                                    "SZALL_MOD": "Személyes átvétel",
                                    "(No column name)": "3"
                                },
                                {
                                    "LOGIN": "polla",
                                    "SZALL_MOD": "Személyes átvétel",
                                    "(No column name)": "7"
                                },
                                {
                                    "LOGIN": "MIHALYJ",
                                    "SZALL_MOD": "Személyes átvétel",
                                    "(No column name)": "6"
                                },
                                {
                                    "LOGIN": "ROBERTI",
                                    "SZALL_MOD": "Posta",
                                    "(No column name)": "3"
                                },
                                {
                                    "LOGIN": "miklos2",
                                    "SZALL_MOD": "Posta",
                                    "(No column name)": "4"
                                },
                                {
                                    "LOGIN": "georgij",
                                    "SZALL_MOD": "GLS",
                                    "(No column name)": "9"
                                },
                                {
                                    "LOGIN": "ARONK",
                                    "SZALL_MOD": "Személyes átvétel",
                                    "(No column name)": "155"
                                },
                                {
                                    "LOGIN": "vivien3",
                                    "SZALL_MOD": "Személyes átvétel",
                                    "(No column name)": "7"
                                },
                                {
                                    "LOGIN": "PETERB",
                                    "SZALL_MOD": "Posta",
                                    "(No column name)": "4"
                                },
                                {
                                    "LOGIN": "peter2",
                                    "SZALL_MOD": "Posta",
                                    "(No column name)": "4"
                                },
                                {
                                    "LOGIN": "eva2",
                                    "SZALL_MOD": "Személyes átvétel",
                                    "(No column name)": "170"
                                },
                                {
                                    "LOGIN": "alexandra",
                                    "SZALL_MOD": "Posta",
                                    "(No column name)": "9"
                                },
                                {
                                    "LOGIN": "jozsef",
                                    "SZALL_MOD": "Posta",
                                    "(No column name)": "132"
                                },
                                {
                                    "LOGIN": "kati",
                                    "SZALL_MOD": "GLS",
                                    "(No column name)": "4"
                                },
                                {
                                    "LOGIN": "gabriella1",
                                    "SZALL_MOD": "Személyes átvétel",
                                    "(No column name)": "5"
                                },
                                {
                                    "LOGIN": "emese",
                                    "SZALL_MOD": "GLS",
                                    "(No column name)": "128"
                                },
                                {
                                    "LOGIN": "balint",
                                    "SZALL_MOD": "Posta",
                                    "(No column name)": "4"
                                },
                                {
                                    "LOGIN": "aniko",
                                    "SZALL_MOD": "Posta",
                                    "(No column name)": "137"
                                },
                                {
                                    "LOGIN": "anita",
                                    "SZALL_MOD": "Személyes átvétel",
                                    "(No column name)": "5"
                                },
                                {
                                    "LOGIN": "IBOLYAA",
                                    "SZALL_MOD": "GLS",
                                    "(No column name)": "140"
                                },
                                {
                                    "LOGIN": "RENATAS",
                                    "SZALL_MOD": "Személyes átvétel",
                                    "(No column name)": "5"
                                },
                                {
                                    "LOGIN": "BENCEB",
                                    "SZALL_MOD": "GLS",
                                    "(No column name)": "5"
                                },
                                {
                                    "LOGIN": "RENATAS",
                                    "SZALL_MOD": "Posta",
                                    "(No column name)": "5"
                                },
                                {
                                    "LOGIN": "istvan",
                                    "SZALL_MOD": "Személyes átvétel",
                                    "(No column name)": "4"
                                },
                                {
                                    "LOGIN": "ATTILAO",
                                    "SZALL_MOD": "Posta",
                                    "(No column name)": "4"
                                },
                                {
                                    "LOGIN": "anett3",
                                    "SZALL_MOD": "GLS",
                                    "(No column name)": "3"
                                },
                                {
                                    "LOGIN": "nikoletta4",
                                    "SZALL_MOD": "Személyes átvétel",
                                    "(No column name)": "119"
                                },
                                {
                                    "LOGIN": "balu",
                                    "SZALL_MOD": "GLS",
                                    "(No column name)": "127"
                                },
                                {
                                    "LOGIN": "valentin",
                                    "SZALL_MOD": "GLS",
                                    "(No column name)": "5"
                                },
                                {
                                    "LOGIN": "szabolcs",
                                    "SZALL_MOD": "GLS",
                                    "(No column name)": "145"
                                },
                                {
                                    "LOGIN": "roland",
                                    "SZALL_MOD": "Személyes átvétel",
                                    "(No column name)": "125"
                                },
                                {
                                    "LOGIN": "sandor4",
                                    "SZALL_MOD": "Posta",
                                    "(No column name)": "2"
                                },
                                {
                                    "LOGIN": "tibor2",
                                    "SZALL_MOD": "Személyes átvétel",
                                    "(No column name)": "11"
                                },
                                {
                                    "LOGIN": "ferenc1",
                                    "SZALL_MOD": "GLS",
                                    "(No column name)": "144"
                                },
                                {
                                    "LOGIN": "tamas",
                                    "SZALL_MOD": "Posta",
                                    "(No column name)": "156"
                                },
                                {
                                    "LOGIN": "AGNESH",
                                    "SZALL_MOD": "Posta",
                                    "(No column name)": "3"
                                },
                                {
                                    "LOGIN": "MIKLOSB",
                                    "SZALL_MOD": "Posta",
                                    "(No column name)": "1"
                                },
                                {
                                    "LOGIN": "balazs3",
                                    "SZALL_MOD": "Személyes átvétel",
                                    "(No column name)": "3"
                                },
                                {
                                    "LOGIN": "AGNESH",
                                    "SZALL_MOD": "Személyes átvétel",
                                    "(No column name)": "6"
                                },
                                {
                                    "LOGIN": "dora3",
                                    "SZALL_MOD": "Személyes átvétel",
                                    "(No column name)": "164"
                                },
                                {
                                    "LOGIN": "ANIKOS",
                                    "SZALL_MOD": "GLS",
                                    "(No column name)": "128"
                                },
                                {
                                    "LOGIN": "dora3",
                                    "SZALL_MOD": "Posta",
                                    "(No column name)": "124"
                                },
                                {
                                    "LOGIN": "tamara2",
                                    "SZALL_MOD": "Személyes átvétel",
                                    "(No column name)": "3"
                                },
                                {
                                    "LOGIN": "imre1",
                                    "SZALL_MOD": "Posta",
                                    "(No column name)": "4"
                                },
                                {
                                    "LOGIN": "sandor",
                                    "SZALL_MOD": "Személyes átvétel",
                                    "(No column name)": "7"
                                },
                                {
                                    "LOGIN": "JANOSG",
                                    "SZALL_MOD": "GLS",
                                    "(No column name)": "3"
                                },
                                {
                                    "LOGIN": "krisztina",
                                    "SZALL_MOD": "GLS",
                                    "(No column name)": "149"
                                },
                                {
                                    "LOGIN": "NANDORF",
                                    "SZALL_MOD": "GLS",
                                    "(No column name)": "147"
                                },
                                {
                                    "LOGIN": "RENATAS",
                                    "SZALL_MOD": "GLS",
                                    "(No column name)": "6"
                                },
                                {
                                    "LOGIN": "tamara2",
                                    "SZALL_MOD": "Posta",
                                    "(No column name)": "4"
                                },
                                {
                                    "LOGIN": "anita",
                                    "SZALL_MOD": "Posta",
                                    "(No column name)": "2"
                                },
                                {
                                    "LOGIN": "timea2",
                                    "SZALL_MOD": "Személyes átvétel",
                                    "(No column name)": "10"
                                },
                                {
                                    "LOGIN": "ZOLTANT",
                                    "SZALL_MOD": "Személyes átvétel",
                                    "(No column name)": "123"
                                },
                                {
                                    "LOGIN": "andras3",
                                    "SZALL_MOD": "Személyes átvétel",
                                    "(No column name)": "5"
                                },
                                {
                                    "LOGIN": "ZOLTANT",
                                    "SZALL_MOD": "Posta",
                                    "(No column name)": "107"
                                },
                                {
                                    "LOGIN": "timea2",
                                    "SZALL_MOD": "Posta",
                                    "(No column name)": "5"
                                },
                                {
                                    "LOGIN": "eszter2",
                                    "SZALL_MOD": "Posta",
                                    "(No column name)": "136"
                                },
                                {
                                    "LOGIN": "attila4",
                                    "SZALL_MOD": "Személyes átvétel",
                                    "(No column name)": "141"
                                },
                                {
                                    "LOGIN": "csongor3",
                                    "SZALL_MOD": "Személyes átvétel",
                                    "(No column name)": "8"
                                },
                                {
                                    "LOGIN": "ZSOLTJ",
                                    "SZALL_MOD": "GLS",
                                    "(No column name)": "1"
                                },
                                {
                                    "LOGIN": "timea",
                                    "SZALL_MOD": "Posta",
                                    "(No column name)": "23"
                                },
                                {
                                    "LOGIN": "roland1",
                                    "SZALL_MOD": "Posta",
                                    "(No column name)": "155"
                                },
                                {
                                    "LOGIN": "aniko4",
                                    "SZALL_MOD": "Személyes átvétel",
                                    "(No column name)": "3"
                                },
                                {
                                    "LOGIN": "andrea",
                                    "SZALL_MOD": "GLS",
                                    "(No column name)": "12"
                                },
                                {
                                    "LOGIN": "david",
                                    "SZALL_MOD": "Posta",
                                    "(No column name)": "144"
                                },
                                {
                                    "LOGIN": "julia",
                                    "SZALL_MOD": "Személyes átvétel",
                                    "(No column name)": "138"
                                },
                                {
                                    "LOGIN": "JANOSP",
                                    "SZALL_MOD": "Posta",
                                    "(No column name)": "7"
                                },
                                {
                                    "LOGIN": "MATYASS",
                                    "SZALL_MOD": "Posta",
                                    "(No column name)": "5"
                                },
                                {
                                    "LOGIN": "LASZLOA",
                                    "SZALL_MOD": "GLS",
                                    "(No column name)": "156"
                                },
                                {
                                    "LOGIN": "zsuzsa3",
                                    "SZALL_MOD": "Posta",
                                    "(No column name)": "5"
                                },
                                {
                                    "LOGIN": "ROBERTI",
                                    "SZALL_MOD": "Személyes átvétel",
                                    "(No column name)": "5"
                                },
                                {
                                    "LOGIN": "henrik3",
                                    "SZALL_MOD": "Posta",
                                    "(No column name)": "4"
                                },
                                {
                                    "LOGIN": "julia4",
                                    "SZALL_MOD": "Posta",
                                    "(No column name)": "4"
                                },
                                {
                                    "LOGIN": "tamara2",
                                    "SZALL_MOD": "GLS",
                                    "(No column name)": "6"
                                },
                                {
                                    "LOGIN": "andras2",
                                    "SZALL_MOD": "Posta",
                                    "(No column name)": "7"
                                },
                                {
                                    "LOGIN": "aron2",
                                    "SZALL_MOD": "Személyes átvétel",
                                    "(No column name)": "144"
                                },
                                {
                                    "LOGIN": "alexandra",
                                    "SZALL_MOD": "Személyes átvétel",
                                    "(No column name)": "5"
                                },
                                {
                                    "LOGIN": "polla",
                                    "SZALL_MOD": "GLS",
                                    "(No column name)": "9"
                                },
                                {
                                    "LOGIN": "kristof4",
                                    "SZALL_MOD": "Személyes átvétel",
                                    "(No column name)": "8"
                                },
                                {
                                    "LOGIN": "balint",
                                    "SZALL_MOD": "Személyes átvétel",
                                    "(No column name)": "2"
                                },
                                {
                                    "LOGIN": "daniel",
                                    "SZALL_MOD": "Személyes átvétel",
                                    "(No column name)": "4"
                                },
                                {
                                    "LOGIN": "istvan",
                                    "SZALL_MOD": "Posta",
                                    "(No column name)": "4"
                                },
                                {
                                    "LOGIN": "ZSUZSAV",
                                    "SZALL_MOD": "Személyes átvétel",
                                    "(No column name)": "142"
                                },
                                {
                                    "LOGIN": "annamaria1",
                                    "SZALL_MOD": "GLS",
                                    "(No column name)": "5"
                                },
                                {
                                    "LOGIN": "BERNADETTO",
                                    "SZALL_MOD": "GLS",
                                    "(No column name)": "7"
                                },
                                {
                                    "LOGIN": "pal",
                                    "SZALL_MOD": "Posta",
                                    "(No column name)": "132"
                                },
                                {
                                    "LOGIN": "ARONK",
                                    "SZALL_MOD": "Posta",
                                    "(No column name)": "120"
                                },
                                {
                                    "LOGIN": "norbert4",
                                    "SZALL_MOD": "GLS",
                                    "(No column name)": "1"
                                },
                                {
                                    "LOGIN": "kornel4",
                                    "SZALL_MOD": "Posta",
                                    "(No column name)": "1"
                                },
                                {
                                    "LOGIN": "eva2",
                                    "SZALL_MOD": "GLS",
                                    "(No column name)": "154"
                                },
                                {
                                    "LOGIN": "MATYASS",
                                    "SZALL_MOD": "GLS",
                                    "(No column name)": "4"
                                },
                                {
                                    "LOGIN": "bernadett1",
                                    "SZALL_MOD": "GLS",
                                    "(No column name)": "10"
                                },
                                {
                                    "LOGIN": "GYONGYIK",
                                    "SZALL_MOD": "GLS",
                                    "(No column name)": "6"
                                },
                                {
                                    "LOGIN": "akos",
                                    "SZALL_MOD": "Posta",
                                    "(No column name)": "143"
                                },
                                {
                                    "LOGIN": "peter3",
                                    "SZALL_MOD": "Posta",
                                    "(No column name)": "7"
                                },
                                {
                                    "LOGIN": "sebestyen",
                                    "SZALL_MOD": "Posta",
                                    "(No column name)": "6"
                                },
                                {
                                    "LOGIN": "BEATRIXK",
                                    "SZALL_MOD": "GLS",
                                    "(No column name)": "135"
                                },
                                {
                                    "LOGIN": "dani",
                                    "SZALL_MOD": "GLS",
                                    "(No column name)": "5"
                                },
                                {
                                    "LOGIN": "sandor4",
                                    "SZALL_MOD": "Személyes átvétel",
                                    "(No column name)": "5"
                                },
                                {
                                    "LOGIN": "tamas",
                                    "SZALL_MOD": "Személyes átvétel",
                                    "(No column name)": "122"
                                },
                                {
                                    "LOGIN": "VIKTORK",
                                    "SZALL_MOD": "GLS",
                                    "(No column name)": "8"
                                },
                                {
                                    "LOGIN": "gabor4",
                                    "SZALL_MOD": "Posta",
                                    "(No column name)": "9"
                                },
                                {
                                    "LOGIN": "maria1",
                                    "SZALL_MOD": "Posta",
                                    "(No column name)": "5"
                                },
                                {
                                    "LOGIN": "balazs3",
                                    "SZALL_MOD": "Posta",
                                    "(No column name)": "6"
                                },
                                {
                                    "LOGIN": "denes",
                                    "SZALL_MOD": "Személyes átvétel",
                                    "(No column name)": "4"
                                },
                                {
                                    "LOGIN": "SZILARDS",
                                    "SZALL_MOD": "Posta",
                                    "(No column name)": "131"
                                },
                                {
                                    "LOGIN": "ANNAMARIAR",
                                    "SZALL_MOD": "GLS",
                                    "(No column name)": "8"
                                },
                                {
                                    "LOGIN": "miklos2",
                                    "SZALL_MOD": "GLS",
                                    "(No column name)": "7"
                                },
                                {
                                    "LOGIN": "SZABOLCSM",
                                    "SZALL_MOD": "Személyes átvétel",
                                    "(No column name)": "129"
                                },
                                {
                                    "LOGIN": "peter2",
                                    "SZALL_MOD": "GLS",
                                    "(No column name)": "7"
                                },
                                {
                                    "LOGIN": "andrea4",
                                    "SZALL_MOD": "GLS",
                                    "(No column name)": "7"
                                },
                                {
                                    "LOGIN": "tunde",
                                    "SZALL_MOD": "GLS",
                                    "(No column name)": "6"
                                },
                                {
                                    "LOGIN": "VIKTORIAU",
                                    "SZALL_MOD": "Személyes átvétel",
                                    "(No column name)": "5"
                                },
                                {
                                    "LOGIN": "ATTILAO",
                                    "SZALL_MOD": "GLS",
                                    "(No column name)": "4"
                                },
                                {
                                    "LOGIN": "kriszti",
                                    "SZALL_MOD": "GLS",
                                    "(No column name)": "3"
                                },
                                {
                                    "LOGIN": "ANDRASE",
                                    "SZALL_MOD": "GLS",
                                    "(No column name)": "159"
                                },
                                {
                                    "LOGIN": "klaudia2",
                                    "SZALL_MOD": "Személyes átvétel",
                                    "(No column name)": "5"
                                },
                                {
                                    "LOGIN": "klaudia2",
                                    "SZALL_MOD": "Posta",
                                    "(No column name)": "9"
                                },
                                {
                                    "LOGIN": "jozsef",
                                    "SZALL_MOD": "Személyes átvétel",
                                    "(No column name)": "134"
                                },
                                {
                                    "LOGIN": "PETERB",
                                    "SZALL_MOD": "Személyes átvétel",
                                    "(No column name)": "9"
                                },
                                {
                                    "LOGIN": "eszter2",
                                    "SZALL_MOD": "Személyes átvétel",
                                    "(No column name)": "152"
                                },
                                {
                                    "LOGIN": "ISTVANV",
                                    "SZALL_MOD": "Személyes átvétel",
                                    "(No column name)": "8"
                                },
                                {
                                    "LOGIN": "ilona3",
                                    "SZALL_MOD": "GLS",
                                    "(No column name)": "9"
                                },
                                {
                                    "LOGIN": "katalin",
                                    "SZALL_MOD": "Személyes átvétel",
                                    "(No column name)": "5"
                                },
                                {
                                    "LOGIN": "ARONK",
                                    "SZALL_MOD": "GLS",
                                    "(No column name)": "155"
                                },
                                {
                                    "LOGIN": "andras2",
                                    "SZALL_MOD": "Személyes átvétel",
                                    "(No column name)": "11"
                                },
                                {
                                    "LOGIN": "brigitta",
                                    "SZALL_MOD": "Posta",
                                    "(No column name)": "137"
                                },
                                {
                                    "LOGIN": "aniko4",
                                    "SZALL_MOD": "Posta",
                                    "(No column name)": "6"
                                },
                                {
                                    "LOGIN": "MARKH",
                                    "SZALL_MOD": "Személyes átvétel",
                                    "(No column name)": "142"
                                },
                                {
                                    "LOGIN": "david1",
                                    "SZALL_MOD": "Posta",
                                    "(No column name)": "1"
                                },
                                {
                                    "LOGIN": "andrea3",
                                    "SZALL_MOD": "Posta",
                                    "(No column name)": "136"
                                },
                                {
                                    "LOGIN": "zsuzsa3",
                                    "SZALL_MOD": "Személyes átvétel",
                                    "(No column name)": "6"
                                },
                                {
                                    "LOGIN": "peter1",
                                    "SZALL_MOD": "GLS",
                                    "(No column name)": "151"
                                },
                                {
                                    "LOGIN": "MARKH",
                                    "SZALL_MOD": "Posta",
                                    "(No column name)": "142"
                                },
                                {
                                    "LOGIN": "andrea3",
                                    "SZALL_MOD": "Személyes átvétel",
                                    "(No column name)": "146"
                                },
                                {
                                    "LOGIN": "andras21",
                                    "SZALL_MOD": "Személyes átvétel",
                                    "(No column name)": "126"
                                },
                                {
                                    "LOGIN": "andras41",
                                    "SZALL_MOD": "Posta",
                                    "(No column name)": "137"
                                },
                                {
                                    "LOGIN": "balazs1",
                                    "SZALL_MOD": "Személyes átvétel",
                                    "(No column name)": "155"
                                },
                                {
                                    "LOGIN": "norbert5",
                                    "SZALL_MOD": "GLS",
                                    "(No column name)": "1"
                                },
                                {
                                    "LOGIN": "lajos",
                                    "SZALL_MOD": "Posta",
                                    "(No column name)": "2"
                                },
                                {
                                    "LOGIN": "miklos2",
                                    "SZALL_MOD": "Személyes átvétel",
                                    "(No column name)": "2"
                                },
                                {
                                    "LOGIN": "vivien3",
                                    "SZALL_MOD": "Posta",
                                    "(No column name)": "6"
                                },
                                {
                                    "LOGIN": "andras3",
                                    "SZALL_MOD": "GLS",
                                    "(No column name)": "3"
                                },
                                {
                                    "LOGIN": "bence",
                                    "SZALL_MOD": "GLS",
                                    "(No column name)": "4"
                                },
                                {
                                    "LOGIN": "julia4",
                                    "SZALL_MOD": "Személyes átvétel",
                                    "(No column name)": "8"
                                },
                                {
                                    "LOGIN": "kornel4",
                                    "SZALL_MOD": "Személyes átvétel",
                                    "(No column name)": "7"
                                },
                                {
                                    "LOGIN": "laszlo2",
                                    "SZALL_MOD": "Posta",
                                    "(No column name)": "6"
                                },
                                {
                                    "LOGIN": "dora3",
                                    "SZALL_MOD": "GLS",
                                    "(No column name)": "144"
                                },
                                {
                                    "LOGIN": "norbert2",
                                    "SZALL_MOD": "GLS",
                                    "(No column name)": "7"
                                },
                                {
                                    "LOGIN": "gabriella1",
                                    "SZALL_MOD": "Posta",
                                    "(No column name)": "4"
                                },
                                {
                                    "LOGIN": "aniko",
                                    "SZALL_MOD": "Személyes átvétel",
                                    "(No column name)": "138"
                                },
                                {
                                    "LOGIN": "laszlo1",
                                    "SZALL_MOD": "Posta",
                                    "(No column name)": "129"
                                },
                                {
                                    "LOGIN": "kristof4",
                                    "SZALL_MOD": "Posta",
                                    "(No column name)": "4"
                                },
                                {
                                    "LOGIN": "krisztina1",
                                    "SZALL_MOD": "GLS",
                                    "(No column name)": "10"
                                },
                                {
                                    "LOGIN": "ATTILAO",
                                    "SZALL_MOD": "Személyes átvétel",
                                    "(No column name)": "6"
                                },
                                {
                                    "LOGIN": "BEATRIXS",
                                    "SZALL_MOD": "GLS",
                                    "(No column name)": "146"
                                },
                                {
                                    "LOGIN": "peter3",
                                    "SZALL_MOD": "Személyes átvétel",
                                    "(No column name)": "10"
                                },
                                {
                                    "LOGIN": "arpad2",
                                    "SZALL_MOD": "Posta",
                                    "(No column name)": "1"
                                },
                                {
                                    "LOGIN": "ZSUZSAV",
                                    "SZALL_MOD": "Posta",
                                    "(No column name)": "139"
                                },
                                {
                                    "LOGIN": "aron2",
                                    "SZALL_MOD": "Posta",
                                    "(No column name)": "133"
                                },
                                {
                                    "LOGIN": "arpad2",
                                    "SZALL_MOD": "Személyes átvétel",
                                    "(No column name)": "10"
                                },
                                {
                                    "LOGIN": "krisztian4",
                                    "SZALL_MOD": "GLS",
                                    "(No column name)": "5"
                                },
                                {
                                    "LOGIN": "ROBERTP",
                                    "SZALL_MOD": "GLS",
                                    "(No column name)": "8"
                                },
                                {
                                    "LOGIN": "SZILARDS",
                                    "SZALL_MOD": "GLS",
                                    "(No column name)": "144"
                                },
                                {
                                    "LOGIN": "ARPADH",
                                    "SZALL_MOD": "GLS",
                                    "(No column name)": "6"
                                },
                                {
                                    "LOGIN": "sebestyen",
                                    "SZALL_MOD": "Személyes átvétel",
                                    "(No column name)": "6"
                                },
                                {
                                    "LOGIN": "debora",
                                    "SZALL_MOD": "GLS",
                                    "(No column name)": "7"
                                },
                                {
                                    "LOGIN": "akos",
                                    "SZALL_MOD": "Személyes átvétel",
                                    "(No column name)": "140"
                                },
                                {
                                    "LOGIN": "nikoletta4",
                                    "SZALL_MOD": "Posta",
                                    "(No column name)": "158"
                                },
                                {
                                    "LOGIN": "lala",
                                    "SZALL_MOD": "Posta",
                                    "(No column name)": "3"
                                },
                                {
                                    "LOGIN": "zsolt1",
                                    "SZALL_MOD": "Személyes átvétel",
                                    "(No column name)": "3"
                                },
                                {
                                    "LOGIN": "GYORGYO",
                                    "SZALL_MOD": "GLS",
                                    "(No column name)": "7"
                                },
                                {
                                    "LOGIN": "fruzsina4",
                                    "SZALL_MOD": "Posta",
                                    "(No column name)": "3"
                                },
                                {
                                    "LOGIN": "MIKLOSB",
                                    "SZALL_MOD": "Személyes átvétel",
                                    "(No column name)": "8"
                                },
                                {
                                    "LOGIN": "denes",
                                    "SZALL_MOD": "Posta",
                                    "(No column name)": "2"
                                },
                                {
                                    "LOGIN": "imre1",
                                    "SZALL_MOD": "Személyes átvétel",
                                    "(No column name)": "3"
                                },
                                {
                                    "LOGIN": "gabor4",
                                    "SZALL_MOD": "Személyes átvétel",
                                    "(No column name)": "4"
                                },
                                {
                                    "LOGIN": "maria1",
                                    "SZALL_MOD": "Személyes átvétel",
                                    "(No column name)": "1"
                                },
                                {
                                    "LOGIN": "nikolett3",
                                    "SZALL_MOD": "GLS",
                                    "(No column name)": "4"
                                },
                                {
                                    "LOGIN": "peter4",
                                    "SZALL_MOD": "GLS",
                                    "(No column name)": "266"
                                },
                                {
                                    "LOGIN": "zsuzsa",
                                    "SZALL_MOD": "GLS",
                                    "(No column name)": "8"
                                },
                                {
                                    "LOGIN": "balint1",
                                    "SZALL_MOD": "GLS",
                                    "(No column name)": "158"
                                },
                                {
                                    "LOGIN": "veronika4",
                                    "SZALL_MOD": "Posta",
                                    "(No column name)": "6"
                                },
                                {
                                    "LOGIN": "andi",
                                    "SZALL_MOD": "GLS",
                                    "(No column name)": "7"
                                },
                                {
                                    "LOGIN": "tamas",
                                    "SZALL_MOD": "GLS",
                                    "(No column name)": "143"
                                },
                                {
                                    "LOGIN": "zoltan",
                                    "SZALL_MOD": "GLS",
                                    "(No column name)": "5"
                                },
                                {
                                    "LOGIN": "sandor4",
                                    "SZALL_MOD": "GLS",
                                    "(No column name)": "4"
                                },
                                {
                                    "LOGIN": "JANOSP",
                                    "SZALL_MOD": "Személyes átvétel",
                                    "(No column name)": "3"
                                },
                                {
                                    "LOGIN": "attila4",
                                    "SZALL_MOD": "Posta",
                                    "(No column name)": "125"
                                },
                                {
                                    "LOGIN": "bernadett2",
                                    "SZALL_MOD": "GLS",
                                    "(No column name)": "6"
                                },
                                {
                                    "LOGIN": "david",
                                    "SZALL_MOD": "Személyes átvétel",
                                    "(No column name)": "146"
                                },
                                {
                                    "LOGIN": "tibor2",
                                    "SZALL_MOD": "GLS",
                                    "(No column name)": "7"
                                },
                                {
                                    "LOGIN": "adam3",
                                    "SZALL_MOD": "Posta",
                                    "(No column name)": "3"
                                },
                                {
                                    "LOGIN": "agnes",
                                    "SZALL_MOD": "GLS",
                                    "(No column name)": "144"
                                },
                                {
                                    "LOGIN": "timea",
                                    "SZALL_MOD": "Személyes átvétel",
                                    "(No column name)": "18"
                                },
                                {
                                    "LOGIN": "zsuzsanna",
                                    "SZALL_MOD": "GLS",
                                    "(No column name)": "7"
                                },
                                {
                                    "LOGIN": "istvan1",
                                    "SZALL_MOD": "Posta",
                                    "(No column name)": "4"
                                },
                                {
                                    "LOGIN": "krisztian4",
                                    "SZALL_MOD": "Posta",
                                    "(No column name)": "6"
                                },
                                {
                                    "LOGIN": "brigitta",
                                    "SZALL_MOD": "Személyes átvétel",
                                    "(No column name)": "119"
                                },
                                {
                                    "LOGIN": "JUDITH",
                                    "SZALL_MOD": "Posta",
                                    "(No column name)": "130"
                                },
                                {
                                    "LOGIN": "gusztav",
                                    "SZALL_MOD": "GLS",
                                    "(No column name)": "5"
                                },
                                {
                                    "LOGIN": "adam3",
                                    "SZALL_MOD": "Személyes átvétel",
                                    "(No column name)": "2"
                                },
                                {
                                    "LOGIN": "veronika4",
                                    "SZALL_MOD": "Személyes átvétel",
                                    "(No column name)": "7"
                                },
                                {
                                    "LOGIN": "BELAF",
                                    "SZALL_MOD": "Személyes átvétel",
                                    "(No column name)": "5"
                                },
                                {
                                    "LOGIN": "JUDITH",
                                    "SZALL_MOD": "Személyes átvétel",
                                    "(No column name)": "150"
                                },
                                {
                                    "LOGIN": "tibor",
                                    "SZALL_MOD": "GLS",
                                    "(No column name)": "115"
                                }
                            ]
                        },
                        "text/html": [
                            "<table>",
                            "<tr><th>LOGIN</th><th>SZALL_MOD</th><th>(No column name)</th></tr>",
                            "<tr><td>NIKOLETTAT</td><td>Posta</td><td>7</td></tr>",
                            "<tr><td>tihamer</td><td>Személyes átvétel</td><td>5</td></tr>",
                            "<tr><td>IBOLYAA</td><td>Személyes átvétel</td><td>157</td></tr>",
                            "<tr><td>anita</td><td>GLS</td><td>5</td></tr>",
                            "<tr><td>krisztina1</td><td>Személyes átvétel</td><td>8</td></tr>",
                            "<tr><td>BEATRIXS</td><td>Személyes átvétel</td><td>133</td></tr>",
                            "<tr><td>szilvia1</td><td>Személyes átvétel</td><td>138</td></tr>",
                            "<tr><td>sandor3</td><td>Posta</td><td>4</td></tr>",
                            "<tr><td>david1</td><td>Személyes átvétel</td><td>8</td></tr>",
                            "<tr><td>emese</td><td>Személyes átvétel</td><td>142</td></tr>",
                            "<tr><td>gabriella10</td><td>Személyes átvétel</td><td>7</td></tr>",
                            "<tr><td>julianna4</td><td>Posta</td><td>12</td></tr>",
                            "<tr><td>agnes3</td><td>Posta</td><td>146</td></tr>",
                            "<tr><td>ARPADH</td><td>Személyes átvétel</td><td>5</td></tr>",
                            "<tr><td>daniel</td><td>GLS</td><td>7</td></tr>",
                            "<tr><td>anett3</td><td>Személyes átvétel</td><td>9</td></tr>",
                            "<tr><td>eva</td><td>Személyes átvétel</td><td>139</td></tr>",
                            "<tr><td>katalin4</td><td>Személyes átvétel</td><td>11</td></tr>",
                            "<tr><td>andras2</td><td>GLS</td><td>4</td></tr>",
                            "<tr><td>JOZSEFG</td><td>Posta</td><td>1</td></tr>",
                            "<tr><td>ROBERTP</td><td>Személyes átvétel</td><td>10</td></tr>",
                            "<tr><td>arpad2</td><td>GLS</td><td>6</td></tr>",
                            "<tr><td>zsofi1</td><td>Személyes átvétel</td><td>6</td></tr>",
                            "<tr><td>imre1</td><td>GLS</td><td>8</td></tr>",
                            "<tr><td>ferenc1</td><td>Posta</td><td>158</td></tr>",
                            "<tr><td>bence</td><td>Személyes átvétel</td><td>8</td></tr>",
                            "<tr><td>sara</td><td>Személyes átvétel</td><td>9</td></tr>",
                            "<tr><td>GYORGYO</td><td>Személyes átvétel</td><td>5</td></tr>",
                            "<tr><td>AGNESK</td><td>Posta</td><td>7</td></tr>",
                            "<tr><td>krisztina</td><td>Posta</td><td>150</td></tr>",
                            "<tr><td>ISTVANV</td><td>GLS</td><td>4</td></tr>",
                            "<tr><td>TAMASF</td><td>Személyes átvétel</td><td>129</td></tr>",
                            "<tr><td>SZABOLCSM</td><td>GLS</td><td>126</td></tr>",
                            "<tr><td>andras4</td><td>Személyes átvétel</td><td>4</td></tr>",
                            "<tr><td>andi</td><td>Személyes átvétel</td><td>7</td></tr>",
                            "<tr><td>brigitta</td><td>GLS</td><td>137</td></tr>",
                            "<tr><td>zsuzsa3</td><td>GLS</td><td>5</td></tr>",
                            "<tr><td>janos3</td><td>GLS</td><td>5</td></tr>",
                            "<tr><td>agnes</td><td>Személyes átvétel</td><td>144</td></tr>",
                            "<tr><td>MIHALYJ</td><td>GLS</td><td>3</td></tr>",
                            "<tr><td>KRISZTIANM</td><td>Posta</td><td>136</td></tr>",
                            "<tr><td>edit</td><td>Személyes átvétel</td><td>4</td></tr>",
                            "<tr><td>ANDRASE</td><td>Posta</td><td>141</td></tr>",
                            "<tr><td>ANDREAT</td><td>Posta</td><td>6</td></tr>",
                            "<tr><td>adam1</td><td>Személyes átvétel</td><td>131</td></tr>",
                            "<tr><td>attila1</td><td>Személyes átvétel</td><td>6</td></tr>",
                            "<tr><td>norbert2</td><td>Posta</td><td>4</td></tr>",
                            "<tr><td>david4</td><td>GLS</td><td>3</td></tr>",
                            "<tr><td>aniko</td><td>GLS</td><td>128</td></tr>",
                            "<tr><td>eszter4</td><td>Posta</td><td>134</td></tr>",
                            "<tr><td>ANDRASN</td><td>GLS</td><td>10</td></tr>",
                            "<tr><td>ARPADM</td><td>GLS</td><td>6</td></tr>",
                            "<tr><td>zsuzsa</td><td>Posta</td><td>5</td></tr>",
                            "<tr><td>EVAV</td><td>GLS</td><td>2</td></tr>",
                            "<tr><td>LASZLON</td><td>Posta</td><td>131</td></tr>",
                            "<tr><td>csongor3</td><td>GLS</td><td>5</td></tr>",
                            "<tr><td>andras21</td><td>GLS</td><td>140</td></tr>",
                            "<tr><td>roza2</td><td>Posta</td><td>2</td></tr>",
                            "<tr><td>maria1</td><td>GLS</td><td>4</td></tr>",
                            "<tr><td>adam4</td><td>Posta</td><td>6</td></tr>",
                            "<tr><td>brigitta3</td><td>Személyes átvétel</td><td>139</td></tr>",
                            "<tr><td>ANDRASN</td><td>Posta</td><td>9</td></tr>",
                            "<tr><td>imre</td><td>Személyes átvétel</td><td>6</td></tr>",
                            "<tr><td>MATEK</td><td>Posta</td><td>10</td></tr>",
                            "<tr><td>balazs3</td><td>GLS</td><td>6</td></tr>",
                            "<tr><td>SEBASTIANF</td><td>Személyes átvétel</td><td>6</td></tr>",
                            "<tr><td>valentin</td><td>Posta</td><td>5</td></tr>",
                            "<tr><td>rajmond4</td><td>Posta</td><td>5</td></tr>",
                            "<tr><td>balu</td><td>Posta</td><td>137</td></tr>",
                            "<tr><td>reka4</td><td>Posta</td><td>4</td></tr>",
                            "<tr><td>sandor</td><td>GLS</td><td>4</td></tr>",
                            "<tr><td>balazs1</td><td>GLS</td><td>128</td></tr>",
                            "<tr><td>aladar</td><td>GLS</td><td>156</td></tr>",
                            "<tr><td>zoltan4</td><td>Posta</td><td>124</td></tr>",
                            "<tr><td>reka4</td><td>Személyes átvétel</td><td>11</td></tr>",
                            "<tr><td>roland</td><td>GLS</td><td>132</td></tr>",
                            "<tr><td>kornel4</td><td>GLS</td><td>3</td></tr>",
                            "<tr><td>ARPADM</td><td>Személyes átvétel</td><td>7</td></tr>",
                            "<tr><td>marton</td><td>Posta</td><td>4</td></tr>",
                            "<tr><td>BERNADETTO</td><td>Posta</td><td>2</td></tr>",
                            "<tr><td>adam1</td><td>Posta</td><td>132</td></tr>",
                            "<tr><td>NIKOLETTAT</td><td>Személyes átvétel</td><td>5</td></tr>",
                            "<tr><td>LASZLOA</td><td>Posta</td><td>136</td></tr>",
                            "<tr><td>katka</td><td>Posta</td><td>6</td></tr>",
                            "<tr><td>IBOLYAA</td><td>Posta</td><td>125</td></tr>",
                            "<tr><td>tihamer</td><td>Posta</td><td>6</td></tr>",
                            "<tr><td>emese</td><td>Posta</td><td>136</td></tr>",
                            "<tr><td>szilvia1</td><td>Posta</td><td>151</td></tr>",
                            "<tr><td>ZOLTANT</td><td>GLS</td><td>127</td></tr>",
                            "<tr><td>imre</td><td>GLS</td><td>5</td></tr>",
                            "<tr><td>katalin4</td><td>Posta</td><td>5</td></tr>",
                            "<tr><td>MIKLOSB</td><td>GLS</td><td>6</td></tr>",
                            "<tr><td>julianna4</td><td>Személyes átvétel</td><td>7</td></tr>",
                            "<tr><td>jozsef</td><td>GLS</td><td>116</td></tr>",
                            "<tr><td>NANDORF</td><td>Posta</td><td>139</td></tr>",
                            "<tr><td>VIKTORK</td><td>Személyes átvétel</td><td>6</td></tr>",
                            "<tr><td>agnes3</td><td>Személyes átvétel</td><td>136</td></tr>",
                            "<tr><td>zsofi1</td><td>Posta</td><td>6</td></tr>",
                            "<tr><td>georgij</td><td>Posta</td><td>2</td></tr>",
                            "<tr><td>attila4</td><td>GLS</td><td>135</td></tr>",
                            "<tr><td>aladar</td><td>Személyes átvétel</td><td>118</td></tr>",
                            "<tr><td>BENCEB</td><td>Posta</td><td>7</td></tr>",
                            "<tr><td>ZSOLTJ</td><td>Posta</td><td>8</td></tr>",
                            "<tr><td>BENCEB</td><td>Személyes átvétel</td><td>5</td></tr>",
                            "<tr><td>PETERB</td><td>GLS</td><td>2</td></tr>",
                            "<tr><td>matyas2</td><td>Posta</td><td>131</td></tr>",
                            "<tr><td>tibor</td><td>Személyes átvétel</td><td>130</td></tr>",
                            "<tr><td>adam4</td><td>Személyes átvétel</td><td>11</td></tr>",
                            "<tr><td>ferenc1</td><td>Személyes átvétel</td><td>135</td></tr>",
                            "<tr><td>TAMASF</td><td>Posta</td><td>145</td></tr>",
                            "<tr><td>zsolt1</td><td>GLS</td><td>11</td></tr>",
                            "<tr><td>zsuzsanna</td><td>Személyes átvétel</td><td>3</td></tr>",
                            "<tr><td>katalin</td><td>GLS</td><td>7</td></tr>",
                            "<tr><td>krisztina</td><td>Személyes átvétel</td><td>157</td></tr>",
                            "<tr><td>BELAF</td><td>GLS</td><td>11</td></tr>",
                            "<tr><td>tibor</td><td>Posta</td><td>129</td></tr>",
                            "<tr><td>AGNESK</td><td>Személyes átvétel</td><td>7</td></tr>",
                            "<tr><td>MONIKAM</td><td>Posta</td><td>151</td></tr>",
                            "<tr><td>ROBERTI</td><td>GLS</td><td>5</td></tr>",
                            "<tr><td>ANNAMARIAR</td><td>Posta</td><td>2</td></tr>",
                            "<tr><td>timea2</td><td>GLS</td><td>1</td></tr>",
                            "<tr><td>eszter2</td><td>GLS</td><td>127</td></tr>",
                            "<tr><td>ilona3</td><td>Személyes átvétel</td><td>7</td></tr>",
                            "<tr><td>gabor4</td><td>GLS</td><td>7</td></tr>",
                            "<tr><td>robert2</td><td>Posta</td><td>1</td></tr>",
                            "<tr><td>MATEK</td><td>GLS</td><td>6</td></tr>",
                            "<tr><td>ZSUZSAV</td><td>GLS</td><td>139</td></tr>",
                            "<tr><td>tibor2</td><td>Posta</td><td>7</td></tr>",
                            "<tr><td>ANDRASE</td><td>Személyes átvétel</td><td>136</td></tr>",
                            "<tr><td>sara</td><td>GLS</td><td>4</td></tr>",
                            "<tr><td>ANDREAT</td><td>Személyes átvétel</td><td>12</td></tr>",
                            "<tr><td>ESZTERE</td><td>GLS</td><td>6</td></tr>",
                            "<tr><td>timea</td><td>GLS</td><td>14</td></tr>",
                            "<tr><td>GABORS</td><td>Posta</td><td>6</td></tr>",
                            "<tr><td>balint2</td><td>Személyes átvétel</td><td>3</td></tr>",
                            "<tr><td>kati</td><td>Személyes átvétel</td><td>4</td></tr>",
                            "<tr><td>veronika4</td><td>GLS</td><td>5</td></tr>",
                            "<tr><td>gabriella1</td><td>GLS</td><td>5</td></tr>",
                            "<tr><td>andras4</td><td>Posta</td><td>4</td></tr>",
                            "<tr><td>kata</td><td>Személyes átvétel</td><td>3</td></tr>",
                            "<tr><td>jozsef2</td><td>Személyes átvétel</td><td>4</td></tr>",
                            "<tr><td>balint2</td><td>Posta</td><td>6</td></tr>",
                            "<tr><td>annamaria1</td><td>Személyes átvétel</td><td>7</td></tr>",
                            "<tr><td>janos3</td><td>Személyes átvétel</td><td>6</td></tr>",
                            "<tr><td>kriszti</td><td>Személyes átvétel</td><td>5</td></tr>",
                            "<tr><td>ANDRASN</td><td>Személyes átvétel</td><td>5</td></tr>",
                            "<tr><td>imre</td><td>Posta</td><td>4</td></tr>",
                            "<tr><td>ANIKOS</td><td>Posta</td><td>126</td></tr>",
                            "<tr><td>szabolcs</td><td>Posta</td><td>157</td></tr>",
                            "<tr><td>ANDREAT</td><td>GLS</td><td>3</td></tr>",
                            "<tr><td>bertalan</td><td>Posta</td><td>124</td></tr>",
                            "<tr><td>daniel1</td><td>Posta</td><td>131</td></tr>",
                            "<tr><td>MATEK</td><td>Személyes átvétel</td><td>9</td></tr>",
                            "<tr><td>bertalan</td><td>Személyes átvétel</td><td>101</td></tr>",
                            "<tr><td>ZOLTANP</td><td>Posta</td><td>3</td></tr>",
                            "<tr><td>JANOSG</td><td>Posta</td><td>3</td></tr>",
                            "<tr><td>BEATRIXK</td><td>Posta</td><td>155</td></tr>",
                            "<tr><td>peter3</td><td>GLS</td><td>8</td></tr>",
                            "<tr><td>NANDORF</td><td>Személyes átvétel</td><td>134</td></tr>",
                            "<tr><td>balazs2</td><td>Posta</td><td>7</td></tr>",
                            "<tr><td>ZOLTANP</td><td>Személyes átvétel</td><td>4</td></tr>",
                            "<tr><td>AGNESH</td><td>GLS</td><td>2</td></tr>",
                            "<tr><td>akos</td><td>GLS</td><td>146</td></tr>",
                            "<tr><td>klaudia2</td><td>GLS</td><td>3</td></tr>",
                            "<tr><td>LASZLON</td><td>GLS</td><td>126</td></tr>",
                            "<tr><td>peter4</td><td>Személyes átvétel</td><td>293</td></tr>",
                            "<tr><td>balint2</td><td>GLS</td><td>8</td></tr>",
                            "<tr><td>eva</td><td>Posta</td><td>140</td></tr>",
                            "<tr><td>zoltan4</td><td>GLS</td><td>129</td></tr>",
                            "<tr><td>bernadett2</td><td>Személyes átvétel</td><td>7</td></tr>",
                            "<tr><td>lala</td><td>GLS</td><td>5</td></tr>",
                            "<tr><td>aladar</td><td>Posta</td><td>134</td></tr>",
                            "<tr><td>balint1</td><td>Személyes átvétel</td><td>152</td></tr>",
                            "<tr><td>daniel1</td><td>Személyes átvétel</td><td>132</td></tr>",
                            "<tr><td>SEBASTIANF</td><td>Posta</td><td>3</td></tr>",
                            "<tr><td>nikolett3</td><td>Posta</td><td>3</td></tr>",
                            "<tr><td>denes</td><td>GLS</td><td>3</td></tr>",
                            "<tr><td>adam1</td><td>GLS</td><td>129</td></tr>",
                            "<tr><td>matyas2</td><td>Személyes átvétel</td><td>164</td></tr>",
                            "<tr><td>GYORGYO</td><td>Posta</td><td>4</td></tr>",
                            "<tr><td>norbert5</td><td>Posta</td><td>6</td></tr>",
                            "<tr><td>sandor3</td><td>GLS</td><td>4</td></tr>",
                            "<tr><td>norbert5</td><td>Személyes átvétel</td><td>9</td></tr>",
                            "<tr><td>andrea4</td><td>Posta</td><td>4</td></tr>",
                            "<tr><td>jozsef2</td><td>Posta</td><td>2</td></tr>",
                            "<tr><td>zsuzsa</td><td>Személyes átvétel</td><td>3</td></tr>",
                            "<tr><td>JANOSP</td><td>GLS</td><td>7</td></tr>",
                            "<tr><td>julianna4</td><td>GLS</td><td>8</td></tr>",
                            "<tr><td>VIKTORIAU</td><td>GLS</td><td>5</td></tr>",
                            "<tr><td>andrea</td><td>Posta</td><td>4</td></tr>",
                            "<tr><td>andi</td><td>Posta</td><td>4</td></tr>",
                            "<tr><td>aniko4</td><td>GLS</td><td>6</td></tr>",
                            "<tr><td>ANNAMARIAR</td><td>Személyes átvétel</td><td>3</td></tr>",
                            "<tr><td>rajmond4</td><td>GLS</td><td>6</td></tr>",
                            "<tr><td>KRISZTIANM</td><td>Személyes átvétel</td><td>130</td></tr>",
                            "<tr><td>kati</td><td>Posta</td><td>5</td></tr>",
                            "<tr><td>GABORS</td><td>Személyes átvétel</td><td>4</td></tr>",
                            "<tr><td>julia4</td><td>GLS</td><td>2</td></tr>",
                            "<tr><td>gabor1</td><td>Posta</td><td>5</td></tr>",
                            "<tr><td>brigitta3</td><td>Posta</td><td>130</td></tr>",
                            "<tr><td>kata</td><td>Posta</td><td>4</td></tr>",
                            "<tr><td>ANIKOS</td><td>Személyes átvétel</td><td>150</td></tr>",
                            "<tr><td>norbert4</td><td>Posta</td><td>3</td></tr>",
                            "<tr><td>kriszti</td><td>Posta</td><td>5</td></tr>",
                            "<tr><td>andras4</td><td>GLS</td><td>4</td></tr>",
                            "<tr><td>bence</td><td>Posta</td><td>6</td></tr>",
                            "<tr><td>nikoletta4</td><td>GLS</td><td>137</td></tr>",
                            "<tr><td>bernadett1</td><td>Posta</td><td>5</td></tr>",
                            "<tr><td>marton</td><td>Személyes átvétel</td><td>5</td></tr>",
                            "<tr><td>KRISZTINAG</td><td>Személyes átvétel</td><td>10</td></tr>",
                            "<tr><td>balu</td><td>Személyes átvétel</td><td>123</td></tr>",
                            "<tr><td>bernadett1</td><td>Személyes átvétel</td><td>5</td></tr>",
                            "<tr><td>GYONGYIK</td><td>Személyes átvétel</td><td>3</td></tr>",
                            "<tr><td>balazs2</td><td>Személyes átvétel</td><td>5</td></tr>",
                            "<tr><td>robert2</td><td>GLS</td><td>5</td></tr>",
                            "<tr><td>GYONGYIK</td><td>Posta</td><td>6</td></tr>",
                            "<tr><td>BERNADETTO</td><td>Személyes átvétel</td><td>7</td></tr>",
                            "<tr><td>attila1</td><td>GLS</td><td>5</td></tr>",
                            "<tr><td>ARPADM</td><td>Posta</td><td>3</td></tr>",
                            "<tr><td>katka</td><td>Személyes átvétel</td><td>10</td></tr>",
                            "<tr><td>balint1</td><td>Posta</td><td>152</td></tr>",
                            "<tr><td>balint</td><td>GLS</td><td>10</td></tr>",
                            "<tr><td>JOZSEFG</td><td>Személyes átvétel</td><td>9</td></tr>",
                            "<tr><td>kristof4</td><td>GLS</td><td>9</td></tr>",
                            "<tr><td>LASZLOA</td><td>Személyes átvétel</td><td>154</td></tr>",
                            "<tr><td>andras41</td><td>Személyes átvétel</td><td>133</td></tr>",
                            "<tr><td>krisztina1</td><td>Posta</td><td>4</td></tr>",
                            "<tr><td>ARPADH</td><td>Posta</td><td>3</td></tr>",
                            "<tr><td>nikolett3</td><td>Személyes átvétel</td><td>10</td></tr>",
                            "<tr><td>peter4</td><td>Posta</td><td>293</td></tr>",
                            "<tr><td>VIKTORK</td><td>Posta</td><td>6</td></tr>",
                            "<tr><td>ROBERTP</td><td>Posta</td><td>8</td></tr>",
                            "<tr><td>RENATAK</td><td>Személyes átvétel</td><td>147</td></tr>",
                            "<tr><td>ZOLTANP</td><td>GLS</td><td>6</td></tr>",
                            "<tr><td>bertalan</td><td>GLS</td><td>128</td></tr>",
                            "<tr><td>bernadett2</td><td>Posta</td><td>2</td></tr>",
                            "<tr><td>ZSOLTJ</td><td>Személyes átvétel</td><td>9</td></tr>",
                            "<tr><td>BEATRIXS</td><td>Posta</td><td>141</td></tr>",
                            "<tr><td>RENATAK</td><td>Posta</td><td>140</td></tr>",
                            "<tr><td>GABORS</td><td>GLS</td><td>5</td></tr>",
                            "<tr><td>sara</td><td>Posta</td><td>7</td></tr>",
                            "<tr><td>vivien3</td><td>GLS</td><td>9</td></tr>",
                            "<tr><td>andras3</td><td>Posta</td><td>1</td></tr>",
                            "<tr><td>katka</td><td>GLS</td><td>6</td></tr>",
                            "<tr><td>MARKH</td><td>GLS</td><td>128</td></tr>",
                            "<tr><td>istvan1</td><td>GLS</td><td>8</td></tr>",
                            "<tr><td>fruzsina4</td><td>GLS</td><td>8</td></tr>",
                            "<tr><td>roza2</td><td>GLS</td><td>3</td></tr>",
                            "<tr><td>JUDITH</td><td>GLS</td><td>170</td></tr>",
                            "<tr><td>andrea3</td><td>GLS</td><td>131</td></tr>",
                            "<tr><td>gabriella10</td><td>Posta</td><td>5</td></tr>",
                            "<tr><td>katalin4</td><td>GLS</td><td>7</td></tr>",
                            "<tr><td>zsuzsanna</td><td>Posta</td><td>5</td></tr>",
                            "<tr><td>MONIKAM</td><td>Személyes átvétel</td><td>123</td></tr>",
                            "<tr><td>andrea4</td><td>Személyes átvétel</td><td>7</td></tr>",
                            "<tr><td>robert2</td><td>Személyes átvétel</td><td>7</td></tr>",
                            "<tr><td>agnes</td><td>Posta</td><td>130</td></tr>",
                            "<tr><td>reka4</td><td>GLS</td><td>5</td></tr>",
                            "<tr><td>dani</td><td>Személyes átvétel</td><td>8</td></tr>",
                            "<tr><td>david</td><td>GLS</td><td>161</td></tr>",
                            "<tr><td>david1</td><td>GLS</td><td>8</td></tr>",
                            "<tr><td>ilona3</td><td>Posta</td><td>2</td></tr>",
                            "<tr><td>edit</td><td>Posta</td><td>2</td></tr>",
                            "<tr><td>pal</td><td>GLS</td><td>152</td></tr>",
                            "<tr><td>eszter4</td><td>Személyes átvétel</td><td>149</td></tr>",
                            "<tr><td>sebestyen</td><td>GLS</td><td>4</td></tr>",
                            "<tr><td>andrea</td><td>Személyes átvétel</td><td>8</td></tr>",
                            "<tr><td>debora</td><td>Posta</td><td>6</td></tr>",
                            "<tr><td>gusztav</td><td>Posta</td><td>4</td></tr>",
                            "<tr><td>BEATRIXK</td><td>Személyes átvétel</td><td>145</td></tr>",
                            "<tr><td>gusztav</td><td>Személyes átvétel</td><td>5</td></tr>",
                            "<tr><td>norbert4</td><td>Személyes átvétel</td><td>9</td></tr>",
                            "<tr><td>alexandra</td><td>GLS</td><td>5</td></tr>",
                            "<tr><td>adam3</td><td>GLS</td><td>10</td></tr>",
                            "<tr><td>debora</td><td>Személyes átvétel</td><td>3</td></tr>",
                            "<tr><td>MONIKAM</td><td>GLS</td><td>133</td></tr>",
                            "<tr><td>gabor1</td><td>Személyes átvétel</td><td>5</td></tr>",
                            "<tr><td>AGNESK</td><td>GLS</td><td>1</td></tr>",
                            "<tr><td>NIKOLETTAT</td><td>GLS</td><td>13</td></tr>",
                            "<tr><td>lajos</td><td>GLS</td><td>5</td></tr>",
                            "<tr><td>istvan</td><td>GLS</td><td>3</td></tr>",
                            "<tr><td>andras41</td><td>GLS</td><td>149</td></tr>",
                            "<tr><td>LASZLON</td><td>Személyes átvétel</td><td>143</td></tr>",
                            "<tr><td>roza2</td><td>Személyes átvétel</td><td>3</td></tr>",
                            "<tr><td>annamaria1</td><td>Posta</td><td>4</td></tr>",
                            "<tr><td>szabolcs</td><td>Személyes átvétel</td><td>169</td></tr>",
                            "<tr><td>laszlo1</td><td>GLS</td><td>130</td></tr>",
                            "<tr><td>georgij</td><td>Személyes átvétel</td><td>10</td></tr>",
                            "<tr><td>rajmond4</td><td>Személyes átvétel</td><td>6</td></tr>",
                            "<tr><td>KRISZTINAG</td><td>Posta</td><td>6</td></tr>",
                            "<tr><td>valentin</td><td>Személyes átvétel</td><td>3</td></tr>",
                            "<tr><td>janos3</td><td>Posta</td><td>2</td></tr>",
                            "<tr><td>anett3</td><td>Posta</td><td>6</td></tr>",
                            "<tr><td>zoltan4</td><td>Személyes átvétel</td><td>171</td></tr>",
                            "<tr><td>JANOSG</td><td>Személyes átvétel</td><td>4</td></tr>",
                            "<tr><td>aron2</td><td>GLS</td><td>132</td></tr>",
                            "<tr><td>sandor3</td><td>Személyes átvétel</td><td>6</td></tr>",
                            "<tr><td>jozsef2</td><td>GLS</td><td>7</td></tr>",
                            "<tr><td>szilvia1</td><td>GLS</td><td>156</td></tr>",
                            "<tr><td>gabriella10</td><td>GLS</td><td>4</td></tr>",
                            "<tr><td>adam4</td><td>GLS</td><td>12</td></tr>",
                            "<tr><td>andras21</td><td>Posta</td><td>124</td></tr>",
                            "<tr><td>polla</td><td>Posta</td><td>6</td></tr>",
                            "<tr><td>SEBASTIANF</td><td>GLS</td><td>6</td></tr>",
                            "<tr><td>eva2</td><td>Posta</td><td>138</td></tr>",
                            "<tr><td>lajos</td><td>Személyes átvétel</td><td>9</td></tr>",
                            "<tr><td>peter2</td><td>Személyes átvétel</td><td>7</td></tr>",
                            "<tr><td>krisztian4</td><td>Személyes átvétel</td><td>6</td></tr>",
                            "<tr><td>roland1</td><td>GLS</td><td>142</td></tr>",
                            "<tr><td>laszlo2</td><td>Személyes átvétel</td><td>7</td></tr>",
                            "<tr><td>gabor1</td><td>GLS</td><td>9</td></tr>",
                            "<tr><td>ESZTERE</td><td>Posta</td><td>9</td></tr>",
                            "<tr><td>laszlo1</td><td>Személyes átvétel</td><td>135</td></tr>",
                            "<tr><td>eszter4</td><td>GLS</td><td>141</td></tr>",
                            "<tr><td>edit</td><td>GLS</td><td>7</td></tr>",
                            "<tr><td>KRISZTINAG</td><td>GLS</td><td>6</td></tr>",
                            "<tr><td>ESZTERE</td><td>Személyes átvétel</td><td>7</td></tr>",
                            "<tr><td>henrik3</td><td>GLS</td><td>7</td></tr>",
                            "<tr><td>pal</td><td>Személyes átvétel</td><td>154</td></tr>",
                            "<tr><td>RENATAK</td><td>GLS</td><td>135</td></tr>",
                            "<tr><td>daniel</td><td>Posta</td><td>2</td></tr>",
                            "<tr><td>julia</td><td>GLS</td><td>137</td></tr>",
                            "<tr><td>roland</td><td>Posta</td><td>157</td></tr>",
                            "<tr><td>balazs2</td><td>GLS</td><td>5</td></tr>",
                            "<tr><td>zoltan</td><td>Személyes átvétel</td><td>7</td></tr>",
                            "<tr><td>daniel1</td><td>GLS</td><td>156</td></tr>",
                            "<tr><td>attila1</td><td>Posta</td><td>7</td></tr>",
                            "<tr><td>fruzsina4</td><td>Személyes átvétel</td><td>7</td></tr>",
                            "<tr><td>zsolt1</td><td>Posta</td><td>6</td></tr>",
                            "<tr><td>matyas2</td><td>GLS</td><td>138</td></tr>",
                            "<tr><td>lala</td><td>Személyes átvétel</td><td>9</td></tr>",
                            "<tr><td>peter1</td><td>Posta</td><td>135</td></tr>",
                            "<tr><td>VIKTORIAU</td><td>Posta</td><td>4</td></tr>",
                            "<tr><td>SZABOLCSM</td><td>Posta</td><td>153</td></tr>",
                            "<tr><td>JOZSEFG</td><td>GLS</td><td>11</td></tr>",
                            "<tr><td>SZILARDS</td><td>Személyes átvétel</td><td>111</td></tr>",
                            "<tr><td>peter1</td><td>Személyes átvétel</td><td>126</td></tr>",
                            "<tr><td>sandor</td><td>Posta</td><td>6</td></tr>",
                            "<tr><td>david4</td><td>Személyes átvétel</td><td>10</td></tr>",
                            "<tr><td>david4</td><td>Posta</td><td>8</td></tr>",
                            "<tr><td>csongor3</td><td>Posta</td><td>2</td></tr>",
                            "<tr><td>tihamer</td><td>GLS</td><td>9</td></tr>",
                            "<tr><td>KRISZTIANM</td><td>GLS</td><td>118</td></tr>",
                            "<tr><td>kata</td><td>GLS</td><td>5</td></tr>",
                            "<tr><td>laszlo2</td><td>GLS</td><td>12</td></tr>",
                            "<tr><td>katalin</td><td>Posta</td><td>7</td></tr>",
                            "<tr><td>tunde</td><td>Személyes átvétel</td><td>4</td></tr>",
                            "<tr><td>ISTVANV</td><td>Posta</td><td>9</td></tr>",
                            "<tr><td>zsofi1</td><td>GLS</td><td>7</td></tr>",
                            "<tr><td>julia</td><td>Posta</td><td>160</td></tr>",
                            "<tr><td>brigitta3</td><td>GLS</td><td>144</td></tr>",
                            "<tr><td>tunde</td><td>Posta</td><td>6</td></tr>",
                            "<tr><td>eva</td><td>GLS</td><td>125</td></tr>",
                            "<tr><td>roland1</td><td>Személyes átvétel</td><td>135</td></tr>",
                            "<tr><td>agnes3</td><td>GLS</td><td>148</td></tr>",
                            "<tr><td>MIHALYJ</td><td>Posta</td><td>4</td></tr>",
                            "<tr><td>EVAV</td><td>Személyes átvétel</td><td>4</td></tr>",
                            "<tr><td>TAMASF</td><td>GLS</td><td>159</td></tr>",
                            "<tr><td>istvan1</td><td>Személyes átvétel</td><td>7</td></tr>",
                            "<tr><td>balazs1</td><td>Posta</td><td>136</td></tr>",
                            "<tr><td>marton</td><td>GLS</td><td>5</td></tr>",
                            "<tr><td>henrik3</td><td>Személyes átvétel</td><td>5</td></tr>",
                            "<tr><td>BELAF</td><td>Posta</td><td>2</td></tr>",
                            "<tr><td>zoltan</td><td>Posta</td><td>3</td></tr>",
                            "<tr><td>EVAV</td><td>Posta</td><td>1</td></tr>",
                            "<tr><td>MATYASS</td><td>Személyes átvétel</td><td>3</td></tr>",
                            "<tr><td>polla</td><td>Személyes átvétel</td><td>7</td></tr>",
                            "<tr><td>MIHALYJ</td><td>Személyes átvétel</td><td>6</td></tr>",
                            "<tr><td>ROBERTI</td><td>Posta</td><td>3</td></tr>",
                            "<tr><td>miklos2</td><td>Posta</td><td>4</td></tr>",
                            "<tr><td>georgij</td><td>GLS</td><td>9</td></tr>",
                            "<tr><td>ARONK</td><td>Személyes átvétel</td><td>155</td></tr>",
                            "<tr><td>vivien3</td><td>Személyes átvétel</td><td>7</td></tr>",
                            "<tr><td>PETERB</td><td>Posta</td><td>4</td></tr>",
                            "<tr><td>peter2</td><td>Posta</td><td>4</td></tr>",
                            "<tr><td>eva2</td><td>Személyes átvétel</td><td>170</td></tr>",
                            "<tr><td>alexandra</td><td>Posta</td><td>9</td></tr>",
                            "<tr><td>jozsef</td><td>Posta</td><td>132</td></tr>",
                            "<tr><td>kati</td><td>GLS</td><td>4</td></tr>",
                            "<tr><td>gabriella1</td><td>Személyes átvétel</td><td>5</td></tr>",
                            "<tr><td>emese</td><td>GLS</td><td>128</td></tr>",
                            "<tr><td>balint</td><td>Posta</td><td>4</td></tr>",
                            "<tr><td>aniko</td><td>Posta</td><td>137</td></tr>",
                            "<tr><td>anita</td><td>Személyes átvétel</td><td>5</td></tr>",
                            "<tr><td>IBOLYAA</td><td>GLS</td><td>140</td></tr>",
                            "<tr><td>RENATAS</td><td>Személyes átvétel</td><td>5</td></tr>",
                            "<tr><td>BENCEB</td><td>GLS</td><td>5</td></tr>",
                            "<tr><td>RENATAS</td><td>Posta</td><td>5</td></tr>",
                            "<tr><td>istvan</td><td>Személyes átvétel</td><td>4</td></tr>",
                            "<tr><td>ATTILAO</td><td>Posta</td><td>4</td></tr>",
                            "<tr><td>anett3</td><td>GLS</td><td>3</td></tr>",
                            "<tr><td>nikoletta4</td><td>Személyes átvétel</td><td>119</td></tr>",
                            "<tr><td>balu</td><td>GLS</td><td>127</td></tr>",
                            "<tr><td>valentin</td><td>GLS</td><td>5</td></tr>",
                            "<tr><td>szabolcs</td><td>GLS</td><td>145</td></tr>",
                            "<tr><td>roland</td><td>Személyes átvétel</td><td>125</td></tr>",
                            "<tr><td>sandor4</td><td>Posta</td><td>2</td></tr>",
                            "<tr><td>tibor2</td><td>Személyes átvétel</td><td>11</td></tr>",
                            "<tr><td>ferenc1</td><td>GLS</td><td>144</td></tr>",
                            "<tr><td>tamas</td><td>Posta</td><td>156</td></tr>",
                            "<tr><td>AGNESH</td><td>Posta</td><td>3</td></tr>",
                            "<tr><td>MIKLOSB</td><td>Posta</td><td>1</td></tr>",
                            "<tr><td>balazs3</td><td>Személyes átvétel</td><td>3</td></tr>",
                            "<tr><td>AGNESH</td><td>Személyes átvétel</td><td>6</td></tr>",
                            "<tr><td>dora3</td><td>Személyes átvétel</td><td>164</td></tr>",
                            "<tr><td>ANIKOS</td><td>GLS</td><td>128</td></tr>",
                            "<tr><td>dora3</td><td>Posta</td><td>124</td></tr>",
                            "<tr><td>tamara2</td><td>Személyes átvétel</td><td>3</td></tr>",
                            "<tr><td>imre1</td><td>Posta</td><td>4</td></tr>",
                            "<tr><td>sandor</td><td>Személyes átvétel</td><td>7</td></tr>",
                            "<tr><td>JANOSG</td><td>GLS</td><td>3</td></tr>",
                            "<tr><td>krisztina</td><td>GLS</td><td>149</td></tr>",
                            "<tr><td>NANDORF</td><td>GLS</td><td>147</td></tr>",
                            "<tr><td>RENATAS</td><td>GLS</td><td>6</td></tr>",
                            "<tr><td>tamara2</td><td>Posta</td><td>4</td></tr>",
                            "<tr><td>anita</td><td>Posta</td><td>2</td></tr>",
                            "<tr><td>timea2</td><td>Személyes átvétel</td><td>10</td></tr>",
                            "<tr><td>ZOLTANT</td><td>Személyes átvétel</td><td>123</td></tr>",
                            "<tr><td>andras3</td><td>Személyes átvétel</td><td>5</td></tr>",
                            "<tr><td>ZOLTANT</td><td>Posta</td><td>107</td></tr>",
                            "<tr><td>timea2</td><td>Posta</td><td>5</td></tr>",
                            "<tr><td>eszter2</td><td>Posta</td><td>136</td></tr>",
                            "<tr><td>attila4</td><td>Személyes átvétel</td><td>141</td></tr>",
                            "<tr><td>csongor3</td><td>Személyes átvétel</td><td>8</td></tr>",
                            "<tr><td>ZSOLTJ</td><td>GLS</td><td>1</td></tr>",
                            "<tr><td>timea</td><td>Posta</td><td>23</td></tr>",
                            "<tr><td>roland1</td><td>Posta</td><td>155</td></tr>",
                            "<tr><td>aniko4</td><td>Személyes átvétel</td><td>3</td></tr>",
                            "<tr><td>andrea</td><td>GLS</td><td>12</td></tr>",
                            "<tr><td>david</td><td>Posta</td><td>144</td></tr>",
                            "<tr><td>julia</td><td>Személyes átvétel</td><td>138</td></tr>",
                            "<tr><td>JANOSP</td><td>Posta</td><td>7</td></tr>",
                            "<tr><td>MATYASS</td><td>Posta</td><td>5</td></tr>",
                            "<tr><td>LASZLOA</td><td>GLS</td><td>156</td></tr>",
                            "<tr><td>zsuzsa3</td><td>Posta</td><td>5</td></tr>",
                            "<tr><td>ROBERTI</td><td>Személyes átvétel</td><td>5</td></tr>",
                            "<tr><td>henrik3</td><td>Posta</td><td>4</td></tr>",
                            "<tr><td>julia4</td><td>Posta</td><td>4</td></tr>",
                            "<tr><td>tamara2</td><td>GLS</td><td>6</td></tr>",
                            "<tr><td>andras2</td><td>Posta</td><td>7</td></tr>",
                            "<tr><td>aron2</td><td>Személyes átvétel</td><td>144</td></tr>",
                            "<tr><td>alexandra</td><td>Személyes átvétel</td><td>5</td></tr>",
                            "<tr><td>polla</td><td>GLS</td><td>9</td></tr>",
                            "<tr><td>kristof4</td><td>Személyes átvétel</td><td>8</td></tr>",
                            "<tr><td>balint</td><td>Személyes átvétel</td><td>2</td></tr>",
                            "<tr><td>daniel</td><td>Személyes átvétel</td><td>4</td></tr>",
                            "<tr><td>istvan</td><td>Posta</td><td>4</td></tr>",
                            "<tr><td>ZSUZSAV</td><td>Személyes átvétel</td><td>142</td></tr>",
                            "<tr><td>annamaria1</td><td>GLS</td><td>5</td></tr>",
                            "<tr><td>BERNADETTO</td><td>GLS</td><td>7</td></tr>",
                            "<tr><td>pal</td><td>Posta</td><td>132</td></tr>",
                            "<tr><td>ARONK</td><td>Posta</td><td>120</td></tr>",
                            "<tr><td>norbert4</td><td>GLS</td><td>1</td></tr>",
                            "<tr><td>kornel4</td><td>Posta</td><td>1</td></tr>",
                            "<tr><td>eva2</td><td>GLS</td><td>154</td></tr>",
                            "<tr><td>MATYASS</td><td>GLS</td><td>4</td></tr>",
                            "<tr><td>bernadett1</td><td>GLS</td><td>10</td></tr>",
                            "<tr><td>GYONGYIK</td><td>GLS</td><td>6</td></tr>",
                            "<tr><td>akos</td><td>Posta</td><td>143</td></tr>",
                            "<tr><td>peter3</td><td>Posta</td><td>7</td></tr>",
                            "<tr><td>sebestyen</td><td>Posta</td><td>6</td></tr>",
                            "<tr><td>BEATRIXK</td><td>GLS</td><td>135</td></tr>",
                            "<tr><td>dani</td><td>GLS</td><td>5</td></tr>",
                            "<tr><td>sandor4</td><td>Személyes átvétel</td><td>5</td></tr>",
                            "<tr><td>tamas</td><td>Személyes átvétel</td><td>122</td></tr>",
                            "<tr><td>VIKTORK</td><td>GLS</td><td>8</td></tr>",
                            "<tr><td>gabor4</td><td>Posta</td><td>9</td></tr>",
                            "<tr><td>maria1</td><td>Posta</td><td>5</td></tr>",
                            "<tr><td>balazs3</td><td>Posta</td><td>6</td></tr>",
                            "<tr><td>denes</td><td>Személyes átvétel</td><td>4</td></tr>",
                            "<tr><td>SZILARDS</td><td>Posta</td><td>131</td></tr>",
                            "<tr><td>ANNAMARIAR</td><td>GLS</td><td>8</td></tr>",
                            "<tr><td>miklos2</td><td>GLS</td><td>7</td></tr>",
                            "<tr><td>SZABOLCSM</td><td>Személyes átvétel</td><td>129</td></tr>",
                            "<tr><td>peter2</td><td>GLS</td><td>7</td></tr>",
                            "<tr><td>andrea4</td><td>GLS</td><td>7</td></tr>",
                            "<tr><td>tunde</td><td>GLS</td><td>6</td></tr>",
                            "<tr><td>VIKTORIAU</td><td>Személyes átvétel</td><td>5</td></tr>",
                            "<tr><td>ATTILAO</td><td>GLS</td><td>4</td></tr>",
                            "<tr><td>kriszti</td><td>GLS</td><td>3</td></tr>",
                            "<tr><td>ANDRASE</td><td>GLS</td><td>159</td></tr>",
                            "<tr><td>klaudia2</td><td>Személyes átvétel</td><td>5</td></tr>",
                            "<tr><td>klaudia2</td><td>Posta</td><td>9</td></tr>",
                            "<tr><td>jozsef</td><td>Személyes átvétel</td><td>134</td></tr>",
                            "<tr><td>PETERB</td><td>Személyes átvétel</td><td>9</td></tr>",
                            "<tr><td>eszter2</td><td>Személyes átvétel</td><td>152</td></tr>",
                            "<tr><td>ISTVANV</td><td>Személyes átvétel</td><td>8</td></tr>",
                            "<tr><td>ilona3</td><td>GLS</td><td>9</td></tr>",
                            "<tr><td>katalin</td><td>Személyes átvétel</td><td>5</td></tr>",
                            "<tr><td>ARONK</td><td>GLS</td><td>155</td></tr>",
                            "<tr><td>andras2</td><td>Személyes átvétel</td><td>11</td></tr>",
                            "<tr><td>brigitta</td><td>Posta</td><td>137</td></tr>",
                            "<tr><td>aniko4</td><td>Posta</td><td>6</td></tr>",
                            "<tr><td>MARKH</td><td>Személyes átvétel</td><td>142</td></tr>",
                            "<tr><td>david1</td><td>Posta</td><td>1</td></tr>",
                            "<tr><td>andrea3</td><td>Posta</td><td>136</td></tr>",
                            "<tr><td>zsuzsa3</td><td>Személyes átvétel</td><td>6</td></tr>",
                            "<tr><td>peter1</td><td>GLS</td><td>151</td></tr>",
                            "<tr><td>MARKH</td><td>Posta</td><td>142</td></tr>",
                            "<tr><td>andrea3</td><td>Személyes átvétel</td><td>146</td></tr>",
                            "<tr><td>andras21</td><td>Személyes átvétel</td><td>126</td></tr>",
                            "<tr><td>andras41</td><td>Posta</td><td>137</td></tr>",
                            "<tr><td>balazs1</td><td>Személyes átvétel</td><td>155</td></tr>",
                            "<tr><td>norbert5</td><td>GLS</td><td>1</td></tr>",
                            "<tr><td>lajos</td><td>Posta</td><td>2</td></tr>",
                            "<tr><td>miklos2</td><td>Személyes átvétel</td><td>2</td></tr>",
                            "<tr><td>vivien3</td><td>Posta</td><td>6</td></tr>",
                            "<tr><td>andras3</td><td>GLS</td><td>3</td></tr>",
                            "<tr><td>bence</td><td>GLS</td><td>4</td></tr>",
                            "<tr><td>julia4</td><td>Személyes átvétel</td><td>8</td></tr>",
                            "<tr><td>kornel4</td><td>Személyes átvétel</td><td>7</td></tr>",
                            "<tr><td>laszlo2</td><td>Posta</td><td>6</td></tr>",
                            "<tr><td>dora3</td><td>GLS</td><td>144</td></tr>",
                            "<tr><td>norbert2</td><td>GLS</td><td>7</td></tr>",
                            "<tr><td>gabriella1</td><td>Posta</td><td>4</td></tr>",
                            "<tr><td>aniko</td><td>Személyes átvétel</td><td>138</td></tr>",
                            "<tr><td>laszlo1</td><td>Posta</td><td>129</td></tr>",
                            "<tr><td>kristof4</td><td>Posta</td><td>4</td></tr>",
                            "<tr><td>krisztina1</td><td>GLS</td><td>10</td></tr>",
                            "<tr><td>ATTILAO</td><td>Személyes átvétel</td><td>6</td></tr>",
                            "<tr><td>BEATRIXS</td><td>GLS</td><td>146</td></tr>",
                            "<tr><td>peter3</td><td>Személyes átvétel</td><td>10</td></tr>",
                            "<tr><td>arpad2</td><td>Posta</td><td>1</td></tr>",
                            "<tr><td>ZSUZSAV</td><td>Posta</td><td>139</td></tr>",
                            "<tr><td>aron2</td><td>Posta</td><td>133</td></tr>",
                            "<tr><td>arpad2</td><td>Személyes átvétel</td><td>10</td></tr>",
                            "<tr><td>krisztian4</td><td>GLS</td><td>5</td></tr>",
                            "<tr><td>ROBERTP</td><td>GLS</td><td>8</td></tr>",
                            "<tr><td>SZILARDS</td><td>GLS</td><td>144</td></tr>",
                            "<tr><td>ARPADH</td><td>GLS</td><td>6</td></tr>",
                            "<tr><td>sebestyen</td><td>Személyes átvétel</td><td>6</td></tr>",
                            "<tr><td>debora</td><td>GLS</td><td>7</td></tr>",
                            "<tr><td>akos</td><td>Személyes átvétel</td><td>140</td></tr>",
                            "<tr><td>nikoletta4</td><td>Posta</td><td>158</td></tr>",
                            "<tr><td>lala</td><td>Posta</td><td>3</td></tr>",
                            "<tr><td>zsolt1</td><td>Személyes átvétel</td><td>3</td></tr>",
                            "<tr><td>GYORGYO</td><td>GLS</td><td>7</td></tr>",
                            "<tr><td>fruzsina4</td><td>Posta</td><td>3</td></tr>",
                            "<tr><td>MIKLOSB</td><td>Személyes átvétel</td><td>8</td></tr>",
                            "<tr><td>denes</td><td>Posta</td><td>2</td></tr>",
                            "<tr><td>imre1</td><td>Személyes átvétel</td><td>3</td></tr>",
                            "<tr><td>gabor4</td><td>Személyes átvétel</td><td>4</td></tr>",
                            "<tr><td>maria1</td><td>Személyes átvétel</td><td>1</td></tr>",
                            "<tr><td>nikolett3</td><td>GLS</td><td>4</td></tr>",
                            "<tr><td>peter4</td><td>GLS</td><td>266</td></tr>",
                            "<tr><td>zsuzsa</td><td>GLS</td><td>8</td></tr>",
                            "<tr><td>balint1</td><td>GLS</td><td>158</td></tr>",
                            "<tr><td>veronika4</td><td>Posta</td><td>6</td></tr>",
                            "<tr><td>andi</td><td>GLS</td><td>7</td></tr>",
                            "<tr><td>tamas</td><td>GLS</td><td>143</td></tr>",
                            "<tr><td>zoltan</td><td>GLS</td><td>5</td></tr>",
                            "<tr><td>sandor4</td><td>GLS</td><td>4</td></tr>",
                            "<tr><td>JANOSP</td><td>Személyes átvétel</td><td>3</td></tr>",
                            "<tr><td>attila4</td><td>Posta</td><td>125</td></tr>",
                            "<tr><td>bernadett2</td><td>GLS</td><td>6</td></tr>",
                            "<tr><td>david</td><td>Személyes átvétel</td><td>146</td></tr>",
                            "<tr><td>tibor2</td><td>GLS</td><td>7</td></tr>",
                            "<tr><td>adam3</td><td>Posta</td><td>3</td></tr>",
                            "<tr><td>agnes</td><td>GLS</td><td>144</td></tr>",
                            "<tr><td>timea</td><td>Személyes átvétel</td><td>18</td></tr>",
                            "<tr><td>zsuzsanna</td><td>GLS</td><td>7</td></tr>",
                            "<tr><td>istvan1</td><td>Posta</td><td>4</td></tr>",
                            "<tr><td>krisztian4</td><td>Posta</td><td>6</td></tr>",
                            "<tr><td>brigitta</td><td>Személyes átvétel</td><td>119</td></tr>",
                            "<tr><td>JUDITH</td><td>Posta</td><td>130</td></tr>",
                            "<tr><td>gusztav</td><td>GLS</td><td>5</td></tr>",
                            "<tr><td>adam3</td><td>Személyes átvétel</td><td>2</td></tr>",
                            "<tr><td>veronika4</td><td>Személyes átvétel</td><td>7</td></tr>",
                            "<tr><td>BELAF</td><td>Személyes átvétel</td><td>5</td></tr>",
                            "<tr><td>JUDITH</td><td>Személyes átvétel</td><td>150</td></tr>",
                            "<tr><td>tibor</td><td>GLS</td><td>115</td></tr>",
                            "</table>"
                        ]
                    }
                }
            ],
            "execution_count": 3
        },
        {
            "cell_type": "markdown",
            "source": [
                "2. <span style=\"background-color: rgb(255, 255, 255); color: rgb(0, 0, 0); font-family: &quot;Open Sans&quot;, sans-serif; font-size: 14.44px;\">Készítsünk listát a termékek számáról a következő csoportosítási szempontok szerint:<br>kategória azonosító, raktárkód, raktárkód+mennyiségi egység!</span>\n",
                "\n",
                "a. A listát szűrjük azokra a csoportokra, ahol a termékek száma legalább 6!"
            ],
            "metadata": {
                "azdata_cell_guid": "ea75c103-911f-41a3-a32c-3d40fb3e4e4a"
            },
            "attachments": {}
        },
        {
            "cell_type": "code",
            "source": [
                ""
            ],
            "metadata": {
                "azdata_cell_guid": "222b9618-a8e8-42b4-a8e8-d002257122b7",
                "language": "sql"
            },
            "outputs": [],
            "execution_count": null
        },
        {
            "cell_type": "markdown",
            "source": [
                "```\n",
                "3. Készítsünk listát az egyes termékkategóriákban lévő termékek számáról! \n",
                "\n",
                "```\n",
                "\n",
                "a. Elég megjeleníteni a kategóriák azonosítóit és a darabszámokat!   \n",
                "<span style=\"color: var(--vscode-foreground);\">b. A lista megfelelően jelölve tartalmazza a végösszeget is!&nbsp;<br></span> <span style=\"color: var(--vscode-foreground);\">c. Az oszlopokat nevezzük el értelemszerűen!&nbsp;<br></span> <span style=\"color: var(--vscode-foreground);\">d. A listát rendezzük a darabszám szerint növekvő sorrendbe!</span>\n",
                "\n",
                "  \n",
                "\n",
                "![](https://moodle.uni-corvinus.hu/theme/image.php/adaptable/atto_h5p/1709548862/icon)"
            ],
            "metadata": {
                "azdata_cell_guid": "d7876bb9-76d0-4d07-baed-3cb17b2f96c3"
            },
            "attachments": {}
        },
        {
            "cell_type": "code",
            "source": [
                "SELECT IIF(KAT_ID IS NULL, 'Összesen', CAST(KAT_ID AS NVARCHAR(5))), COUNT(*) AS 'DB'\r\n",
                "FROM Termek\r\n",
                "GROUP BY ROLLUP(KAT_ID)\r\n",
                "ORDER BY COUNT(*)"
            ],
            "metadata": {
                "azdata_cell_guid": "56ec19ce-e249-4551-b2a8-f17569765acc",
                "language": "sql"
            },
            "outputs": [
                {
                    "output_type": "display_data",
                    "data": {
                        "text/html": "(144 rows affected)"
                    },
                    "metadata": {}
                },
                {
                    "output_type": "display_data",
                    "data": {
                        "text/html": "Total execution time: 00:00:00.008"
                    },
                    "metadata": {}
                },
                {
                    "output_type": "execute_result",
                    "metadata": {},
                    "execution_count": 6,
                    "data": {
                        "application/vnd.dataresource+json": {
                            "schema": {
                                "fields": [
                                    {
                                        "name": "(No column name)"
                                    },
                                    {
                                        "name": "DB"
                                    }
                                ]
                            },
                            "data": [
                                {
                                    "(No column name)": "10",
                                    "DB": "1"
                                },
                                {
                                    "(No column name)": "11",
                                    "DB": "1"
                                },
                                {
                                    "(No column name)": "12",
                                    "DB": "1"
                                },
                                {
                                    "(No column name)": "15",
                                    "DB": "1"
                                },
                                {
                                    "(No column name)": "17",
                                    "DB": "1"
                                },
                                {
                                    "(No column name)": "26",
                                    "DB": "1"
                                },
                                {
                                    "(No column name)": "29",
                                    "DB": "1"
                                },
                                {
                                    "(No column name)": "31",
                                    "DB": "1"
                                },
                                {
                                    "(No column name)": "33",
                                    "DB": "1"
                                },
                                {
                                    "(No column name)": "34",
                                    "DB": "1"
                                },
                                {
                                    "(No column name)": "37",
                                    "DB": "1"
                                },
                                {
                                    "(No column name)": "38",
                                    "DB": "1"
                                },
                                {
                                    "(No column name)": "40",
                                    "DB": "1"
                                },
                                {
                                    "(No column name)": "42",
                                    "DB": "1"
                                },
                                {
                                    "(No column name)": "44",
                                    "DB": "1"
                                },
                                {
                                    "(No column name)": "50",
                                    "DB": "1"
                                },
                                {
                                    "(No column name)": "53",
                                    "DB": "1"
                                },
                                {
                                    "(No column name)": "61",
                                    "DB": "1"
                                },
                                {
                                    "(No column name)": "74",
                                    "DB": "1"
                                },
                                {
                                    "(No column name)": "80",
                                    "DB": "1"
                                },
                                {
                                    "(No column name)": "82",
                                    "DB": "1"
                                },
                                {
                                    "(No column name)": "84",
                                    "DB": "1"
                                },
                                {
                                    "(No column name)": "86",
                                    "DB": "1"
                                },
                                {
                                    "(No column name)": "99",
                                    "DB": "1"
                                },
                                {
                                    "(No column name)": "101",
                                    "DB": "1"
                                },
                                {
                                    "(No column name)": "103",
                                    "DB": "1"
                                },
                                {
                                    "(No column name)": "105",
                                    "DB": "1"
                                },
                                {
                                    "(No column name)": "107",
                                    "DB": "1"
                                },
                                {
                                    "(No column name)": "108",
                                    "DB": "1"
                                },
                                {
                                    "(No column name)": "109",
                                    "DB": "1"
                                },
                                {
                                    "(No column name)": "114",
                                    "DB": "1"
                                },
                                {
                                    "(No column name)": "115",
                                    "DB": "1"
                                },
                                {
                                    "(No column name)": "126",
                                    "DB": "1"
                                },
                                {
                                    "(No column name)": "130",
                                    "DB": "1"
                                },
                                {
                                    "(No column name)": "131",
                                    "DB": "1"
                                },
                                {
                                    "(No column name)": "132",
                                    "DB": "1"
                                },
                                {
                                    "(No column name)": "135",
                                    "DB": "1"
                                },
                                {
                                    "(No column name)": "139",
                                    "DB": "1"
                                },
                                {
                                    "(No column name)": "140",
                                    "DB": "1"
                                },
                                {
                                    "(No column name)": "142",
                                    "DB": "1"
                                },
                                {
                                    "(No column name)": "147",
                                    "DB": "1"
                                },
                                {
                                    "(No column name)": "148",
                                    "DB": "1"
                                },
                                {
                                    "(No column name)": "153",
                                    "DB": "1"
                                },
                                {
                                    "(No column name)": "155",
                                    "DB": "1"
                                },
                                {
                                    "(No column name)": "150",
                                    "DB": "2"
                                },
                                {
                                    "(No column name)": "144",
                                    "DB": "2"
                                },
                                {
                                    "(No column name)": "141",
                                    "DB": "2"
                                },
                                {
                                    "(No column name)": "136",
                                    "DB": "2"
                                },
                                {
                                    "(No column name)": "123",
                                    "DB": "2"
                                },
                                {
                                    "(No column name)": "134",
                                    "DB": "2"
                                },
                                {
                                    "(No column name)": "127",
                                    "DB": "2"
                                },
                                {
                                    "(No column name)": "128",
                                    "DB": "2"
                                },
                                {
                                    "(No column name)": "129",
                                    "DB": "2"
                                },
                                {
                                    "(No column name)": "116",
                                    "DB": "2"
                                },
                                {
                                    "(No column name)": "117",
                                    "DB": "2"
                                },
                                {
                                    "(No column name)": "112",
                                    "DB": "2"
                                },
                                {
                                    "(No column name)": "121",
                                    "DB": "2"
                                },
                                {
                                    "(No column name)": "110",
                                    "DB": "2"
                                },
                                {
                                    "(No column name)": "104",
                                    "DB": "2"
                                },
                                {
                                    "(No column name)": "94",
                                    "DB": "2"
                                },
                                {
                                    "(No column name)": "95",
                                    "DB": "2"
                                },
                                {
                                    "(No column name)": "88",
                                    "DB": "2"
                                },
                                {
                                    "(No column name)": "90",
                                    "DB": "2"
                                },
                                {
                                    "(No column name)": "92",
                                    "DB": "2"
                                },
                                {
                                    "(No column name)": "71",
                                    "DB": "2"
                                },
                                {
                                    "(No column name)": "72",
                                    "DB": "2"
                                },
                                {
                                    "(No column name)": "73",
                                    "DB": "2"
                                },
                                {
                                    "(No column name)": "75",
                                    "DB": "2"
                                },
                                {
                                    "(No column name)": "62",
                                    "DB": "2"
                                },
                                {
                                    "(No column name)": "55",
                                    "DB": "2"
                                },
                                {
                                    "(No column name)": "65",
                                    "DB": "2"
                                },
                                {
                                    "(No column name)": "67",
                                    "DB": "2"
                                },
                                {
                                    "(No column name)": "68",
                                    "DB": "2"
                                },
                                {
                                    "(No column name)": "57",
                                    "DB": "2"
                                },
                                {
                                    "(No column name)": "48",
                                    "DB": "2"
                                },
                                {
                                    "(No column name)": "49",
                                    "DB": "2"
                                },
                                {
                                    "(No column name)": "39",
                                    "DB": "2"
                                },
                                {
                                    "(No column name)": "22",
                                    "DB": "2"
                                },
                                {
                                    "(No column name)": "18",
                                    "DB": "2"
                                },
                                {
                                    "(No column name)": "9",
                                    "DB": "2"
                                },
                                {
                                    "(No column name)": "13",
                                    "DB": "2"
                                },
                                {
                                    "(No column name)": "5",
                                    "DB": "3"
                                },
                                {
                                    "(No column name)": "7",
                                    "DB": "3"
                                },
                                {
                                    "(No column name)": "8",
                                    "DB": "3"
                                },
                                {
                                    "(No column name)": "20",
                                    "DB": "3"
                                },
                                {
                                    "(No column name)": "27",
                                    "DB": "3"
                                },
                                {
                                    "(No column name)": "32",
                                    "DB": "3"
                                },
                                {
                                    "(No column name)": "43",
                                    "DB": "3"
                                },
                                {
                                    "(No column name)": "58",
                                    "DB": "3"
                                },
                                {
                                    "(No column name)": "51",
                                    "DB": "3"
                                },
                                {
                                    "(No column name)": "70",
                                    "DB": "3"
                                },
                                {
                                    "(No column name)": "89",
                                    "DB": "3"
                                },
                                {
                                    "(No column name)": "111",
                                    "DB": "3"
                                },
                                {
                                    "(No column name)": "119",
                                    "DB": "3"
                                },
                                {
                                    "(No column name)": "137",
                                    "DB": "3"
                                },
                                {
                                    "(No column name)": "143",
                                    "DB": "3"
                                },
                                {
                                    "(No column name)": "151",
                                    "DB": "4"
                                },
                                {
                                    "(No column name)": "154",
                                    "DB": "4"
                                },
                                {
                                    "(No column name)": "125",
                                    "DB": "4"
                                },
                                {
                                    "(No column name)": "79",
                                    "DB": "4"
                                },
                                {
                                    "(No column name)": "98",
                                    "DB": "4"
                                },
                                {
                                    "(No column name)": "56",
                                    "DB": "4"
                                },
                                {
                                    "(No column name)": "64",
                                    "DB": "4"
                                },
                                {
                                    "(No column name)": "59",
                                    "DB": "4"
                                },
                                {
                                    "(No column name)": "47",
                                    "DB": "4"
                                },
                                {
                                    "(No column name)": "25",
                                    "DB": "4"
                                },
                                {
                                    "(No column name)": "14",
                                    "DB": "4"
                                },
                                {
                                    "(No column name)": "21",
                                    "DB": "5"
                                },
                                {
                                    "(No column name)": "36",
                                    "DB": "5"
                                },
                                {
                                    "(No column name)": "28",
                                    "DB": "5"
                                },
                                {
                                    "(No column name)": "60",
                                    "DB": "5"
                                },
                                {
                                    "(No column name)": "76",
                                    "DB": "5"
                                },
                                {
                                    "(No column name)": "106",
                                    "DB": "5"
                                },
                                {
                                    "(No column name)": "138",
                                    "DB": "5"
                                },
                                {
                                    "(No column name)": "133",
                                    "DB": "6"
                                },
                                {
                                    "(No column name)": "152",
                                    "DB": "6"
                                },
                                {
                                    "(No column name)": "149",
                                    "DB": "6"
                                },
                                {
                                    "(No column name)": "83",
                                    "DB": "6"
                                },
                                {
                                    "(No column name)": "54",
                                    "DB": "6"
                                },
                                {
                                    "(No column name)": "46",
                                    "DB": "7"
                                },
                                {
                                    "(No column name)": "66",
                                    "DB": "7"
                                },
                                {
                                    "(No column name)": "24",
                                    "DB": "7"
                                },
                                {
                                    "(No column name)": "30",
                                    "DB": "7"
                                },
                                {
                                    "(No column name)": "35",
                                    "DB": "7"
                                },
                                {
                                    "(No column name)": "16",
                                    "DB": "7"
                                },
                                {
                                    "(No column name)": "146",
                                    "DB": "7"
                                },
                                {
                                    "(No column name)": "122",
                                    "DB": "7"
                                },
                                {
                                    "(No column name)": "93",
                                    "DB": "7"
                                },
                                {
                                    "(No column name)": "91",
                                    "DB": "7"
                                },
                                {
                                    "(No column name)": "100",
                                    "DB": "9"
                                },
                                {
                                    "(No column name)": "96",
                                    "DB": "9"
                                },
                                {
                                    "(No column name)": "118",
                                    "DB": "9"
                                },
                                {
                                    "(No column name)": "97",
                                    "DB": "10"
                                },
                                {
                                    "(No column name)": "124",
                                    "DB": "10"
                                },
                                {
                                    "(No column name)": "45",
                                    "DB": "11"
                                },
                                {
                                    "(No column name)": "41",
                                    "DB": "13"
                                },
                                {
                                    "(No column name)": "4",
                                    "DB": "15"
                                },
                                {
                                    "(No column name)": "85",
                                    "DB": "16"
                                },
                                {
                                    "(No column name)": "145",
                                    "DB": "18"
                                },
                                {
                                    "(No column name)": "19",
                                    "DB": "19"
                                },
                                {
                                    "(No column name)": "6",
                                    "DB": "20"
                                },
                                {
                                    "(No column name)": "78",
                                    "DB": "24"
                                },
                                {
                                    "(No column name)": "52",
                                    "DB": "26"
                                },
                                {
                                    "(No column name)": "Összesen",
                                    "DB": "551"
                                }
                            ]
                        },
                        "text/html": [
                            "<table>",
                            "<tr><th>(No column name)</th><th>DB</th></tr>",
                            "<tr><td>10</td><td>1</td></tr>",
                            "<tr><td>11</td><td>1</td></tr>",
                            "<tr><td>12</td><td>1</td></tr>",
                            "<tr><td>15</td><td>1</td></tr>",
                            "<tr><td>17</td><td>1</td></tr>",
                            "<tr><td>26</td><td>1</td></tr>",
                            "<tr><td>29</td><td>1</td></tr>",
                            "<tr><td>31</td><td>1</td></tr>",
                            "<tr><td>33</td><td>1</td></tr>",
                            "<tr><td>34</td><td>1</td></tr>",
                            "<tr><td>37</td><td>1</td></tr>",
                            "<tr><td>38</td><td>1</td></tr>",
                            "<tr><td>40</td><td>1</td></tr>",
                            "<tr><td>42</td><td>1</td></tr>",
                            "<tr><td>44</td><td>1</td></tr>",
                            "<tr><td>50</td><td>1</td></tr>",
                            "<tr><td>53</td><td>1</td></tr>",
                            "<tr><td>61</td><td>1</td></tr>",
                            "<tr><td>74</td><td>1</td></tr>",
                            "<tr><td>80</td><td>1</td></tr>",
                            "<tr><td>82</td><td>1</td></tr>",
                            "<tr><td>84</td><td>1</td></tr>",
                            "<tr><td>86</td><td>1</td></tr>",
                            "<tr><td>99</td><td>1</td></tr>",
                            "<tr><td>101</td><td>1</td></tr>",
                            "<tr><td>103</td><td>1</td></tr>",
                            "<tr><td>105</td><td>1</td></tr>",
                            "<tr><td>107</td><td>1</td></tr>",
                            "<tr><td>108</td><td>1</td></tr>",
                            "<tr><td>109</td><td>1</td></tr>",
                            "<tr><td>114</td><td>1</td></tr>",
                            "<tr><td>115</td><td>1</td></tr>",
                            "<tr><td>126</td><td>1</td></tr>",
                            "<tr><td>130</td><td>1</td></tr>",
                            "<tr><td>131</td><td>1</td></tr>",
                            "<tr><td>132</td><td>1</td></tr>",
                            "<tr><td>135</td><td>1</td></tr>",
                            "<tr><td>139</td><td>1</td></tr>",
                            "<tr><td>140</td><td>1</td></tr>",
                            "<tr><td>142</td><td>1</td></tr>",
                            "<tr><td>147</td><td>1</td></tr>",
                            "<tr><td>148</td><td>1</td></tr>",
                            "<tr><td>153</td><td>1</td></tr>",
                            "<tr><td>155</td><td>1</td></tr>",
                            "<tr><td>150</td><td>2</td></tr>",
                            "<tr><td>144</td><td>2</td></tr>",
                            "<tr><td>141</td><td>2</td></tr>",
                            "<tr><td>136</td><td>2</td></tr>",
                            "<tr><td>123</td><td>2</td></tr>",
                            "<tr><td>134</td><td>2</td></tr>",
                            "<tr><td>127</td><td>2</td></tr>",
                            "<tr><td>128</td><td>2</td></tr>",
                            "<tr><td>129</td><td>2</td></tr>",
                            "<tr><td>116</td><td>2</td></tr>",
                            "<tr><td>117</td><td>2</td></tr>",
                            "<tr><td>112</td><td>2</td></tr>",
                            "<tr><td>121</td><td>2</td></tr>",
                            "<tr><td>110</td><td>2</td></tr>",
                            "<tr><td>104</td><td>2</td></tr>",
                            "<tr><td>94</td><td>2</td></tr>",
                            "<tr><td>95</td><td>2</td></tr>",
                            "<tr><td>88</td><td>2</td></tr>",
                            "<tr><td>90</td><td>2</td></tr>",
                            "<tr><td>92</td><td>2</td></tr>",
                            "<tr><td>71</td><td>2</td></tr>",
                            "<tr><td>72</td><td>2</td></tr>",
                            "<tr><td>73</td><td>2</td></tr>",
                            "<tr><td>75</td><td>2</td></tr>",
                            "<tr><td>62</td><td>2</td></tr>",
                            "<tr><td>55</td><td>2</td></tr>",
                            "<tr><td>65</td><td>2</td></tr>",
                            "<tr><td>67</td><td>2</td></tr>",
                            "<tr><td>68</td><td>2</td></tr>",
                            "<tr><td>57</td><td>2</td></tr>",
                            "<tr><td>48</td><td>2</td></tr>",
                            "<tr><td>49</td><td>2</td></tr>",
                            "<tr><td>39</td><td>2</td></tr>",
                            "<tr><td>22</td><td>2</td></tr>",
                            "<tr><td>18</td><td>2</td></tr>",
                            "<tr><td>9</td><td>2</td></tr>",
                            "<tr><td>13</td><td>2</td></tr>",
                            "<tr><td>5</td><td>3</td></tr>",
                            "<tr><td>7</td><td>3</td></tr>",
                            "<tr><td>8</td><td>3</td></tr>",
                            "<tr><td>20</td><td>3</td></tr>",
                            "<tr><td>27</td><td>3</td></tr>",
                            "<tr><td>32</td><td>3</td></tr>",
                            "<tr><td>43</td><td>3</td></tr>",
                            "<tr><td>58</td><td>3</td></tr>",
                            "<tr><td>51</td><td>3</td></tr>",
                            "<tr><td>70</td><td>3</td></tr>",
                            "<tr><td>89</td><td>3</td></tr>",
                            "<tr><td>111</td><td>3</td></tr>",
                            "<tr><td>119</td><td>3</td></tr>",
                            "<tr><td>137</td><td>3</td></tr>",
                            "<tr><td>143</td><td>3</td></tr>",
                            "<tr><td>151</td><td>4</td></tr>",
                            "<tr><td>154</td><td>4</td></tr>",
                            "<tr><td>125</td><td>4</td></tr>",
                            "<tr><td>79</td><td>4</td></tr>",
                            "<tr><td>98</td><td>4</td></tr>",
                            "<tr><td>56</td><td>4</td></tr>",
                            "<tr><td>64</td><td>4</td></tr>",
                            "<tr><td>59</td><td>4</td></tr>",
                            "<tr><td>47</td><td>4</td></tr>",
                            "<tr><td>25</td><td>4</td></tr>",
                            "<tr><td>14</td><td>4</td></tr>",
                            "<tr><td>21</td><td>5</td></tr>",
                            "<tr><td>36</td><td>5</td></tr>",
                            "<tr><td>28</td><td>5</td></tr>",
                            "<tr><td>60</td><td>5</td></tr>",
                            "<tr><td>76</td><td>5</td></tr>",
                            "<tr><td>106</td><td>5</td></tr>",
                            "<tr><td>138</td><td>5</td></tr>",
                            "<tr><td>133</td><td>6</td></tr>",
                            "<tr><td>152</td><td>6</td></tr>",
                            "<tr><td>149</td><td>6</td></tr>",
                            "<tr><td>83</td><td>6</td></tr>",
                            "<tr><td>54</td><td>6</td></tr>",
                            "<tr><td>46</td><td>7</td></tr>",
                            "<tr><td>66</td><td>7</td></tr>",
                            "<tr><td>24</td><td>7</td></tr>",
                            "<tr><td>30</td><td>7</td></tr>",
                            "<tr><td>35</td><td>7</td></tr>",
                            "<tr><td>16</td><td>7</td></tr>",
                            "<tr><td>146</td><td>7</td></tr>",
                            "<tr><td>122</td><td>7</td></tr>",
                            "<tr><td>93</td><td>7</td></tr>",
                            "<tr><td>91</td><td>7</td></tr>",
                            "<tr><td>100</td><td>9</td></tr>",
                            "<tr><td>96</td><td>9</td></tr>",
                            "<tr><td>118</td><td>9</td></tr>",
                            "<tr><td>97</td><td>10</td></tr>",
                            "<tr><td>124</td><td>10</td></tr>",
                            "<tr><td>45</td><td>11</td></tr>",
                            "<tr><td>41</td><td>13</td></tr>",
                            "<tr><td>4</td><td>15</td></tr>",
                            "<tr><td>85</td><td>16</td></tr>",
                            "<tr><td>145</td><td>18</td></tr>",
                            "<tr><td>19</td><td>19</td></tr>",
                            "<tr><td>6</td><td>20</td></tr>",
                            "<tr><td>78</td><td>24</td></tr>",
                            "<tr><td>52</td><td>26</td></tr>",
                            "<tr><td>Összesen</td><td>551</td></tr>",
                            "</table>"
                        ]
                    }
                }
            ],
            "execution_count": 6
        },
        {
            "cell_type": "markdown",
            "source": [
                "4. <span style=\"background-color: rgb(255, 255, 255); color: rgb(0, 0, 0); font-family: &quot;Open Sans&quot;, sans-serif; font-size: 14.44px;\">Készítsünk listát az ügyfelek számáról születési év szerint, azon belül nem szerinti bontásban!&nbsp;</span> \n",
                "\n",
                "a. A lista megfelelően jelölve tartalmazza a részösszegeket és a végösszeget is!  \n",
                "b. Az oszlopoknak adjunk nevet értelemszerűen!"
            ],
            "metadata": {
                "azdata_cell_guid": "8e7fef82-8022-49a0-8255-fc2846c2134b"
            },
            "attachments": {}
        },
        {
            "cell_type": "code",
            "source": [
                ""
            ],
            "metadata": {
                "azdata_cell_guid": "36f7b396-4a1f-45e5-8720-2302537c91bc",
                "language": "sql"
            },
            "outputs": [],
            "execution_count": null
        },
        {
            "cell_type": "markdown",
            "source": [
                "5. <span style=\"background-color: rgb(255, 255, 255); color: rgb(0, 0, 0); font-family: &quot;Open Sans&quot;, sans-serif; font-size: 14.44px;\">Készítsünk listát a termékek számáról a felvitel hónapja, azon belül napja szerint csoportosítva.&nbsp;</span> \n",
                "\n",
                "a. A lista csak a részösszegeket és a végösszeget tartalmazza!  \n",
                "b. Az oszlopoknak adjunk megfelelő nevet!  \n",
                "c. Ötlet: HAVING + GROUPING\\_ID fv együttes használata"
            ],
            "metadata": {
                "azdata_cell_guid": "84239ca2-6b5e-49f5-9860-d44c11d6de32"
            },
            "attachments": {}
        },
        {
            "cell_type": "code",
            "source": [
                ""
            ],
            "metadata": {
                "azdata_cell_guid": "06d9a62b-9430-424b-a135-d80e675f0eb3",
                "language": "sql"
            },
            "outputs": [],
            "execution_count": null
        }
    ]
}